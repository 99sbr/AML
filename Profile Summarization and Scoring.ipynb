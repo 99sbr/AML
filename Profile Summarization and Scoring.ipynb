{
 "cells": [
  {
   "cell_type": "markdown",
   "metadata": {
    "slideshow": {
     "slide_type": "slide"
    }
   },
   "source": [
    "### Import Libraries and Models"
   ]
  },
  {
   "cell_type": "code",
   "execution_count": 90,
   "metadata": {
    "ExecuteTime": {
     "end_time": "2020-05-05T10:42:38.632945Z",
     "start_time": "2020-05-05T10:42:23.343619Z"
    },
    "slideshow": {
     "slide_type": "slide"
    }
   },
   "outputs": [
    {
     "name": "stderr",
     "output_type": "stream",
     "text": [
      "2020-05-05 16:12:23 INFO: Loading these models for language: en (English):\n",
      "=========================\n",
      "| Processor | Package   |\n",
      "-------------------------\n",
      "| tokenize  | ewt       |\n",
      "| pos       | ewt       |\n",
      "| lemma     | ewt       |\n",
      "| depparse  | ewt       |\n",
      "| ner       | ontonotes |\n",
      "=========================\n",
      "\n",
      "2020-05-05 16:12:23 INFO: Use device: cpu\n",
      "2020-05-05 16:12:23 INFO: Loading: tokenize\n",
      "2020-05-05 16:12:23 INFO: Loading: pos\n",
      "2020-05-05 16:12:24 INFO: Loading: lemma\n",
      "2020-05-05 16:12:24 INFO: Loading: depparse\n",
      "2020-05-05 16:12:25 INFO: Loading: ner\n",
      "2020-05-05 16:12:26 INFO: Done loading processors!\n"
     ]
    }
   ],
   "source": [
    "from pprint import pprint\n",
    "from spacy_stanza import StanzaLanguage\n",
    "import stanza\n",
    "import spacy\n",
    "import nltk\n",
    "import tensorflow as tf\n",
    "import re\n",
    "import random\n",
    "from nltk.corpus import stopwords\n",
    "from nltk.cluster.util import cosine_distance\n",
    "import numpy as np\n",
    "import networkx as nx\n",
    "import requests\n",
    "from bs4 import BeautifulSoup\n",
    "import html2text\n",
    "from summarizer import Summarizer\n",
    "from textblob import TextBlob\n",
    "stop_words = stopwords.words('english')\n",
    "snlp = stanza.Pipeline(lang=\"en\")\n",
    "stanza_nlp = StanzaLanguage(snlp)\n",
    "spacy_nlp = spacy.load('en_core_web_lg')"
   ]
  },
  {
   "cell_type": "markdown",
   "metadata": {
    "slideshow": {
     "slide_type": "slide"
    }
   },
   "source": [
    "### Defining Client Profile Summary from Documentum"
   ]
  },
  {
   "cell_type": "code",
   "execution_count": 2,
   "metadata": {
    "ExecuteTime": {
     "end_time": "2020-05-05T05:02:12.561936Z",
     "start_time": "2020-05-05T05:02:12.479904Z"
    },
    "slideshow": {
     "slide_type": "slide"
    }
   },
   "outputs": [],
   "source": [
    "fromkyc = \"Holding company activities and collection center for FICOFI which is engaged in Import, Distribution and Sales of wines\\\n",
    "and spirits. The group has also centralized its operations in Singapore and setup a global treasury/ collection centre based here.\\\n",
    "The primary reason for this decision was that the group has lot of suppliers and clients who are commoon across various entities. When the\\\n",
    "cliens make payments they usually make one lumpsum payment for various invoices. To ensure that they streamline the process for their clients,\\\n",
    "ficofi has decides that they will start with centraliznig the collecttion process- collect funds from clients into accounts with SG.\"\n",
    "\n",
    "kyc_doc = spacy_nlp(fromkyc.strip())"
   ]
  },
  {
   "cell_type": "markdown",
   "metadata": {
    "slideshow": {
     "slide_type": "slide"
    }
   },
   "source": [
    "### Source URL list to crawl"
   ]
  },
  {
   "cell_type": "code",
   "execution_count": 109,
   "metadata": {
    "ExecuteTime": {
     "end_time": "2020-05-05T11:30:58.666716Z",
     "start_time": "2020-05-05T11:30:58.663029Z"
    },
    "slideshow": {
     "slide_type": "slide"
    }
   },
   "outputs": [],
   "source": [
    "source_url_list = [ \"https://recordowl.com/company/ficofi-partners-holding-pte-ltd\",\n",
    "        \"https://www.emis.com/php/company-profile/SG/Ficofi_Partners_Holding_Pte_Ltd_en_6690179.html\",\n",
    "        \"https://www.timesbusinessdirectory.com/companies/ficofi-partners-holding-pte-ltd\",\n",
    "        \"https://opengovsg.com/corporate/201309826H\",\n",
    "        \"https://www.singaporecontacts.com/companies/ficofi-partners-holding-pte-ltd-singapore/84b81fc9-5b2b-e993-a43e-5b4acb7e0366\",\n",
    "        \"https://singapore-corp.com/co/ficofi-partners-holding-pte-ltd\"\n",
    "]"
   ]
  },
  {
   "cell_type": "markdown",
   "metadata": {
    "slideshow": {
     "slide_type": "slide"
    }
   },
   "source": [
    "### HTML Parsing and Text Cleaning"
   ]
  },
  {
   "cell_type": "code",
   "execution_count": 110,
   "metadata": {
    "ExecuteTime": {
     "end_time": "2020-05-05T11:31:01.854101Z",
     "start_time": "2020-05-05T11:31:01.785610Z"
    },
    "slideshow": {
     "slide_type": "slide"
    }
   },
   "outputs": [],
   "source": [
    "def text_cleaning(raw_text):\n",
    "    raw_text_list = raw_text.split('\\n')\n",
    "#     raw_text_list = [\n",
    "#         token for token in raw_text_list if token not in stop_words\n",
    "#     ]\n",
    "    clean_sent_list = [\n",
    "        re.sub('[^A-Za-z0-9]+\\.-/', '', token) for token in raw_text_list\n",
    "        if bool(token)\n",
    "    ]\n",
    "    clean_sent = ' '.join(clean_sent_list)\n",
    "    clean_sent = ' '.join(clean_sent.split())\n",
    "    doc = stanza_nlp(clean_sent)\n",
    "\n",
    "    spacy_text_list = []\n",
    "    for sent in doc.sents:\n",
    "        spacy_text_list.append(sent.text)\n",
    "    import random\n",
    "    #     spacy_text_list = random.sample(spacy_text_list, len(spacy_text_list))\n",
    "    return spacy_text_list\n",
    "\n",
    "\n",
    "def tag2text(tag):\n",
    "\n",
    "    if tag.name == 'p':\n",
    "        return tag.text\n",
    "\n",
    "\n",
    "def parse_article(text):\n",
    "    soup = BeautifulSoup(text, 'html.parser')\n",
    "\n",
    "    # find the article title\n",
    "    h1 = soup.find('h1')\n",
    "\n",
    "    # find the common parent for <h1> and all <p>s.\n",
    "    root = h1\n",
    "    while root.name != 'body':\n",
    "        if root.parent == None:\n",
    "            break\n",
    "        root = root.parent\n",
    "\n",
    "    # find all the content elements.\n",
    "    ps = root.find_all(['h2', 'h3', 'h4', 'h5', 'h6', 'p', 'pre'])\n",
    "    ps.insert(0, h1)\n",
    "    content = [tag2text(p) for p in ps]\n",
    "    content = [x for x in content if bool(x)]\n",
    "    return content"
   ]
  },
  {
   "cell_type": "markdown",
   "metadata": {
    "slideshow": {
     "slide_type": "slide"
    }
   },
   "source": [
    "### Creating Corpus of Information from WEB"
   ]
  },
  {
   "cell_type": "code",
   "execution_count": 111,
   "metadata": {
    "ExecuteTime": {
     "end_time": "2020-05-05T11:31:04.978741Z",
     "start_time": "2020-05-05T11:31:04.952364Z"
    },
    "slideshow": {
     "slide_type": "slide"
    }
   },
   "outputs": [],
   "source": [
    "def gather_content_data(url_list):\n",
    "    assert len(url_list) > 0\n",
    "    corpus = []\n",
    "    for url in url_list:\n",
    "        print(url)\n",
    "        content = parse_article(requests.get(url).text)\n",
    "        if bool(content):\n",
    "            corpus.append(' '.join(content))\n",
    "    spacy_text_list = text_cleaning(' '.join(corpus))\n",
    "    return ' '.join(spacy_text_list)"
   ]
  },
  {
   "cell_type": "code",
   "execution_count": 112,
   "metadata": {
    "ExecuteTime": {
     "end_time": "2020-05-05T11:31:18.270998Z",
     "start_time": "2020-05-05T11:31:05.428927Z"
    },
    "slideshow": {
     "slide_type": "slide"
    }
   },
   "outputs": [
    {
     "name": "stdout",
     "output_type": "stream",
     "text": [
      "https://recordowl.com/company/ficofi-partners-holding-pte-ltd\n",
      "https://www.emis.com/php/company-profile/SG/Ficofi_Partners_Holding_Pte_Ltd_en_6690179.html\n",
      "https://www.timesbusinessdirectory.com/companies/ficofi-partners-holding-pte-ltd\n",
      "https://opengovsg.com/corporate/201309826H\n",
      "https://www.singaporecontacts.com/companies/ficofi-partners-holding-pte-ltd-singapore/84b81fc9-5b2b-e993-a43e-5b4acb7e0366\n",
      "https://singapore-corp.com/co/ficofi-partners-holding-pte-ltd\n"
     ]
    }
   ],
   "source": [
    "corpus = gather_content_data(url_list=source_url_list)"
   ]
  },
  {
   "cell_type": "code",
   "execution_count": 128,
   "metadata": {
    "ExecuteTime": {
     "end_time": "2020-05-05T18:17:36.634480Z",
     "start_time": "2020-05-05T18:17:36.615617Z"
    }
   },
   "outputs": [
    {
     "data": {
      "text/plain": [
       "'Registration No. / Unique Entity Number: 201309826H FICOFI PARTNERS HOLDING PTE. LTD. (the \"Company\") The Company is a PRIVATE COMPANY LIMITED BY SHARES and it\\'s current status is Live Company. The company was registered / incorporated on 12 April 2013 (Friday), 7 years ago The address of this company registered office is 25 INTERNATIONAL BUSINESS PARK #03-01/02 GERMAN CENTRE SINGAPORE 609916 The company has 7 officers / owners / shareholders. The company principal activity is OTHER HOLDING COMPANIES. The company secondary activity is MANAGEMENT CONSULTANCY SERVICES N.E.C.. Ficofi Partners Holding Pte. Ltd. is an enterprise located in Singapore, with the main office in Singapore. It operates in the Management of Companies and Enterprises sector. It was incorporated on April 12, 2013. Headquarters 25 International Business Park #03-01/02 German Centre Singapore 609916 Singapore; Singapore; Postal Code: 609916 Contact Details: Purchase the Ficofi Partners Holding Pte. Ltd. report to view the information. EMIS company profiles are part of a larger information service which combines company, industry and country data and analysis for over 145 emerging markets. To view more information, Request a demonstration of the EMIS service FICOFI PARTNERS HOLDING PTE LTD 25 International Business Park #03-01/02 German Centre Singapore 609916 Copyright © 2020. Marshall Cavendish Business Information Pte Ltd. All Rights Reserved. FICOFI PARTNERS HOLDING PTE. LTD. (UEN ID 201309826H) is a corporate entity registered with Accounting and Corporate Regulatory Authority. The UEN issue date is April 13, 2013. The entity status is Live Company. Please comment or provide details below to improve the information on . This dataset includes 1.5 million corporate entities registered with Accounting and Corporate Regulatory Authority (ACRA), Singapore. Each entity is registered with unique entity number (UEN), entity name, entity time, UEN issue date, location, etc. HOT LEADS / LISTS HR Managers eMail Lists HR Managers Database HR-VP, Directors Database Finance Managers eMail Lists Finance Managers Database IT Managers eMail Lists IT Managers Database CIO / CTO Database CFO / Director - Finance eMail Lists CFO / Director - Finance Database Sales Managers eMail Lists Sales Managers Database Sales-VP, Director Database CEO, President, MD eMail Lists Directors (Share Holding) eMail Lists Marketing Managers eMail Lists Marketing Managers Database Marketing-VP, Director Database CEO, President, MD Database Directors (Share Holding) Database Home | Enquiry | FAQ | Contact Copyright © 2020 Singapore Contacts. All Rights Reserved.'"
      ]
     },
     "execution_count": 128,
     "metadata": {},
     "output_type": "execute_result"
    }
   ],
   "source": [
    "corpus"
   ]
  },
  {
   "cell_type": "markdown",
   "metadata": {
    "slideshow": {
     "slide_type": "slide"
    }
   },
   "source": [
    "### BERT based Text Summarization"
   ]
  },
  {
   "cell_type": "code",
   "execution_count": 114,
   "metadata": {
    "ExecuteTime": {
     "end_time": "2020-05-05T11:31:38.159873Z",
     "start_time": "2020-05-05T11:31:27.241334Z"
    },
    "slideshow": {
     "slide_type": "slide"
    }
   },
   "outputs": [],
   "source": [
    "model = Summarizer()"
   ]
  },
  {
   "cell_type": "code",
   "execution_count": 129,
   "metadata": {
    "ExecuteTime": {
     "end_time": "2020-05-05T18:17:47.220275Z",
     "start_time": "2020-05-05T18:17:39.840211Z"
    },
    "slideshow": {
     "slide_type": "slide"
    }
   },
   "outputs": [
    {
     "name": "stdout",
     "output_type": "stream",
     "text": [
      "Unique Entity Number: 201309826H FICOFI PARTNERS HOLDING PTE. The company was registered / incorporated on 12 April 2013 (Friday), 7 years ago The address of this company registered office is 25 INTERNATIONAL BUSINESS PARK #03-01/02 GERMAN CENTRE SINGAPORE 609916 The company has 7 officers / owners / shareholders. Ltd. is an enterprise located in Singapore, with the main office in Singapore. It was incorporated on April 12, 2013. Ltd. report to view the information. EMIS company profiles are part of a larger information service which combines company, industry and country data and analysis for over 145 emerging markets. To view more information, Request a demonstration of the EMIS service FICOFI PARTNERS HOLDING PTE LTD 25 International Business Park #03-01/02 German Centre Singapore 609916 Copyright © 2020. Marshall Cavendish Business Information Pte Ltd. All Rights Reserved. The entity status is Live Company. Please comment or provide details below to improve the information on . HOT LEADS / LISTS HR Managers eMail Lists HR Managers Database HR-VP, Directors Database Finance Managers eMail Lists Finance Managers Database IT Managers eMail Lists IT Managers Database CIO / CTO Database CFO / Director - Finance eMail Lists CFO / Director - Finance Database Sales Managers eMail Lists Sales Managers Database Sales-VP, Director Database CEO, President, MD eMail Lists Directors (Share Holding) eMail Lists Marketing Managers eMail Lists Marketing Managers Database Marketing-VP, Director Database CEO, President, MD Database Directors (Share Holding) Database Home | Enquiry | FAQ | Contact Copyright © 2020 Singapore Contacts.\n",
      "\n",
      " Polarity of Article: 0.14280303030303027\n"
     ]
    }
   ],
   "source": [
    "result = model(corpus, min_length=30, algorithm='gmm',ratio=0.5, max_length=len(corpus))\n",
    "full = ''.join(result)\n",
    "print(full)\n",
    "testimonial = TextBlob(full)\n",
    "print('\\n Polarity of Article:', testimonial.sentiment.polarity)"
   ]
  },
  {
   "cell_type": "markdown",
   "metadata": {
    "slideshow": {
     "slide_type": "slide"
    }
   },
   "source": [
    "### Similarity Score Calculation using spaCy"
   ]
  },
  {
   "cell_type": "code",
   "execution_count": 116,
   "metadata": {
    "ExecuteTime": {
     "end_time": "2020-05-05T11:32:07.485596Z",
     "start_time": "2020-05-05T11:32:06.874694Z"
    },
    "slideshow": {
     "slide_type": "slide"
    }
   },
   "outputs": [
    {
     "name": "stdout",
     "output_type": "stream",
     "text": [
      "The Similarity Score of Summarized Text is:  88.07950034132232\n"
     ]
    }
   ],
   "source": [
    "extraction = spacy_nlp(full)\n",
    "similarity_score = extraction.similarity(kyc_doc)\n",
    "print('The Similarity Score of Summarized Text is: ', similarity_score*100)"
   ]
  },
  {
   "cell_type": "code",
   "execution_count": 63,
   "metadata": {
    "ExecuteTime": {
     "end_time": "2020-05-05T09:30:39.118204Z",
     "start_time": "2020-05-05T09:30:39.108170Z"
    }
   },
   "outputs": [
    {
     "data": {
      "text/plain": [
       "'\\nChina Sci-Tech Holdings Ltd\\nAmerican express singapore\\nDHL Express singapore\\nHitachi captial asia pacific pvt ltd\\n'"
      ]
     },
     "execution_count": 63,
     "metadata": {},
     "output_type": "execute_result"
    }
   ],
   "source": [
    "\"\"\"\n",
    "China Sci-Tech Holdings Ltd\n",
    "American express singapore\n",
    "DHL Express singapore\n",
    "Hitachi captial asia pacific pvt ltd\n",
    "\"\"\""
   ]
  },
  {
   "cell_type": "markdown",
   "metadata": {
    "slideshow": {
     "slide_type": "slide"
    }
   },
   "source": [
    "### Hitting Profile Summarizarion API"
   ]
  },
  {
   "cell_type": "code",
   "execution_count": 81,
   "metadata": {
    "ExecuteTime": {
     "end_time": "2020-05-05T10:04:24.887209Z",
     "start_time": "2020-05-05T10:04:24.862083Z"
    },
    "slideshow": {
     "slide_type": "fragment"
    }
   },
   "outputs": [],
   "source": [
    "request_url =\"http://0.0.0.0:1234/client/get-summary\""
   ]
  },
  {
   "cell_type": "code",
   "execution_count": 104,
   "metadata": {
    "ExecuteTime": {
     "end_time": "2020-05-05T11:29:59.958288Z",
     "start_time": "2020-05-05T11:29:59.930592Z"
    },
    "slideshow": {
     "slide_type": "fragment"
    }
   },
   "outputs": [],
   "source": [
    "input_data = {\n",
    "    \"KYC-Documentum\":\n",
    "    \"Holding company activities and collection center for FICOFI which is engaged in Import, Distribution and Sales of wines and spirits. The group has also centralized its operations in Singapore and setup a global treasury/ collection center based here.The primary reason for this decision was that the group has lot of suppliers and clients who are commoon across various entities. When thecliens make payments they usually make one lumpsum payment for various invoices. To ensure that they streamline the process for their clients,ficofi has decides that they will start with centraliznig the collecttion process- collect funds from clients into accounts with SG.\",\n",
    "    \"SearchUrlList\": [\n",
    "        \"https://recordowl.com/company/ficofi-partners-holding-pte-ltd\",\n",
    "        \"https://www.emis.com/php/company-profile/SG/Ficofi_Partners_Holding_Pte_Ltd_en_6690179.html\",\n",
    "        \"https://www.timesbusinessdirectory.com/companies/ficofi-partners-holding-pte-ltd\",\n",
    "        \"https://opengovsg.com/corporate/201309826H\",\n",
    "        \"https://www.singaporecontacts.com/companies/ficofi-partners-holding-pte-ltd-singapore/84b81fc9-5b2b-e993-a43e-5b4acb7e0366\",\n",
    "        \"https://singapore-corp.com/co/ficofi-partners-holding-pte-ltd\"\n",
    "    ]\n",
    "}"
   ]
  },
  {
   "cell_type": "code",
   "execution_count": 105,
   "metadata": {
    "ExecuteTime": {
     "end_time": "2020-05-05T11:30:33.398265Z",
     "start_time": "2020-05-05T11:30:00.556097Z"
    },
    "slideshow": {
     "slide_type": "slide"
    }
   },
   "outputs": [
    {
     "name": "stdout",
     "output_type": "stream",
     "text": [
      "Hitting Profile Summarization API\n"
     ]
    }
   ],
   "source": [
    "print('Hitting Profile Summarization API')\n",
    "response = requests.post(url=request_url,json=input_data)"
   ]
  },
  {
   "cell_type": "code",
   "execution_count": 106,
   "metadata": {
    "ExecuteTime": {
     "end_time": "2020-05-05T11:30:33.463435Z",
     "start_time": "2020-05-05T11:30:33.454263Z"
    },
    "slideshow": {
     "slide_type": "fragment"
    }
   },
   "outputs": [
    {
     "name": "stdout",
     "output_type": "stream",
     "text": [
      "The Profile Summary of FICOFI PARTNERS HOLDING PTE extracted from web: \n",
      " Unique Entity Number: 201309826H FICOFI PARTNERS HOLDING PTE. The company was registered / incorporated on 12 April 2013 (Friday), 7 years ago The address of this company registered office is 25 INTERNATIONAL BUSINESS PARK #03-01/02 GERMAN CENTRE SINGAPORE 609916 The company has 7 officers / owners / shareholders. Ltd. is an enterprise located in Singapore, with the main office in Singapore. It was incorporated on April 12, 2013. Ltd. report to view the information. EMIS company profiles are part of a larger information service which combines company, industry and country data and analysis for over 145 emerging markets. To view more information, Request a demonstration of the EMIS service FICOFI PARTNERS HOLDING PTE LTD 25 International Business Park #03-01/02 German Centre Singapore 609916 Copyright © 2020. Marshall Cavendish Business Information Pte Ltd. All Rights Reserved. The entity status is Live Company. Please comment or provide details below to improve the information on . HOT LEADS / LISTS HR Managers eMail Lists HR Managers Database HR-VP, Directors Database Finance Managers eMail Lists Finance Managers Database IT Managers eMail Lists IT Managers Database CIO / CTO Database CFO / Director - Finance eMail Lists CFO / Director - Finance Database Sales Managers eMail Lists Sales Managers Database Sales-VP, Director Database CEO, President, MD eMail Lists Directors (Share Holding) eMail Lists Marketing Managers eMail Lists Marketing Managers Database Marketing-VP, Director Database CEO, President, MD Database Directors (Share Holding) Database Home | Enquiry | FAQ | Contact Copyright © 2020 Singapore Contacts.\n"
     ]
    }
   ],
   "source": [
    "print('The Profile Summary of FICOFI PARTNERS HOLDING PTE extracted from web: \\n', str(response.json()['Summary']))"
   ]
  },
  {
   "cell_type": "code",
   "execution_count": 107,
   "metadata": {
    "ExecuteTime": {
     "end_time": "2020-05-05T11:30:33.502369Z",
     "start_time": "2020-05-05T11:30:33.497723Z"
    },
    "slideshow": {
     "slide_type": "fragment"
    }
   },
   "outputs": [
    {
     "name": "stdout",
     "output_type": "stream",
     "text": [
      "The Profile Summary of FICOFI PARTNERS HOLDING PTE extracted from web: \n",
      " 0.8796509024349501\n"
     ]
    }
   ],
   "source": [
    "print('The Profile Summary of FICOFI PARTNERS HOLDING PTE extracted from web: \\n', str(response.json()['Similarity Score']))"
   ]
  },
  {
   "cell_type": "code",
   "execution_count": 108,
   "metadata": {
    "ExecuteTime": {
     "end_time": "2020-05-05T11:30:33.552961Z",
     "start_time": "2020-05-05T11:30:33.547243Z"
    },
    "slideshow": {
     "slide_type": "fragment"
    }
   },
   "outputs": [
    {
     "name": "stdout",
     "output_type": "stream",
     "text": [
      "The Profile Summary of FICOFI PARTNERS HOLDING PTE extracted from web: \n",
      " 0.14280303030303027\n"
     ]
    }
   ],
   "source": [
    "print('The Profile Summary of FICOFI PARTNERS HOLDING PTE extracted from web: \\n', str(response.json()['Polarity']))"
   ]
  },
  {
   "cell_type": "code",
   "execution_count": null,
   "metadata": {
    "ExecuteTime": {
     "end_time": "2020-05-05T17:11:13.001568Z",
     "start_time": "2020-05-05T17:11:12.982662Z"
    }
   },
   "outputs": [],
   "source": []
  },
  {
   "cell_type": "code",
   "execution_count": null,
   "metadata": {},
   "outputs": [],
   "source": []
  }
 ],
 "metadata": {
  "celltoolbar": "Slideshow",
  "kernelspec": {
   "display_name": "Python 3.7.4 64-bit",
   "language": "python",
   "name": "python37464bitd354516f517147279a113529c8fe5e5f"
  },
  "language_info": {
   "codemirror_mode": {
    "name": "ipython",
    "version": 3
   },
   "file_extension": ".py",
   "mimetype": "text/x-python",
   "name": "python",
   "nbconvert_exporter": "python",
   "pygments_lexer": "ipython3",
   "version": "3.7.7"
  },
  "toc": {
   "base_numbering": 1,
   "nav_menu": {},
   "number_sections": true,
   "sideBar": true,
   "skip_h1_title": false,
   "title_cell": "Table of Contents",
   "title_sidebar": "Contents",
   "toc_cell": false,
   "toc_position": {},
   "toc_section_display": true,
   "toc_window_display": false
  },
  "varInspector": {
   "cols": {
    "lenName": 16,
    "lenType": 16,
    "lenVar": 40
   },
   "kernels_config": {
    "python": {
     "delete_cmd_postfix": "",
     "delete_cmd_prefix": "del ",
     "library": "var_list.py",
     "varRefreshCmd": "print(var_dic_list())"
    },
    "r": {
     "delete_cmd_postfix": ") ",
     "delete_cmd_prefix": "rm(",
     "library": "var_list.r",
     "varRefreshCmd": "cat(var_dic_list()) "
    }
   },
   "position": {
    "height": "377px",
    "left": "1070px",
    "right": "20px",
    "top": "120px",
    "width": "350px"
   },
   "types_to_exclude": [
    "module",
    "function",
    "builtin_function_or_method",
    "instance",
    "_Feature"
   ],
   "window_display": false
  }
 },
 "nbformat": 4,
 "nbformat_minor": 4
}
