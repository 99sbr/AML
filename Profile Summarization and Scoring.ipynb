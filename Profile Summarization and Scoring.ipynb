{
 "cells": [
  {
   "cell_type": "markdown",
   "metadata": {
    "slideshow": {
     "slide_type": "slide"
    }
   },
   "source": [
    "### Import Libraries and Models"
   ]
  },
  {
   "cell_type": "code",
   "execution_count": 1,
   "metadata": {
    "ExecuteTime": {
     "end_time": "2020-05-04T05:34:28.442162Z",
     "start_time": "2020-05-04T05:33:59.476991Z"
    },
    "slideshow": {
     "slide_type": "slide"
    }
   },
   "outputs": [
    {
     "name": "stderr",
     "output_type": "stream",
     "text": [
      "/Users/subir/pythonenv/default/lib/python3.7/site-packages/tensorboard/compat/tensorflow_stub/dtypes.py:541: FutureWarning: Passing (type, 1) or '1type' as a synonym of type is deprecated; in a future version of numpy, it will be understood as (type, (1,)) / '(1,)type'.\n",
      "  _np_qint8 = np.dtype([(\"qint8\", np.int8, 1)])\n",
      "/Users/subir/pythonenv/default/lib/python3.7/site-packages/tensorboard/compat/tensorflow_stub/dtypes.py:542: FutureWarning: Passing (type, 1) or '1type' as a synonym of type is deprecated; in a future version of numpy, it will be understood as (type, (1,)) / '(1,)type'.\n",
      "  _np_quint8 = np.dtype([(\"quint8\", np.uint8, 1)])\n",
      "/Users/subir/pythonenv/default/lib/python3.7/site-packages/tensorboard/compat/tensorflow_stub/dtypes.py:543: FutureWarning: Passing (type, 1) or '1type' as a synonym of type is deprecated; in a future version of numpy, it will be understood as (type, (1,)) / '(1,)type'.\n",
      "  _np_qint16 = np.dtype([(\"qint16\", np.int16, 1)])\n",
      "/Users/subir/pythonenv/default/lib/python3.7/site-packages/tensorboard/compat/tensorflow_stub/dtypes.py:544: FutureWarning: Passing (type, 1) or '1type' as a synonym of type is deprecated; in a future version of numpy, it will be understood as (type, (1,)) / '(1,)type'.\n",
      "  _np_quint16 = np.dtype([(\"quint16\", np.uint16, 1)])\n",
      "/Users/subir/pythonenv/default/lib/python3.7/site-packages/tensorboard/compat/tensorflow_stub/dtypes.py:545: FutureWarning: Passing (type, 1) or '1type' as a synonym of type is deprecated; in a future version of numpy, it will be understood as (type, (1,)) / '(1,)type'.\n",
      "  _np_qint32 = np.dtype([(\"qint32\", np.int32, 1)])\n",
      "/Users/subir/pythonenv/default/lib/python3.7/site-packages/tensorboard/compat/tensorflow_stub/dtypes.py:550: FutureWarning: Passing (type, 1) or '1type' as a synonym of type is deprecated; in a future version of numpy, it will be understood as (type, (1,)) / '(1,)type'.\n",
      "  np_resource = np.dtype([(\"resource\", np.ubyte, 1)])\n",
      "2020-05-04 11:04:11 INFO: Loading these models for language: en (English):\n",
      "=========================\n",
      "| Processor | Package   |\n",
      "-------------------------\n",
      "| tokenize  | ewt       |\n",
      "| pos       | ewt       |\n",
      "| lemma     | ewt       |\n",
      "| depparse  | ewt       |\n",
      "| ner       | ontonotes |\n",
      "=========================\n",
      "\n",
      "2020-05-04 11:04:11 INFO: Use device: cpu\n",
      "2020-05-04 11:04:11 INFO: Loading: tokenize\n",
      "2020-05-04 11:04:11 INFO: Loading: pos\n",
      "2020-05-04 11:04:12 INFO: Loading: lemma\n",
      "2020-05-04 11:04:12 INFO: Loading: depparse\n",
      "2020-05-04 11:04:14 INFO: Loading: ner\n",
      "2020-05-04 11:04:14 INFO: Done loading processors!\n"
     ]
    }
   ],
   "source": [
    "from spacy_stanza import StanzaLanguage\n",
    "import stanza\n",
    "import spacy\n",
    "import nltk\n",
    "import tensorflow as tf\n",
    "import re\n",
    "import random\n",
    "from nltk.corpus import stopwords\n",
    "from nltk.cluster.util import cosine_distance\n",
    "import numpy as np\n",
    "import networkx as nx\n",
    "import requests\n",
    "from bs4 import BeautifulSoup\n",
    "import html2text\n",
    "from summarizer import Summarizer\n",
    "from textblob import TextBlob\n",
    "stop_words = stopwords.words('english')\n",
    "snlp = stanza.Pipeline(lang=\"en\")\n",
    "stanza_nlp = StanzaLanguage(snlp)\n",
    "spacy_nlp = spacy.load('en_core_web_lg')"
   ]
  },
  {
   "cell_type": "markdown",
   "metadata": {
    "slideshow": {
     "slide_type": "slide"
    }
   },
   "source": [
    "### Defining Client Profile Summary from Documentum"
   ]
  },
  {
   "cell_type": "code",
   "execution_count": 2,
   "metadata": {
    "ExecuteTime": {
     "end_time": "2020-05-04T05:34:28.581693Z",
     "start_time": "2020-05-04T05:34:28.453395Z"
    },
    "slideshow": {
     "slide_type": "slide"
    }
   },
   "outputs": [],
   "source": [
    "fromkyc = \"Holding company activities and collection center for FICOFI which is engaged in Import, Distribution and Sales of wines\\\n",
    "and spirits. The group has also centralized its operations in Singapore and setup a global treasury/ collection centre based here.\\\n",
    "The primary reason for this decision was that the group has lot of suppliers and clients who are commoon across various entities. When the\\\n",
    "cliens make payments they usually make one lumpsum payment for various invoices. To ensure that they streamline the process for their clients,\\\n",
    "ficofi has decides that they will start with centraliznig the collecttion process- collect funds from clients into accounts with SG.\"\n",
    "\n",
    "kyc_doc = spacy_nlp(fromkyc.strip())"
   ]
  },
  {
   "cell_type": "markdown",
   "metadata": {
    "slideshow": {
     "slide_type": "slide"
    }
   },
   "source": [
    "### Source URL list to crawl"
   ]
  },
  {
   "cell_type": "code",
   "execution_count": 3,
   "metadata": {
    "ExecuteTime": {
     "end_time": "2020-05-04T05:34:28.596933Z",
     "start_time": "2020-05-04T05:34:28.590745Z"
    },
    "slideshow": {
     "slide_type": "slide"
    }
   },
   "outputs": [],
   "source": [
    "source_url_list = [\n",
    "    \"https://recordowl.com/company/ficofi-partners-holding-pte-ltd\",\n",
    "    \"https://www.emis.com/php/company-profile/SG/Ficofi_Partners_Holding_Pte_Ltd_en_6690179.html\",\n",
    "    \"https://www.timesbusinessdirectory.com/companies/ficofi-partners-holding-pte-ltd\",\n",
    "    \"https://opengovsg.com/corporate/201309826H\"\n",
    "]"
   ]
  },
  {
   "cell_type": "markdown",
   "metadata": {
    "slideshow": {
     "slide_type": "slide"
    }
   },
   "source": [
    "### HTML Parsing and Text Cleaning"
   ]
  },
  {
   "cell_type": "code",
   "execution_count": 4,
   "metadata": {
    "ExecuteTime": {
     "end_time": "2020-05-04T05:34:28.620429Z",
     "start_time": "2020-05-04T05:34:28.601845Z"
    },
    "slideshow": {
     "slide_type": "slide"
    }
   },
   "outputs": [],
   "source": [
    "def text_cleaning(raw_text):\n",
    "    raw_text_list = raw_text.split('\\n')\n",
    "    raw_text_list = [\n",
    "        token for token in raw_text_list if token not in stop_words\n",
    "    ]\n",
    "    clean_sent_list = [\n",
    "        re.sub('[^A-Za-z0-9]+\\.-/', '', token) for token in raw_text_list\n",
    "        if bool(token)\n",
    "    ]\n",
    "    clean_sent = ' '.join(clean_sent_list)\n",
    "    clean_sent = ' '.join(clean_sent.split())\n",
    "    doc = stanza_nlp(clean_sent)\n",
    "\n",
    "    spacy_text_list = []\n",
    "    for sent in doc.sents:\n",
    "        spacy_text_list.append(sent.text)\n",
    "    import random\n",
    "    #     spacy_text_list = random.sample(spacy_text_list, len(spacy_text_list))\n",
    "    return spacy_text_list\n",
    "\n",
    "\n",
    "def tag2text(tag):\n",
    "\n",
    "    if tag.name == 'p':\n",
    "        return tag.text\n",
    "\n",
    "\n",
    "def parse_article(text):\n",
    "    soup = BeautifulSoup(text, 'html.parser')\n",
    "\n",
    "    # find the article title\n",
    "    h1 = soup.find('h1')\n",
    "\n",
    "    # find the common parent for <h1> and all <p>s.\n",
    "    root = h1\n",
    "    while root.name != 'body':\n",
    "        if root.parent == None:\n",
    "            break\n",
    "        root = root.parent\n",
    "\n",
    "    # find all the content elements.\n",
    "    ps = root.find_all(['h2', 'h3', 'h4', 'h5', 'h6', 'p', 'pre'])\n",
    "    ps.insert(0, h1)\n",
    "    content = [tag2text(p) for p in ps]\n",
    "    content = [x for x in content if bool(x)]\n",
    "    return content"
   ]
  },
  {
   "cell_type": "markdown",
   "metadata": {
    "slideshow": {
     "slide_type": "slide"
    }
   },
   "source": [
    "### Creating Corpus of Information from WEB"
   ]
  },
  {
   "cell_type": "code",
   "execution_count": 5,
   "metadata": {
    "ExecuteTime": {
     "end_time": "2020-05-04T05:34:28.634470Z",
     "start_time": "2020-05-04T05:34:28.624199Z"
    },
    "slideshow": {
     "slide_type": "slide"
    }
   },
   "outputs": [],
   "source": [
    "def gather_content_data(url_list):\n",
    "    assert len(url_list) > 0\n",
    "    corpus = []\n",
    "    for url in url_list:\n",
    "        content = parse_article(requests.get(url).text)\n",
    "        if bool(content):\n",
    "            corpus.append(' '.join(content))\n",
    "    spacy_text_list = text_cleaning(' '.join(corpus))\n",
    "    return ' '.join(spacy_text_list)"
   ]
  },
  {
   "cell_type": "code",
   "execution_count": 6,
   "metadata": {
    "ExecuteTime": {
     "end_time": "2020-05-04T05:34:39.922604Z",
     "start_time": "2020-05-04T05:34:28.640109Z"
    },
    "slideshow": {
     "slide_type": "slide"
    }
   },
   "outputs": [],
   "source": [
    "corpus = gather_content_data(url_list=source_url_list)"
   ]
  },
  {
   "cell_type": "markdown",
   "metadata": {
    "slideshow": {
     "slide_type": "slide"
    }
   },
   "source": [
    "### BERT based Text Summarization"
   ]
  },
  {
   "cell_type": "code",
   "execution_count": 7,
   "metadata": {
    "ExecuteTime": {
     "end_time": "2020-05-04T05:34:58.685063Z",
     "start_time": "2020-05-04T05:34:39.937066Z"
    },
    "slideshow": {
     "slide_type": "slide"
    }
   },
   "outputs": [],
   "source": [
    "model = Summarizer()"
   ]
  },
  {
   "cell_type": "code",
   "execution_count": 12,
   "metadata": {
    "ExecuteTime": {
     "end_time": "2020-05-04T05:39:03.494095Z",
     "start_time": "2020-05-04T05:38:52.518288Z"
    },
    "slideshow": {
     "slide_type": "slide"
    }
   },
   "outputs": [
    {
     "name": "stdout",
     "output_type": "stream",
     "text": [
      "Unique Entity Number: 201309826H FICOFI PARTNERS HOLDING PTE. The company was registered / incorporated on 12 April 2013 (Friday), 7 years ago The address of this company registered office is 25 INTERNATIONAL BUSINESS PARK #03-01/02 GERMAN CENTRE SINGAPORE 609916 The company has 7 officers / owners / shareholders. The company secondary activity is MANAGEMENT CONSULTANCY SERVICES N.E.C.. Ficofi Partners Holding Pte. Ltd. is an enterprise located in Singapore, with the main office in Singapore. It was incorporated on April 12, 2013. Ltd. report to view the information. EMIS company profiles are part of a larger information service which combines company, industry and country data and analysis for over 145 emerging markets. Marshall Cavendish Business Information Pte Ltd. All Rights Reserved. The entity status is Live Company. Please comment or provide details below to improve the information on .\n",
      "\n",
      " Polarity of Article: 0.054004329004329006\n"
     ]
    }
   ],
   "source": [
    "result = model(corpus, min_length=30, algorithm='gmm',ratio=0.5, max_length=len(corpus))\n",
    "full = ''.join(result)\n",
    "print(full)\n",
    "testimonial = TextBlob(full)\n",
    "print('\\n Polarity of Article:', testimonial.sentiment.polarity)"
   ]
  },
  {
   "cell_type": "markdown",
   "metadata": {
    "slideshow": {
     "slide_type": "slide"
    }
   },
   "source": [
    "### Similarity Score Calculation using spaCy"
   ]
  },
  {
   "cell_type": "code",
   "execution_count": 17,
   "metadata": {
    "ExecuteTime": {
     "end_time": "2020-05-04T11:17:37.488128Z",
     "start_time": "2020-05-04T11:17:37.263185Z"
    },
    "slideshow": {
     "slide_type": "slide"
    }
   },
   "outputs": [
    {
     "name": "stdout",
     "output_type": "stream",
     "text": [
      "The Similarity Score of Summarized Text is:  93.13271240399268\n"
     ]
    }
   ],
   "source": [
    "extraction = spacy_nlp(full)\n",
    "similarity_score = extraction.similarity(kyc_doc)\n",
    "print('The Similarity Score of Summarized Text is: ', similarity_score*100)"
   ]
  },
  {
   "cell_type": "code",
   "execution_count": null,
   "metadata": {},
   "outputs": [],
   "source": []
  }
 ],
 "metadata": {
  "celltoolbar": "Slideshow",
  "kernelspec": {
   "display_name": "Python 3.7.4 64-bit",
   "language": "python",
   "name": "python37464bitd354516f517147279a113529c8fe5e5f"
  },
  "language_info": {
   "codemirror_mode": {
    "name": "ipython",
    "version": 3
   },
   "file_extension": ".py",
   "mimetype": "text/x-python",
   "name": "python",
   "nbconvert_exporter": "python",
   "pygments_lexer": "ipython3",
   "version": "3.7.7"
  },
  "toc": {
   "base_numbering": 1,
   "nav_menu": {},
   "number_sections": true,
   "sideBar": true,
   "skip_h1_title": false,
   "title_cell": "Table of Contents",
   "title_sidebar": "Contents",
   "toc_cell": false,
   "toc_position": {},
   "toc_section_display": true,
   "toc_window_display": false
  },
  "varInspector": {
   "cols": {
    "lenName": 16,
    "lenType": 16,
    "lenVar": 40
   },
   "kernels_config": {
    "python": {
     "delete_cmd_postfix": "",
     "delete_cmd_prefix": "del ",
     "library": "var_list.py",
     "varRefreshCmd": "print(var_dic_list())"
    },
    "r": {
     "delete_cmd_postfix": ") ",
     "delete_cmd_prefix": "rm(",
     "library": "var_list.r",
     "varRefreshCmd": "cat(var_dic_list()) "
    }
   },
   "position": {
    "height": "377px",
    "left": "1070px",
    "right": "20px",
    "top": "120px",
    "width": "350px"
   },
   "types_to_exclude": [
    "module",
    "function",
    "builtin_function_or_method",
    "instance",
    "_Feature"
   ],
   "window_display": false
  }
 },
 "nbformat": 4,
 "nbformat_minor": 4
}
