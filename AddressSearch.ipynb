{
 "cells": [
  {
   "cell_type": "markdown",
   "metadata": {},
   "source": [
    "## Load all libraries"
   ]
  },
  {
   "cell_type": "code",
   "execution_count": 1,
   "metadata": {
    "ExecuteTime": {
     "end_time": "2020-04-30T20:08:23.806838Z",
     "start_time": "2020-04-30T20:07:40.664303Z"
    }
   },
   "outputs": [
    {
     "name": "stderr",
     "output_type": "stream",
     "text": [
      "/Users/subir/pythonenv/default/lib/python3.7/site-packages/tensorboard/compat/tensorflow_stub/dtypes.py:541: FutureWarning: Passing (type, 1) or '1type' as a synonym of type is deprecated; in a future version of numpy, it will be understood as (type, (1,)) / '(1,)type'.\n",
      "  _np_qint8 = np.dtype([(\"qint8\", np.int8, 1)])\n",
      "/Users/subir/pythonenv/default/lib/python3.7/site-packages/tensorboard/compat/tensorflow_stub/dtypes.py:542: FutureWarning: Passing (type, 1) or '1type' as a synonym of type is deprecated; in a future version of numpy, it will be understood as (type, (1,)) / '(1,)type'.\n",
      "  _np_quint8 = np.dtype([(\"quint8\", np.uint8, 1)])\n",
      "/Users/subir/pythonenv/default/lib/python3.7/site-packages/tensorboard/compat/tensorflow_stub/dtypes.py:543: FutureWarning: Passing (type, 1) or '1type' as a synonym of type is deprecated; in a future version of numpy, it will be understood as (type, (1,)) / '(1,)type'.\n",
      "  _np_qint16 = np.dtype([(\"qint16\", np.int16, 1)])\n",
      "/Users/subir/pythonenv/default/lib/python3.7/site-packages/tensorboard/compat/tensorflow_stub/dtypes.py:544: FutureWarning: Passing (type, 1) or '1type' as a synonym of type is deprecated; in a future version of numpy, it will be understood as (type, (1,)) / '(1,)type'.\n",
      "  _np_quint16 = np.dtype([(\"quint16\", np.uint16, 1)])\n",
      "/Users/subir/pythonenv/default/lib/python3.7/site-packages/tensorboard/compat/tensorflow_stub/dtypes.py:545: FutureWarning: Passing (type, 1) or '1type' as a synonym of type is deprecated; in a future version of numpy, it will be understood as (type, (1,)) / '(1,)type'.\n",
      "  _np_qint32 = np.dtype([(\"qint32\", np.int32, 1)])\n",
      "/Users/subir/pythonenv/default/lib/python3.7/site-packages/tensorboard/compat/tensorflow_stub/dtypes.py:550: FutureWarning: Passing (type, 1) or '1type' as a synonym of type is deprecated; in a future version of numpy, it will be understood as (type, (1,)) / '(1,)type'.\n",
      "  np_resource = np.dtype([(\"resource\", np.ubyte, 1)])\n",
      "/Users/subir/pythonenv/default/lib/python3.7/site-packages/statsmodels/tools/_testing.py:19: FutureWarning:\n",
      "\n",
      "pandas.util.testing is deprecated. Use the functions in the public API at pandas.testing instead.\n",
      "\n",
      "2020-05-01 01:37:52 INFO: Loading these models for language: en (English):\n",
      "=========================\n",
      "| Processor | Package   |\n",
      "-------------------------\n",
      "| tokenize  | ewt       |\n",
      "| pos       | ewt       |\n",
      "| lemma     | ewt       |\n",
      "| depparse  | ewt       |\n",
      "| ner       | ontonotes |\n",
      "=========================\n",
      "\n",
      "2020-05-01 01:37:52 INFO: Use device: cpu\n",
      "2020-05-01 01:37:52 INFO: Loading: tokenize\n",
      "2020-05-01 01:37:52 INFO: Loading: pos\n",
      "2020-05-01 01:37:53 INFO: Loading: lemma\n",
      "2020-05-01 01:37:53 INFO: Loading: depparse\n",
      "2020-05-01 01:37:54 INFO: Loading: ner\n",
      "2020-05-01 01:37:54 INFO: Done loading processors!\n"
     ]
    },
    {
     "data": {
      "text/html": [
       "        <script type=\"text/javascript\">\n",
       "        window.PlotlyConfig = {MathJaxConfig: 'local'};\n",
       "        if (window.MathJax) {MathJax.Hub.Config({SVG: {font: \"STIX-Web\"}});}\n",
       "        if (typeof require !== 'undefined') {\n",
       "        require.undef(\"plotly\");\n",
       "        requirejs.config({\n",
       "            paths: {\n",
       "                'plotly': ['https://cdn.plot.ly/plotly-latest.min']\n",
       "            }\n",
       "        });\n",
       "        require(['plotly'], function(Plotly) {\n",
       "            window._Plotly = Plotly;\n",
       "        });\n",
       "        }\n",
       "        </script>\n",
       "        "
      ]
     },
     "metadata": {},
     "output_type": "display_data"
    },
    {
     "data": {
      "text/html": [
       "        <script type=\"text/javascript\">\n",
       "        window.PlotlyConfig = {MathJaxConfig: 'local'};\n",
       "        if (window.MathJax) {MathJax.Hub.Config({SVG: {font: \"STIX-Web\"}});}\n",
       "        if (typeof require !== 'undefined') {\n",
       "        require.undef(\"plotly\");\n",
       "        requirejs.config({\n",
       "            paths: {\n",
       "                'plotly': ['https://cdn.plot.ly/plotly-latest.min']\n",
       "            }\n",
       "        });\n",
       "        require(['plotly'], function(Plotly) {\n",
       "            window._Plotly = Plotly;\n",
       "        });\n",
       "        }\n",
       "        </script>\n",
       "        "
      ]
     },
     "metadata": {},
     "output_type": "display_data"
    }
   ],
   "source": [
    "from nltk.corpus import stopwords\n",
    "from summarizer import Summarizer\n",
    "import tensorflow_hub as hub\n",
    "import tensorflow as tf\n",
    "import pandas as pd\n",
    "import umap\n",
    "import nltk\n",
    "import random\n",
    "from bs4 import BeautifulSoup\n",
    "from ordered_set import OrderedSet\n",
    "from collections import defaultdict\n",
    "from itertools import combinations\n",
    "import usaddress\n",
    "import requests\n",
    "import html2text\n",
    "import spacy\n",
    "from spacy_stanza import StanzaLanguage\n",
    "import stanza\n",
    "import re\n",
    "\n",
    "from streetaddress import StreetAddressFormatter, StreetAddressParser\n",
    "import chart_studio.plotly as py\n",
    "import plotly.graph_objs as go\n",
    "from plotly.offline import iplot, init_notebook_mode\n",
    "import cufflinks\n",
    "import matplotlib.pyplot as plt\n",
    "from mpl_toolkits.mplot3d import Axes3D\n",
    "import seaborn as sns\n",
    "import numpy as np\n",
    "import time\n",
    "from sklearn.manifold import TSNE\n",
    "from sentence_transformers import SentenceTransformer\n",
    "snlp = stanza.Pipeline(lang=\"en\")\n",
    "stanza_nlp = StanzaLanguage(snlp)\n",
    "spacy_nlp = spacy.load('en_core_web_lg')\n",
    "bert_sent_model = SentenceTransformer('roberta-base-nli-mean-tokens')\n",
    "stopwords = set(stopwords.words('english'))\n",
    "model = Summarizer()\n",
    "# Standard plotly imports\n",
    "# Using plotly + cufflinks in offline mode\n",
    "cufflinks.go_offline(connected=True)\n",
    "init_notebook_mode(connected=True)"
   ]
  },
  {
   "cell_type": "code",
   "execution_count": 2,
   "metadata": {
    "ExecuteTime": {
     "end_time": "2020-04-30T20:10:45.698853Z",
     "start_time": "2020-04-30T20:10:45.692679Z"
    }
   },
   "outputs": [],
   "source": [
    "Counterparty = 'ficofi holdings pvt ltd.'\n",
    "RegisteredAddress = \"25 INTERNATIONAL BUSINESS PARK #03-01/02 GERMAN CENTRE SINGAPORE (609916)\""
   ]
  },
  {
   "cell_type": "markdown",
   "metadata": {},
   "source": [
    "## URL list"
   ]
  },
  {
   "cell_type": "code",
   "execution_count": 15,
   "metadata": {
    "ExecuteTime": {
     "end_time": "2020-04-30T20:41:57.660295Z",
     "start_time": "2020-04-30T20:41:57.645614Z"
    }
   },
   "outputs": [],
   "source": [
    "base_url_list = [\n",
    "    \"https://recordowl.com/company/ficofi-partners-holding-pte-ltd\",\n",
    "    \"https://www.emis.com/php/company-profile/SG/Ficofi_Partners_Holding_Pte_Ltd_en_6690179.html\",\n",
    "    \"https://www.timesbusinessdirectory.com/companies/ficofi-partners-holding-pte-ltd\",\n",
    "    \"https://opengovsg.com/corporate/201309826H\"\n",
    "]"
   ]
  },
  {
   "cell_type": "markdown",
   "metadata": {
    "ExecuteTime": {
     "end_time": "2020-04-27T08:24:20.059960Z",
     "start_time": "2020-04-27T08:24:20.057040Z"
    }
   },
   "source": [
    "## PreProcesing URL and Raw Text"
   ]
  },
  {
   "cell_type": "code",
   "execution_count": 47,
   "metadata": {
    "ExecuteTime": {
     "end_time": "2020-04-30T20:52:54.817743Z",
     "start_time": "2020-04-30T20:52:54.802172Z"
    },
    "cell_style": "center"
   },
   "outputs": [],
   "source": [
    "def text_cleaning(raw_text):\n",
    "    raw_text_list = raw_text.split('\\n')\n",
    "    raw_text_list = [\n",
    "        token for token in raw_text_list if token not in stopwords\n",
    "    ]\n",
    "    clean_sent_list = [\n",
    "        re.sub('[^A-Za-z0-9]+\\.-/', '', token) for token in raw_text_list\n",
    "        if bool(token)\n",
    "    ]\n",
    "    clean_sent = ' '.join(clean_sent_list)\n",
    "    clean_sent = ' '.join(clean_sent.split())\n",
    "    doc = stanza_nlp(clean_sent)\n",
    "    spacy_text_list = []\n",
    "    for sent in doc.sents:\n",
    "        spacy_text_list.append(sent.text)\n",
    "\n",
    "    spacy_text_list = random.sample(spacy_text_list, len(spacy_text_list))\n",
    "    return spacy_text_list\n",
    "\n",
    "\n",
    "def tag2text(tag):\n",
    "    if tag.name == 'p':\n",
    "        return tag.text\n",
    "\n",
    "\n",
    "def parse_article(text):\n",
    "    soup = BeautifulSoup(text, 'html.parser')\n",
    "    # find the article title\n",
    "    h1 = soup.find('h1')\n",
    "    # find the common parent for <h1> and all <p>s.\n",
    "    root = h1\n",
    "    while root.name != 'body':\n",
    "        if root.parent == None:\n",
    "            break\n",
    "        root = root.parent\n",
    "    # find all the content elements.\n",
    "    ps = root.find_all(['h2', 'h3', 'h4', 'h5', 'h6', 'p', 'pre'])\n",
    "    ps.insert(0, h1)\n",
    "    content = [tag2text(p) for p in ps]\n",
    "    content = [x for x in content if bool(x)]\n",
    "    return content"
   ]
  },
  {
   "cell_type": "markdown",
   "metadata": {},
   "source": [
    "## Jaccard Similarity technique"
   ]
  },
  {
   "cell_type": "code",
   "execution_count": 48,
   "metadata": {
    "ExecuteTime": {
     "end_time": "2020-04-30T20:53:04.761130Z",
     "start_time": "2020-04-30T20:52:55.947832Z"
    }
   },
   "outputs": [],
   "source": [
    "corpus_token_list = []\n",
    "for url in base_url_list:\n",
    "    clean_text_list = parse_article(requests.get(url).text)\n",
    "    if bool(clean_text_list):\n",
    "        clean_corpus = text_cleaning(' '.join(clean_text_list))\n",
    "        corpus_token_list.append(clean_corpus)"
   ]
  },
  {
   "cell_type": "code",
   "execution_count": 49,
   "metadata": {
    "ExecuteTime": {
     "end_time": "2020-04-30T20:53:05.048503Z",
     "start_time": "2020-04-30T20:53:05.032261Z"
    }
   },
   "outputs": [],
   "source": [
    "def get_jaccard_sim_multi(str1, str2, str3, str4):\n",
    "    a = OrderedSet(str1.lower().split())\n",
    "    b = OrderedSet(str2.lower().split())\n",
    "    c = OrderedSet(str3.lower().split())\n",
    "    d = OrderedSet(str4.lower().split())\n",
    "\n",
    "    Combinations = list(combinations([a, b, c, d], 2))\n",
    "    e = []\n",
    "    for x in Combinations:\n",
    "        e.append(\n",
    "            OrderedSet(x[0].intersection(x[1])) - set(Counterparty.split()))\n",
    "    return e"
   ]
  },
  {
   "cell_type": "code",
   "execution_count": 64,
   "metadata": {
    "ExecuteTime": {
     "end_time": "2020-05-01T13:43:43.315298Z",
     "start_time": "2020-05-01T13:43:43.309988Z"
    }
   },
   "outputs": [],
   "source": [
    "match_text = get_jaccard_sim_multi(' '.join(corpus_token_list[0]), ' '.join(corpus_token_list[1]), ' '.join(corpus_token_list[2]), ' '.join(corpus_token_list[3]))"
   ]
  },
  {
   "cell_type": "code",
   "execution_count": 65,
   "metadata": {
    "ExecuteTime": {
     "end_time": "2020-05-01T13:43:43.896999Z",
     "start_time": "2020-05-01T13:43:43.893742Z"
    }
   },
   "outputs": [],
   "source": [
    "from postal.parser import parse_address"
   ]
  },
  {
   "cell_type": "code",
   "execution_count": 68,
   "metadata": {
    "ExecuteTime": {
     "end_time": "2020-05-01T13:45:46.285828Z",
     "start_time": "2020-05-01T13:45:46.278829Z"
    }
   },
   "outputs": [],
   "source": [
    "Address = defaultdict(OrderedSet)\n",
    "for match in match_text:\n",
    "    _addrs = OrderedSet(\n",
    "        parse_address(address=' '.join(list(match))))\n",
    "    if bool(_addrs):\n",
    "        for item in _addrs:\n",
    "            for sub_item in item[0].split():\n",
    "                Address[item[1]].add(sub_item)"
   ]
  },
  {
   "cell_type": "code",
   "execution_count": 69,
   "metadata": {
    "ExecuteTime": {
     "end_time": "2020-05-01T13:45:46.672110Z",
     "start_time": "2020-05-01T13:45:46.662549Z"
    }
   },
   "outputs": [
    {
     "data": {
      "text/plain": [
       "defaultdict(ordered_set.OrderedSet,\n",
       "            {'house': OrderedSet(['the', 'company', 'is', 'a', 'and', 'partners', 'holding', 'pte.', 'management', 'was', 'incorporated', 'on', 'april', 'of', 'office', 'status', 'live', 'company.', 'registered', 'this', 'unique', 'entity', 'german', 'centre', 'singapore', 'information', '2013', 'to', 'with', 'singapore.']),\n",
       "             'house_number': OrderedSet(['25', '#03-01/02', '609916']),\n",
       "             'road': OrderedSet(['international', 'business', 'park', 'german', 'centre', 'information']),\n",
       "             'city': OrderedSet(['singapore']),\n",
       "             'postcode': OrderedSet(['609916'])})"
      ]
     },
     "execution_count": 69,
     "metadata": {},
     "output_type": "execute_result"
    }
   ],
   "source": [
    "Address"
   ]
  },
  {
   "cell_type": "markdown",
   "metadata": {},
   "source": [
    "## USE Experiment (Not in Use)"
   ]
  },
  {
   "cell_type": "code",
   "execution_count": null,
   "metadata": {
    "ExecuteTime": {
     "end_time": "2020-04-30T19:59:52.443984Z",
     "start_time": "2020-04-30T19:59:38.968Z"
    }
   },
   "outputs": [],
   "source": [
    "def get_embeddings(text_list):\n",
    "    with tf.Session() as session:\n",
    "        session.run([tf.global_variables_initializer(), tf.tables_initializer()])\n",
    "        textual_embeddings = session.run(embed(text_list))\n",
    "    return textual_embeddings\n",
    "    \n",
    "def get_bert_embeddings(text_list):\n",
    "    return bert_sent_model.encode(text_list,convert_to_numpy=True, show_progress_bar=True)"
   ]
  },
  {
   "cell_type": "code",
   "execution_count": null,
   "metadata": {
    "ExecuteTime": {
     "end_time": "2020-04-30T19:59:52.479662Z",
     "start_time": "2020-04-30T19:59:38.973Z"
    }
   },
   "outputs": [],
   "source": [
    "def plot_sentence_embeddings(sentence_embeddings,token_list):\n",
    "    embedding = umap.UMAP(metric=\"correlation\", n_components=2, random_state=42).fit_transform(sentence_embeddings)\n",
    "    df_se_emb = pd.DataFrame(embedding, columns=[\"x\", \"y\"])\n",
    "    df_se_emb['tokens']=token_list\n",
    "    df_emb_sample = df_se_emb\n",
    "    fig, ax = plt.subplots(figsize=(12, 10))\n",
    "    plt.scatter(\n",
    "        df_emb_sample[\"x\"].values, df_emb_sample[\"y\"].values, s=50\n",
    "    )\n",
    "    plt.setp(ax, xticks=[], yticks=[])\n",
    "    plt.title(\"Sentence embeddings embedded into two dimensions by UMAP\", fontsize=18)\n",
    "    plt.show()\n",
    "    return df_emb_sample"
   ]
  },
  {
   "cell_type": "code",
   "execution_count": null,
   "metadata": {
    "ExecuteTime": {
     "end_time": "2020-04-30T19:59:52.487823Z",
     "start_time": "2020-04-30T19:59:38.976Z"
    }
   },
   "outputs": [],
   "source": [
    "%%time\n",
    "sentence_embeddings = get_bert_embeddings(corpus_token_list[0])\n",
    "df_emb_sample_0 = plot_sentence_embeddings(sentence_embeddings,corpus_token_list[0])"
   ]
  },
  {
   "cell_type": "code",
   "execution_count": null,
   "metadata": {
    "ExecuteTime": {
     "end_time": "2020-04-30T19:59:52.491833Z",
     "start_time": "2020-04-30T19:59:38.980Z"
    }
   },
   "outputs": [],
   "source": [
    "%%time\n",
    "sentence_embeddings = get_bert_embeddings(corpus_token_list[1])\n",
    "df_emb_sample_1 = plot_sentence_embeddings(sentence_embeddings,corpus_token_list[1])"
   ]
  },
  {
   "cell_type": "code",
   "execution_count": null,
   "metadata": {
    "ExecuteTime": {
     "end_time": "2020-04-30T19:59:52.495944Z",
     "start_time": "2020-04-30T19:59:38.983Z"
    }
   },
   "outputs": [],
   "source": [
    "%%time\n",
    "sentence_embeddings = get_bert_embeddings(corpus_token_list[2])\n",
    "df_emb_sample_2 = plot_sentence_embeddings(sentence_embeddings, corpus_token_list[2])"
   ]
  },
  {
   "cell_type": "code",
   "execution_count": null,
   "metadata": {
    "ExecuteTime": {
     "end_time": "2020-04-30T19:59:52.498408Z",
     "start_time": "2020-04-30T19:59:38.986Z"
    }
   },
   "outputs": [],
   "source": [
    "%%time\n",
    "sentence_embeddings = get_bert_embeddings(corpus_token_list[3])\n",
    "df_emb_sample_3 = plot_sentence_embeddings(sentence_embeddings,corpus_token_list[3])"
   ]
  },
  {
   "cell_type": "code",
   "execution_count": null,
   "metadata": {
    "ExecuteTime": {
     "end_time": "2020-04-30T19:59:52.501198Z",
     "start_time": "2020-04-30T19:59:38.990Z"
    }
   },
   "outputs": [],
   "source": [
    "df_emb_sample_0['tag']='url0'\n",
    "df_emb_sample_0.head()"
   ]
  },
  {
   "cell_type": "code",
   "execution_count": null,
   "metadata": {
    "ExecuteTime": {
     "end_time": "2020-04-30T19:59:52.503534Z",
     "start_time": "2020-04-30T19:59:38.992Z"
    }
   },
   "outputs": [],
   "source": [
    "\n",
    "df_emb_sample_1['tag']='url1'\n",
    "df_emb_sample_1.head()"
   ]
  },
  {
   "cell_type": "code",
   "execution_count": null,
   "metadata": {
    "ExecuteTime": {
     "end_time": "2020-04-30T19:59:52.505147Z",
     "start_time": "2020-04-30T19:59:38.995Z"
    }
   },
   "outputs": [],
   "source": [
    "\n",
    "df_emb_sample_2['tag']='url2'\n",
    "df_emb_sample_2.head()"
   ]
  },
  {
   "cell_type": "code",
   "execution_count": null,
   "metadata": {
    "ExecuteTime": {
     "end_time": "2020-04-30T19:59:52.507273Z",
     "start_time": "2020-04-30T19:59:38.998Z"
    }
   },
   "outputs": [],
   "source": [
    "\n",
    "df_emb_sample_3['tag']='url3'\n",
    "df_emb_sample_3.head()"
   ]
  },
  {
   "cell_type": "code",
   "execution_count": null,
   "metadata": {
    "ExecuteTime": {
     "end_time": "2020-04-30T19:59:52.509093Z",
     "start_time": "2020-04-30T19:59:39.001Z"
    }
   },
   "outputs": [],
   "source": [
    "df_emb_sample = df_emb_sample_0.append([df_emb_sample_1, df_emb_sample_2, df_emb_sample_3])"
   ]
  },
  {
   "cell_type": "code",
   "execution_count": null,
   "metadata": {
    "ExecuteTime": {
     "end_time": "2020-04-30T19:59:52.510392Z",
     "start_time": "2020-04-30T19:59:39.005Z"
    }
   },
   "outputs": [],
   "source": [
    "df_emb_sample.dropna(inplace=True,subset=['tokens'])"
   ]
  },
  {
   "cell_type": "code",
   "execution_count": null,
   "metadata": {
    "ExecuteTime": {
     "end_time": "2020-04-30T19:59:52.512313Z",
     "start_time": "2020-04-30T19:59:39.020Z"
    }
   },
   "outputs": [],
   "source": [
    "df_emb_sample.shape"
   ]
  },
  {
   "cell_type": "code",
   "execution_count": null,
   "metadata": {
    "ExecuteTime": {
     "end_time": "2020-04-30T19:59:52.514350Z",
     "start_time": "2020-04-30T19:59:39.029Z"
    }
   },
   "outputs": [],
   "source": [
    "import plotly_express as px\n",
    "px.colors.qualitative.D3"
   ]
  },
  {
   "cell_type": "code",
   "execution_count": null,
   "metadata": {
    "ExecuteTime": {
     "end_time": "2020-04-30T19:59:52.516648Z",
     "start_time": "2020-04-30T19:59:39.039Z"
    }
   },
   "outputs": [],
   "source": [
    "import plotly.express as px\n",
    "df_emb_sample['size']=1\n",
    "fig = px.scatter(df_emb_sample, x=\"x\", y=\"y\",size='size',color='tag', hover_name=df_emb_sample['tokens'])\n",
    "fig.show()"
   ]
  },
  {
   "cell_type": "code",
   "execution_count": null,
   "metadata": {
    "ExecuteTime": {
     "end_time": "2020-04-30T19:59:52.519090Z",
     "start_time": "2020-04-30T19:59:39.041Z"
    }
   },
   "outputs": [],
   "source": [
    "embedding_0 = get_bert_embeddings(corpus_token_list[0])\n",
    "embedding_1 = get_bert_embeddings(corpus_token_list[1])\n",
    "embedding_2 = get_bert_embeddings(corpus_token_list[2])\n",
    "embedding_3 = get_bert_embeddings(corpus_token_list[3])"
   ]
  },
  {
   "cell_type": "code",
   "execution_count": null,
   "metadata": {
    "ExecuteTime": {
     "end_time": "2020-04-30T19:59:52.521539Z",
     "start_time": "2020-04-30T19:59:39.043Z"
    }
   },
   "outputs": [],
   "source": [
    "Sum_of_squared_distances = []\n",
    "K = range(1,20)\n",
    "for k in K:\n",
    "    km = KMeans(n_clusters=k)\n",
    "    km = km.fit(df_emb_sample[['x','y']])\n",
    "    Sum_of_squared_distances.append(km.inertia_)\n",
    "    \n",
    "    \n",
    "plt.plot(K, Sum_of_squared_distances, 'bx-')\n",
    "plt.xlabel('k')\n",
    "plt.ylabel('Sum_of_squared_distances')\n",
    "plt.title('Elbow Method For Optimal k')\n",
    "plt.show()"
   ]
  },
  {
   "cell_type": "code",
   "execution_count": null,
   "metadata": {
    "ExecuteTime": {
     "end_time": "2020-04-30T19:59:52.523860Z",
     "start_time": "2020-04-30T19:59:39.045Z"
    }
   },
   "outputs": [],
   "source": [
    "from sklearn.cluster import KMeans\n",
    "\n",
    "num_clusters = 5"
   ]
  },
  {
   "cell_type": "code",
   "execution_count": null,
   "metadata": {
    "ExecuteTime": {
     "end_time": "2020-04-30T19:59:52.527644Z",
     "start_time": "2020-04-30T19:59:39.047Z"
    }
   },
   "outputs": [],
   "source": [
    "clustering_model = KMeans(n_clusters=num_clusters)\n",
    "clustering_model.fit(df_emb_sample[['x','y']])\n",
    "cluster_assignment = clustering_model.labels_\n",
    "df_embd_cluster = pd.DataFrame({'token':df_emb_sample['tokens'], 'cluster':cluster_assignment,'url':df_emb_sample['tag']})"
   ]
  },
  {
   "cell_type": "code",
   "execution_count": null,
   "metadata": {
    "ExecuteTime": {
     "end_time": "2020-04-30T19:59:52.531803Z",
     "start_time": "2020-04-30T19:59:39.049Z"
    }
   },
   "outputs": [],
   "source": [
    "# clustering_model = KMeans(n_clusters=4)\n",
    "# clustering_model.fit(embedding_0)\n",
    "# cluster_assignment = clustering_model.labels_\n",
    "# df_embd_0_cluster = pd.DataFrame({'token':corpus_token_list[0], 'cluster':cluster_assignment})"
   ]
  },
  {
   "cell_type": "code",
   "execution_count": null,
   "metadata": {
    "ExecuteTime": {
     "end_time": "2020-04-30T19:59:52.535119Z",
     "start_time": "2020-04-30T19:59:39.052Z"
    }
   },
   "outputs": [],
   "source": [
    "df_embd_cluster[df_embd_cluster.cluster==0].url.value_counts()"
   ]
  },
  {
   "cell_type": "code",
   "execution_count": null,
   "metadata": {
    "ExecuteTime": {
     "end_time": "2020-04-30T19:59:52.536895Z",
     "start_time": "2020-04-30T19:59:39.054Z"
    }
   },
   "outputs": [],
   "source": [
    "df_embd_cluster[df_embd_cluster.cluster==1].url.value_counts()"
   ]
  },
  {
   "cell_type": "code",
   "execution_count": null,
   "metadata": {
    "ExecuteTime": {
     "end_time": "2020-04-30T19:59:52.539102Z",
     "start_time": "2020-04-30T19:59:39.058Z"
    }
   },
   "outputs": [],
   "source": [
    "df_embd_cluster[df_embd_cluster.cluster==2].url.value_counts()"
   ]
  },
  {
   "cell_type": "code",
   "execution_count": null,
   "metadata": {
    "ExecuteTime": {
     "end_time": "2020-04-30T19:59:52.540671Z",
     "start_time": "2020-04-30T19:59:39.061Z"
    }
   },
   "outputs": [],
   "source": [
    "df_embd_cluster[df_embd_cluster.cluster==3].url.value_counts()"
   ]
  },
  {
   "cell_type": "code",
   "execution_count": null,
   "metadata": {
    "ExecuteTime": {
     "end_time": "2020-04-30T19:59:52.542417Z",
     "start_time": "2020-04-30T19:59:39.063Z"
    }
   },
   "outputs": [],
   "source": [
    "df_embd_cluster[df_embd_cluster.cluster==4].url.value_counts()"
   ]
  },
  {
   "cell_type": "code",
   "execution_count": null,
   "metadata": {
    "ExecuteTime": {
     "end_time": "2020-04-30T19:59:52.544143Z",
     "start_time": "2020-04-30T19:59:39.065Z"
    },
    "scrolled": false
   },
   "outputs": [],
   "source": [
    "df_embd_cluster[df_embd_cluster.cluster==4].values"
   ]
  },
  {
   "cell_type": "code",
   "execution_count": null,
   "metadata": {},
   "outputs": [],
   "source": []
  },
  {
   "cell_type": "code",
   "execution_count": null,
   "metadata": {},
   "outputs": [],
   "source": []
  }
 ],
 "metadata": {
  "kernelspec": {
   "display_name": "Python 3.7.4 64-bit",
   "language": "python",
   "name": "python37464bitd354516f517147279a113529c8fe5e5f"
  },
  "language_info": {
   "codemirror_mode": {
    "name": "ipython",
    "version": 3
   },
   "file_extension": ".py",
   "mimetype": "text/x-python",
   "name": "python",
   "nbconvert_exporter": "python",
   "pygments_lexer": "ipython3",
   "version": "3.7.7"
  },
  "toc": {
   "base_numbering": 1,
   "nav_menu": {},
   "number_sections": true,
   "sideBar": true,
   "skip_h1_title": false,
   "title_cell": "Table of Contents",
   "title_sidebar": "Contents",
   "toc_cell": false,
   "toc_position": {},
   "toc_section_display": true,
   "toc_window_display": false
  },
  "varInspector": {
   "cols": {
    "lenName": 16,
    "lenType": 16,
    "lenVar": 40
   },
   "kernels_config": {
    "python": {
     "delete_cmd_postfix": "",
     "delete_cmd_prefix": "del ",
     "library": "var_list.py",
     "varRefreshCmd": "print(var_dic_list())"
    },
    "r": {
     "delete_cmd_postfix": ") ",
     "delete_cmd_prefix": "rm(",
     "library": "var_list.r",
     "varRefreshCmd": "cat(var_dic_list()) "
    }
   },
   "types_to_exclude": [
    "module",
    "function",
    "builtin_function_or_method",
    "instance",
    "_Feature"
   ],
   "window_display": false
  }
 },
 "nbformat": 4,
 "nbformat_minor": 4
}
