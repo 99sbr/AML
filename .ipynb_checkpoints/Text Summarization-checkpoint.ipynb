{
 "cells": [
  {
   "cell_type": "markdown",
   "metadata": {},
   "source": [
    "### Import Libraries and Models"
   ]
  },
  {
   "cell_type": "code",
   "execution_count": null,
   "metadata": {
    "ExecuteTime": {
     "end_time": "2020-04-30T16:54:17.072925Z",
     "start_time": "2020-04-30T16:53:54.564660Z"
    }
   },
   "outputs": [],
   "source": [
    "from spacy_stanza import StanzaLanguage\n",
    "import stanza\n",
    "import spacy\n",
    "import nltk\n",
    "import tensorflow as tf\n",
    "import re\n",
    "import random\n",
    "from nltk.corpus import stopwords\n",
    "from nltk.cluster.util import cosine_distance\n",
    "import numpy as np\n",
    "import networkx as nx\n",
    "import requests\n",
    "from bs4 import BeautifulSoup\n",
    "import html2text\n",
    "from summarizer import Summarizer\n",
    "from textblob import TextBlob\n",
    "stop_words = stopwords.words('english')\n",
    "snlp = stanza.Pipeline(lang=\"en\")\n",
    "stanza_nlp = StanzaLanguage(snlp)\n",
    "spacy_nlp = spacy.load('en_core_web_lg')"
   ]
  },
  {
   "cell_type": "markdown",
   "metadata": {},
   "source": [
    "### Defining Client Profile Summary from Documentum"
   ]
  },
  {
   "cell_type": "code",
   "execution_count": 2,
   "metadata": {
    "ExecuteTime": {
     "end_time": "2020-04-30T16:54:17.125643Z",
     "start_time": "2020-04-30T16:54:17.075468Z"
    }
   },
   "outputs": [],
   "source": [
    "fromkyc = \"Holding company activities and collection center for FICOFI which is engaged in Import, Distribution and Sales of wines\\\n",
    "and spirits. The group has also centralized its operations in Singapore and setup a global treasury/ collection centre based here.\\\n",
    "The primary reason for this decision was that the group has lot of suppliers and clients who are commoon across various entities. When the\\\n",
    "cliens make payments they usually make one lumpsum payment for various invoices. To ensure that they streamline the process for their clients,\\\n",
    "ficofi has decides that they will start with centraliznig the collecttion process- collect funds from clients into accounts with SG.\"\n",
    "\n",
    "kyc_doc = spacy_nlp(fromkyc.strip())"
   ]
  },
  {
   "cell_type": "markdown",
   "metadata": {},
   "source": [
    "### Source URL list to crawl"
   ]
  },
  {
   "cell_type": "code",
   "execution_count": 3,
   "metadata": {
    "ExecuteTime": {
     "end_time": "2020-04-30T16:54:17.134236Z",
     "start_time": "2020-04-30T16:54:17.127508Z"
    }
   },
   "outputs": [],
   "source": [
    "source_url_list = [\n",
    "    \"https://recordowl.com/company/ficofi-partners-holding-pte-ltd\",\n",
    "    \"https://www.emis.com/php/company-profile/SG/Ficofi_Partners_Holding_Pte_Ltd_en_6690179.html\",\n",
    "    \"https://www.timesbusinessdirectory.com/companies/ficofi-partners-holding-pte-ltd\",\n",
    "    \"https://opengovsg.com/corporate/201309826H\"\n",
    "]"
   ]
  },
  {
   "cell_type": "markdown",
   "metadata": {},
   "source": [
    "### HTML Parsing and Text Cleaning"
   ]
  },
  {
   "cell_type": "code",
   "execution_count": 13,
   "metadata": {
    "ExecuteTime": {
     "end_time": "2020-04-30T16:57:53.437551Z",
     "start_time": "2020-04-30T16:57:53.422612Z"
    }
   },
   "outputs": [],
   "source": [
    "def text_cleaning(raw_text):\n",
    "    raw_text_list = raw_text.split('\\n')\n",
    "    raw_text_list = [\n",
    "        token for token in raw_text_list if token not in stop_words\n",
    "    ]\n",
    "    clean_sent_list = [\n",
    "        re.sub('[^A-Za-z0-9]+\\.-/', '', token) for token in raw_text_list\n",
    "        if bool(token)\n",
    "    ]\n",
    "    clean_sent = ' '.join(clean_sent_list)\n",
    "    clean_sent = ' '.join(clean_sent.split())\n",
    "    doc = stanza_nlp(clean_sent)\n",
    "\n",
    "    spacy_text_list = []\n",
    "    for sent in doc.sents:\n",
    "        spacy_text_list.append(sent.text)\n",
    "    import random\n",
    "    #     spacy_text_list = random.sample(spacy_text_list, len(spacy_text_list))\n",
    "    return spacy_text_list\n",
    "\n",
    "\n",
    "def tag2text(tag):\n",
    "\n",
    "    if tag.name == 'p':\n",
    "        return tag.text\n",
    "\n",
    "\n",
    "def parse_article(text):\n",
    "    soup = BeautifulSoup(text, 'html.parser')\n",
    "\n",
    "    # find the article title\n",
    "    h1 = soup.find('h1')\n",
    "\n",
    "    # find the common parent for <h1> and all <p>s.\n",
    "    root = h1\n",
    "    while root.name != 'body':\n",
    "        if root.parent == None:\n",
    "            break\n",
    "        root = root.parent\n",
    "\n",
    "    # find all the content elements.\n",
    "    ps = root.find_all(['h2', 'h3', 'h4', 'h5', 'h6', 'p', 'pre'])\n",
    "    ps.insert(0, h1)\n",
    "    content = [tag2text(p) for p in ps]\n",
    "    content = [x for x in content if bool(x)]\n",
    "    return content"
   ]
  },
  {
   "cell_type": "markdown",
   "metadata": {},
   "source": [
    "### Creating Corpus of Information from WEB"
   ]
  },
  {
   "cell_type": "code",
   "execution_count": 14,
   "metadata": {
    "ExecuteTime": {
     "end_time": "2020-04-30T16:57:54.328974Z",
     "start_time": "2020-04-30T16:57:54.321386Z"
    }
   },
   "outputs": [],
   "source": [
    "def gather_content_data(url_list):\n",
    "    assert len(url_list) > 0\n",
    "    corpus = []\n",
    "    for url in url_list:\n",
    "        content = parse_article(requests.get(url).text)\n",
    "        if bool(content):\n",
    "            corpus.append(' '.join(content))\n",
    "    spacy_text_list = text_cleaning(' '.join(corpus))\n",
    "    return ' '.join(spacy_text_list)"
   ]
  },
  {
   "cell_type": "code",
   "execution_count": 15,
   "metadata": {
    "ExecuteTime": {
     "end_time": "2020-04-30T16:58:02.876751Z",
     "start_time": "2020-04-30T16:57:54.950805Z"
    }
   },
   "outputs": [],
   "source": [
    "corpus = gather_content_data(url_list=source_url_list)"
   ]
  },
  {
   "cell_type": "markdown",
   "metadata": {},
   "source": [
    "### BERT based Text Summarization"
   ]
  },
  {
   "cell_type": "code",
   "execution_count": 16,
   "metadata": {
    "ExecuteTime": {
     "end_time": "2020-04-30T16:58:20.039028Z",
     "start_time": "2020-04-30T16:58:06.319921Z"
    }
   },
   "outputs": [],
   "source": [
    "model = Summarizer()"
   ]
  },
  {
   "cell_type": "code",
   "execution_count": 17,
   "metadata": {
    "ExecuteTime": {
     "end_time": "2020-04-30T16:59:00.742464Z",
     "start_time": "2020-04-30T16:58:56.147581Z"
    },
    "slideshow": {
     "slide_type": "slide"
    }
   },
   "outputs": [
    {
     "name": "stdout",
     "output_type": "stream",
     "text": [
      "Unique Entity Number: 201309826H FICOFI PARTNERS HOLDING PTE. The company was registered / incorporated on 12 April 2013 (Friday), 7 years ago The address of this company registered office is 25 INTERNATIONAL BUSINESS PARK #03-01/02 GERMAN CENTRE SINGAPORE 609916 The company has 7 officers / owners / shareholders. The company secondary activity is MANAGEMENT CONSULTANCY SERVICES N.E.C.. Ficofi Partners Holding Pte. It operates in the Management of Companies and Enterprises sector. It was incorporated on April 12, 2013. Ltd. report to view the information. EMIS company profiles are part of a larger information service which combines company, industry and country data and analysis for over 145 emerging markets. Marshall Cavendish Business Information Pte Ltd. All Rights Reserved. The entity status is Live Company. Each entity is registered with unique entity number (UEN), entity name, entity time, UEN issue date, location, etc.\n",
      "\n",
      " Polarity of Article: 0.08376623376623378\n"
     ]
    }
   ],
   "source": [
    "result = model(corpus, min_length=30, ratio=0.5, max_length=len(corpus))\n",
    "full = ''.join(result)\n",
    "print(full)\n",
    "testimonial = TextBlob(full)\n",
    "print('\\n Polarity of Article:', testimonial.sentiment.polarity)"
   ]
  },
  {
   "cell_type": "markdown",
   "metadata": {},
   "source": [
    "### Similarity Score Calculation using spaCy"
   ]
  },
  {
   "cell_type": "code",
   "execution_count": 20,
   "metadata": {
    "ExecuteTime": {
     "end_time": "2020-04-30T17:10:34.059343Z",
     "start_time": "2020-04-30T17:10:34.024097Z"
    }
   },
   "outputs": [
    {
     "name": "stdout",
     "output_type": "stream",
     "text": [
      "The Similarity Score of Sumaarized Text is: %d 0.930997122566286\n"
     ]
    }
   ],
   "source": [
    "extraction = spacy_nlp(full)\n",
    "similarity_score = extraction.similarity(kyc_doc)\n",
    "print('The Similarity Score of Sumaarized Text is: %d', similarity_score)"
   ]
  },
  {
   "cell_type": "code",
   "execution_count": null,
   "metadata": {},
   "outputs": [],
   "source": []
  }
 ],
 "metadata": {
  "kernelspec": {
   "display_name": "Python 3.7.4 64-bit",
   "language": "python",
   "name": "python37464bitd354516f517147279a113529c8fe5e5f"
  },
  "language_info": {
   "codemirror_mode": {
    "name": "ipython",
    "version": 3
   },
   "file_extension": ".py",
   "mimetype": "text/x-python",
   "name": "python",
   "nbconvert_exporter": "python",
   "pygments_lexer": "ipython3",
   "version": "3.7.7"
  },
  "toc": {
   "base_numbering": 1,
   "nav_menu": {},
   "number_sections": true,
   "sideBar": true,
   "skip_h1_title": false,
   "title_cell": "Table of Contents",
   "title_sidebar": "Contents",
   "toc_cell": false,
   "toc_position": {},
   "toc_section_display": true,
   "toc_window_display": false
  },
  "varInspector": {
   "cols": {
    "lenName": 16,
    "lenType": 16,
    "lenVar": 40
   },
   "kernels_config": {
    "python": {
     "delete_cmd_postfix": "",
     "delete_cmd_prefix": "del ",
     "library": "var_list.py",
     "varRefreshCmd": "print(var_dic_list())"
    },
    "r": {
     "delete_cmd_postfix": ") ",
     "delete_cmd_prefix": "rm(",
     "library": "var_list.r",
     "varRefreshCmd": "cat(var_dic_list()) "
    }
   },
   "position": {
    "height": "377px",
    "left": "1070px",
    "right": "20px",
    "top": "120px",
    "width": "350px"
   },
   "types_to_exclude": [
    "module",
    "function",
    "builtin_function_or_method",
    "instance",
    "_Feature"
   ],
   "window_display": false
  }
 },
 "nbformat": 4,
 "nbformat_minor": 4
}
