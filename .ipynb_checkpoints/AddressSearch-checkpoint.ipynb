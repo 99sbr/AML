{
 "cells": [
  {
   "cell_type": "markdown",
   "metadata": {},
   "source": [
    "## Load all libraries"
   ]
  },
  {
   "cell_type": "code",
   "execution_count": 1,
   "metadata": {
    "ExecuteTime": {
     "end_time": "2020-04-30T17:26:48.321829Z",
     "start_time": "2020-04-30T17:25:45.942679Z"
    }
   },
   "outputs": [
    {
     "name": "stderr",
     "output_type": "stream",
     "text": [
      "/Users/subir/pythonenv/default/lib/python3.7/site-packages/tensorboard/compat/tensorflow_stub/dtypes.py:541: FutureWarning: Passing (type, 1) or '1type' as a synonym of type is deprecated; in a future version of numpy, it will be understood as (type, (1,)) / '(1,)type'.\n",
      "  _np_qint8 = np.dtype([(\"qint8\", np.int8, 1)])\n",
      "/Users/subir/pythonenv/default/lib/python3.7/site-packages/tensorboard/compat/tensorflow_stub/dtypes.py:542: FutureWarning: Passing (type, 1) or '1type' as a synonym of type is deprecated; in a future version of numpy, it will be understood as (type, (1,)) / '(1,)type'.\n",
      "  _np_quint8 = np.dtype([(\"quint8\", np.uint8, 1)])\n",
      "/Users/subir/pythonenv/default/lib/python3.7/site-packages/tensorboard/compat/tensorflow_stub/dtypes.py:543: FutureWarning: Passing (type, 1) or '1type' as a synonym of type is deprecated; in a future version of numpy, it will be understood as (type, (1,)) / '(1,)type'.\n",
      "  _np_qint16 = np.dtype([(\"qint16\", np.int16, 1)])\n",
      "/Users/subir/pythonenv/default/lib/python3.7/site-packages/tensorboard/compat/tensorflow_stub/dtypes.py:544: FutureWarning: Passing (type, 1) or '1type' as a synonym of type is deprecated; in a future version of numpy, it will be understood as (type, (1,)) / '(1,)type'.\n",
      "  _np_quint16 = np.dtype([(\"quint16\", np.uint16, 1)])\n",
      "/Users/subir/pythonenv/default/lib/python3.7/site-packages/tensorboard/compat/tensorflow_stub/dtypes.py:545: FutureWarning: Passing (type, 1) or '1type' as a synonym of type is deprecated; in a future version of numpy, it will be understood as (type, (1,)) / '(1,)type'.\n",
      "  _np_qint32 = np.dtype([(\"qint32\", np.int32, 1)])\n",
      "/Users/subir/pythonenv/default/lib/python3.7/site-packages/tensorboard/compat/tensorflow_stub/dtypes.py:550: FutureWarning: Passing (type, 1) or '1type' as a synonym of type is deprecated; in a future version of numpy, it will be understood as (type, (1,)) / '(1,)type'.\n",
      "  np_resource = np.dtype([(\"resource\", np.ubyte, 1)])\n",
      "/Users/subir/pythonenv/default/lib/python3.7/site-packages/statsmodels/tools/_testing.py:19: FutureWarning:\n",
      "\n",
      "pandas.util.testing is deprecated. Use the functions in the public API at pandas.testing instead.\n",
      "\n",
      "2020-04-30 22:56:10 INFO: Loading these models for language: en (English):\n",
      "=========================\n",
      "| Processor | Package   |\n",
      "-------------------------\n",
      "| tokenize  | ewt       |\n",
      "| pos       | ewt       |\n",
      "| lemma     | ewt       |\n",
      "| depparse  | ewt       |\n",
      "| ner       | ontonotes |\n",
      "=========================\n",
      "\n",
      "2020-04-30 22:56:10 INFO: Use device: cpu\n",
      "2020-04-30 22:56:10 INFO: Loading: tokenize\n",
      "2020-04-30 22:56:10 INFO: Loading: pos\n",
      "2020-04-30 22:56:12 INFO: Loading: lemma\n",
      "2020-04-30 22:56:12 INFO: Loading: depparse\n",
      "2020-04-30 22:56:13 INFO: Loading: ner\n",
      "2020-04-30 22:56:14 INFO: Done loading processors!\n"
     ]
    },
    {
     "data": {
      "text/html": [
       "        <script type=\"text/javascript\">\n",
       "        window.PlotlyConfig = {MathJaxConfig: 'local'};\n",
       "        if (window.MathJax) {MathJax.Hub.Config({SVG: {font: \"STIX-Web\"}});}\n",
       "        if (typeof require !== 'undefined') {\n",
       "        require.undef(\"plotly\");\n",
       "        requirejs.config({\n",
       "            paths: {\n",
       "                'plotly': ['https://cdn.plot.ly/plotly-latest.min']\n",
       "            }\n",
       "        });\n",
       "        require(['plotly'], function(Plotly) {\n",
       "            window._Plotly = Plotly;\n",
       "        });\n",
       "        }\n",
       "        </script>\n",
       "        "
      ]
     },
     "metadata": {},
     "output_type": "display_data"
    },
    {
     "data": {
      "text/html": [
       "        <script type=\"text/javascript\">\n",
       "        window.PlotlyConfig = {MathJaxConfig: 'local'};\n",
       "        if (window.MathJax) {MathJax.Hub.Config({SVG: {font: \"STIX-Web\"}});}\n",
       "        if (typeof require !== 'undefined') {\n",
       "        require.undef(\"plotly\");\n",
       "        requirejs.config({\n",
       "            paths: {\n",
       "                'plotly': ['https://cdn.plot.ly/plotly-latest.min']\n",
       "            }\n",
       "        });\n",
       "        require(['plotly'], function(Plotly) {\n",
       "            window._Plotly = Plotly;\n",
       "        });\n",
       "        }\n",
       "        </script>\n",
       "        "
      ]
     },
     "metadata": {},
     "output_type": "display_data"
    }
   ],
   "source": [
    "from nltk.corpus import stopwords\n",
    "from summarizer import Summarizer\n",
    "import tensorflow_hub as hub\n",
    "import tensorflow as tf\n",
    "import pandas as pd\n",
    "import umap\n",
    "import nltk\n",
    "from bs4 import BeautifulSoup\n",
    "from ordered_set import OrderedSet\n",
    "import usaddress\n",
    "import requests\n",
    "import html2text\n",
    "import spacy\n",
    "from spacy_stanza import StanzaLanguage\n",
    "import stanza\n",
    "import spacy\n",
    "import re\n",
    "from postal.parser import parse_address\n",
    "from streetaddress import StreetAddressFormatter, StreetAddressParser\n",
    "import chart_studio.plotly as py\n",
    "import plotly.graph_objs as go\n",
    "from plotly.offline import iplot, init_notebook_mode\n",
    "import cufflinks\n",
    "import matplotlib.pyplot as plt\n",
    "from mpl_toolkits.mplot3d import Axes3D\n",
    "import seaborn as sns\n",
    "import numpy as np\n",
    "import time\n",
    "from sklearn.manifold import TSNE\n",
    "from sentence_transformers import SentenceTransformer\n",
    "snlp = stanza.Pipeline(lang=\"en\")\n",
    "stanza_nlp = StanzaLanguage(snlp)\n",
    "spacy_nlp = spacy.load('en_core_web_lg')\n",
    "bert_sent_model = SentenceTransformer('roberta-base-nli-mean-tokens')\n",
    "stopwords = set(stopwords.words('english'))\n",
    "model = Summarizer()\n",
    "# Standard plotly imports\n",
    "# Using plotly + cufflinks in offline mode\n",
    "cufflinks.go_offline(connected=True)\n",
    "init_notebook_mode(connected=True)"
   ]
  },
  {
   "cell_type": "code",
   "execution_count": 2,
   "metadata": {
    "ExecuteTime": {
     "end_time": "2020-04-29T09:19:37.112011Z",
     "start_time": "2020-04-29T09:19:29.951841Z"
    }
   },
   "outputs": [],
   "source": [
    "module_url = r\"/Users/subir/tf-models/use-model/4/\"\n",
    "# Import the Universal Sentence Encoder's TF Hub module\n",
    "embed = hub.load(module_url)"
   ]
  },
  {
   "cell_type": "code",
   "execution_count": 61,
   "metadata": {
    "ExecuteTime": {
     "end_time": "2020-04-30T17:56:10.568839Z",
     "start_time": "2020-04-30T17:56:10.565520Z"
    }
   },
   "outputs": [],
   "source": [
    "Counterparty = 'ficofi holdings pvt ltd.'\n",
    "RegisteredAddress = \"25 INTERNATIONAL BUSINESS PARK #03-01/02 GERMAN CENTRE SINGAPORE (609916)\""
   ]
  },
  {
   "cell_type": "markdown",
   "metadata": {},
   "source": [
    "## URL list"
   ]
  },
  {
   "cell_type": "code",
   "execution_count": 3,
   "metadata": {
    "ExecuteTime": {
     "end_time": "2020-04-30T17:27:19.435387Z",
     "start_time": "2020-04-30T17:27:19.431794Z"
    }
   },
   "outputs": [],
   "source": [
    "base_url_list = [\n",
    "    \"https://recordowl.com/company/ficofi-partners-holding-pte-ltd\",\n",
    "    \"https://www.emis.com/php/company-profile/SG/Ficofi_Partners_Holding_Pte_Ltd_en_6690179.html\",\n",
    "    \"https://www.timesbusinessdirectory.com/companies/ficofi-partners-holding-pte-ltd\",\n",
    "    \"https://opengovsg.com/corporate/201309826H\"\n",
    "]"
   ]
  },
  {
   "cell_type": "markdown",
   "metadata": {
    "ExecuteTime": {
     "end_time": "2020-04-27T08:24:20.059960Z",
     "start_time": "2020-04-27T08:24:20.057040Z"
    }
   },
   "source": [
    "## PreProcesing URL and Raw Text"
   ]
  },
  {
   "cell_type": "code",
   "execution_count": 52,
   "metadata": {
    "ExecuteTime": {
     "end_time": "2020-04-30T17:53:57.985709Z",
     "start_time": "2020-04-30T17:53:57.974924Z"
    },
    "cell_style": "center"
   },
   "outputs": [],
   "source": [
    "def text_cleaning(raw_text):\n",
    "    raw_text_list = raw_text.replace('\\n',' ').split()\n",
    "    raw_text_list = [\n",
    "        token for token in raw_text_list if token not in stopwords\n",
    "    ]\n",
    "    clean_sent_list = [\n",
    "        re.sub('[^A-Za-z0-9]+\\.-/', '', token) for token in raw_text_list\n",
    "        if bool(token)\n",
    "    ]\n",
    "    clean_sent = ' '.join(clean_sent_list)\n",
    "    clean_sent = ' '.join(clean_sent.split())\n",
    "    doc = stanza_nlp(clean_sent)\n",
    "\n",
    "    spacy_text_list = []\n",
    "    for sent in doc.sents:\n",
    "        spacy_text_list.append(sent.text)\n",
    "    import random\n",
    "    spacy_text_list = random.sample(spacy_text_list, len(spacy_text_list))\n",
    "    return spacy_text_list\n",
    "\n",
    "\n",
    "def tag2text(tag):\n",
    "\n",
    "    if tag.name == 'p':\n",
    "        return tag.text\n",
    "\n",
    "\n",
    "def parse_article(text):\n",
    "    soup = BeautifulSoup(text, 'html.parser')\n",
    "\n",
    "    # find the article title\n",
    "    h1 = soup.find('h1')\n",
    "\n",
    "    # find the common parent for <h1> and all <p>s.\n",
    "    root = h1\n",
    "    while root.name != 'body':\n",
    "        if root.parent == None:\n",
    "            break\n",
    "        root = root.parent\n",
    "\n",
    "    # find all the content elements.\n",
    "    ps = root.find_all(['h2', 'h3', 'h4', 'h5', 'h6', 'p', 'pre'])\n",
    "    ps.insert(0, h1)\n",
    "    content = [tag2text(p) for p in ps]\n",
    "    content = [x for x in content if bool(x)]\n",
    "    return content"
   ]
  },
  {
   "cell_type": "markdown",
   "metadata": {},
   "source": [
    "## Jaccard Similarity technique"
   ]
  },
  {
   "cell_type": "code",
   "execution_count": 53,
   "metadata": {
    "ExecuteTime": {
     "end_time": "2020-04-30T17:54:06.136083Z",
     "start_time": "2020-04-30T17:53:58.699987Z"
    }
   },
   "outputs": [],
   "source": [
    "corpus_token_list = []\n",
    "for url in base_url_list:\n",
    "    clean_text_list = parse_article(requests.get(url).text)\n",
    "    if bool(clean_text_list):\n",
    "        clean_corpus = text_cleaning(' '.join(clean_text_list))\n",
    "        corpus_token_list.append(clean_corpus)"
   ]
  },
  {
   "cell_type": "code",
   "execution_count": 64,
   "metadata": {
    "ExecuteTime": {
     "end_time": "2020-04-30T17:57:04.176986Z",
     "start_time": "2020-04-30T17:57:04.169687Z"
    }
   },
   "outputs": [],
   "source": [
    "from itertools import combinations\n",
    "\n",
    "\n",
    "def get_jaccard_sim_multi(str1, str2, str3, str4):\n",
    "    a = OrderedSet(str1.lower().split())\n",
    "    b = OrderedSet(str2.lower().split())\n",
    "    c = OrderedSet(str3.lower().split())\n",
    "    d = OrderedSet(str4.lower().split())\n",
    "\n",
    "    Combinations = list(combinations([a, b, c, d], 2))\n",
    "    e = set()\n",
    "    for x in Combinations:\n",
    "        print(OrderedSet(x[0].intersection(x[1]))-set(Counterparty.split()))\n",
    "    return e"
   ]
  },
  {
   "cell_type": "code",
   "execution_count": 65,
   "metadata": {
    "ExecuteTime": {
     "end_time": "2020-04-30T17:57:04.594350Z",
     "start_time": "2020-04-30T17:57:04.587243Z"
    }
   },
   "outputs": [
    {
     "name": "stdout",
     "output_type": "stream",
     "text": [
      "OrderedSet(['company', 'partners', 'holding', 'pte.', 'management', 'incorporated', 'april', 'office', '25', 'international', 'business', 'park', '#03-01/02', 'german', 'centre', 'singapore', '609916'])\n",
      "OrderedSet(['partners', 'holding', '25', 'international', 'business', 'park', '#03-01/02', 'german', 'centre', 'singapore', '609916'])\n",
      "OrderedSet(['the', 'partners', 'holding', 'pte.', 'unique', 'entity', 'status', 'live', 'company.', 'registered', 'april'])\n",
      "OrderedSet(['partners', 'holding', 'information', '25', 'international', 'business', 'park', '609916', 'german', 'centre', 'singapore', '#03-01/02'])\n",
      "OrderedSet(['partners', 'holding', 'pte.', 'singapore.', 'information', 'april', '2013.'])\n",
      "OrderedSet(['partners', 'holding', 'information'])\n"
     ]
    }
   ],
   "source": [
    "match_text = get_jaccard_sim_multi(' '.join(corpus_token_list[0]), ' '.join(corpus_token_list[1]), ' '.join(corpus_token_list[2]), ' '.join(corpus_token_list[3]))"
   ]
  },
  {
   "cell_type": "markdown",
   "metadata": {},
   "source": [
    "## USE Experiment (Not in Use)"
   ]
  },
  {
   "cell_type": "code",
   "execution_count": 110,
   "metadata": {
    "ExecuteTime": {
     "end_time": "2020-04-29T21:19:04.842326Z",
     "start_time": "2020-04-29T21:19:04.831213Z"
    }
   },
   "outputs": [],
   "source": [
    "def get_embeddings(text_list):\n",
    "    with tf.Session() as session:\n",
    "        session.run([tf.global_variables_initializer(), tf.tables_initializer()])\n",
    "        textual_embeddings = session.run(embed(text_list))\n",
    "    return textual_embeddings\n",
    "    \n",
    "def get_bert_embeddings(text_list):\n",
    "    return bert_sent_model.encode(text_list,convert_to_numpy=True, show_progress_bar=True)"
   ]
  },
  {
   "cell_type": "code",
   "execution_count": 161,
   "metadata": {
    "ExecuteTime": {
     "end_time": "2020-04-30T06:57:15.776713Z",
     "start_time": "2020-04-30T06:57:15.761665Z"
    }
   },
   "outputs": [],
   "source": [
    "def plot_sentence_embeddings(sentence_embeddings,token_list):\n",
    "    embedding = umap.UMAP(metric=\"correlation\", n_components=2, random_state=42).fit_transform(sentence_embeddings)\n",
    "    df_se_emb = pd.DataFrame(embedding, columns=[\"x\", \"y\"])\n",
    "    df_se_emb['tokens']=token_list\n",
    "    df_emb_sample = df_se_emb\n",
    "    fig, ax = plt.subplots(figsize=(12, 10))\n",
    "    plt.scatter(\n",
    "        df_emb_sample[\"x\"].values, df_emb_sample[\"y\"].values, s=50\n",
    "    )\n",
    "    plt.setp(ax, xticks=[], yticks=[])\n",
    "    plt.title(\"Sentence embeddings embedded into two dimensions by UMAP\", fontsize=18)\n",
    "    plt.show()\n",
    "    return df_emb_sample"
   ]
  },
  {
   "cell_type": "code",
   "execution_count": 239,
   "metadata": {
    "ExecuteTime": {
     "end_time": "2020-04-30T07:45:01.455169Z",
     "start_time": "2020-04-30T07:44:59.470310Z"
    }
   },
   "outputs": [
    {
     "name": "stderr",
     "output_type": "stream",
     "text": [
      "Batches: 100%|██████████| 6/6 [00:01<00:00,  3.47it/s]\n"
     ]
    },
    {
     "data": {
      "image/png": "[encoded data removed]",
      "text/plain": [
       "<Figure size 864x720 with 1 Axes>"
      ]
     },
     "metadata": {},
     "output_type": "display_data"
    },
    {
     "name": "stdout",
     "output_type": "stream",
     "text": [
      "CPU times: user 5.7 s, sys: 795 ms, total: 6.49 s\n",
      "Wall time: 1.98 s\n"
     ]
    }
   ],
   "source": [
    "%%time\n",
    "sentence_embeddings = get_bert_embeddings(corpus_token_list[0])\n",
    "df_emb_sample_0 = plot_sentence_embeddings(sentence_embeddings,corpus_token_list[0])"
   ]
  },
  {
   "cell_type": "code",
   "execution_count": 240,
   "metadata": {
    "ExecuteTime": {
     "end_time": "2020-04-30T07:45:12.831675Z",
     "start_time": "2020-04-30T07:45:07.383589Z"
    }
   },
   "outputs": [
    {
     "name": "stderr",
     "output_type": "stream",
     "text": [
      "Batches: 100%|██████████| 17/17 [00:05<00:00,  3.37it/s]\n"
     ]
    },
    {
     "data": {
      "image/png": "[encoded data removed]",
      "text/plain": [
       "<Figure size 864x720 with 1 Axes>"
      ]
     },
     "metadata": {},
     "output_type": "display_data"
    },
    {
     "name": "stdout",
     "output_type": "stream",
     "text": [
      "CPU times: user 16.2 s, sys: 466 ms, total: 16.7 s\n",
      "Wall time: 5.44 s\n"
     ]
    }
   ],
   "source": [
    "%%time\n",
    "sentence_embeddings = get_bert_embeddings(corpus_token_list[1])\n",
    "df_emb_sample_1 = plot_sentence_embeddings(sentence_embeddings,corpus_token_list[1])"
   ]
  },
  {
   "cell_type": "code",
   "execution_count": 241,
   "metadata": {
    "ExecuteTime": {
     "end_time": "2020-04-30T07:45:22.878001Z",
     "start_time": "2020-04-30T07:45:20.893708Z"
    }
   },
   "outputs": [
    {
     "name": "stderr",
     "output_type": "stream",
     "text": [
      "Batches: 100%|██████████| 7/7 [00:01<00:00,  4.02it/s]\n"
     ]
    },
    {
     "data": {
      "image/png": "[encoded data removed]",
      "text/plain": [
       "<Figure size 864x720 with 1 Axes>"
      ]
     },
     "metadata": {},
     "output_type": "display_data"
    },
    {
     "name": "stdout",
     "output_type": "stream",
     "text": [
      "CPU times: user 6.81 s, sys: 210 ms, total: 7.02 s\n",
      "Wall time: 1.98 s\n"
     ]
    }
   ],
   "source": [
    "%%time\n",
    "sentence_embeddings = get_bert_embeddings(corpus_token_list[2])\n",
    "df_emb_sample_2 = plot_sentence_embeddings(sentence_embeddings, corpus_token_list[2])"
   ]
  },
  {
   "cell_type": "code",
   "execution_count": 242,
   "metadata": {
    "ExecuteTime": {
     "end_time": "2020-04-30T07:45:32.321263Z",
     "start_time": "2020-04-30T07:45:28.776996Z"
    }
   },
   "outputs": [
    {
     "name": "stderr",
     "output_type": "stream",
     "text": [
      "Batches: 100%|██████████| 15/15 [00:03<00:00,  4.76it/s]\n"
     ]
    },
    {
     "data": {
      "image/png": "[encoded data removed]",
      "text/plain": [
       "<Figure size 864x720 with 1 Axes>"
      ]
     },
     "metadata": {},
     "output_type": "display_data"
    },
    {
     "name": "stdout",
     "output_type": "stream",
     "text": [
      "CPU times: user 12.5 s, sys: 247 ms, total: 12.8 s\n",
      "Wall time: 3.54 s\n"
     ]
    }
   ],
   "source": [
    "%%time\n",
    "sentence_embeddings = get_bert_embeddings(corpus_token_list[3])\n",
    "df_emb_sample_3 = plot_sentence_embeddings(sentence_embeddings,corpus_token_list[3])"
   ]
  },
  {
   "cell_type": "code",
   "execution_count": 243,
   "metadata": {
    "ExecuteTime": {
     "end_time": "2020-04-30T07:45:40.240851Z",
     "start_time": "2020-04-30T07:45:40.216671Z"
    }
   },
   "outputs": [
    {
     "data": {
      "text/html": [
       "<div>\n",
       "<style scoped>\n",
       "    .dataframe tbody tr th:only-of-type {\n",
       "        vertical-align: middle;\n",
       "    }\n",
       "\n",
       "    .dataframe tbody tr th {\n",
       "        vertical-align: top;\n",
       "    }\n",
       "\n",
       "    .dataframe thead th {\n",
       "        text-align: right;\n",
       "    }\n",
       "</style>\n",
       "<table border=\"1\" class=\"dataframe\">\n",
       "  <thead>\n",
       "    <tr style=\"text-align: right;\">\n",
       "      <th></th>\n",
       "      <th>x</th>\n",
       "      <th>y</th>\n",
       "      <th>tokens</th>\n",
       "      <th>tag</th>\n",
       "    </tr>\n",
       "  </thead>\n",
       "  <tbody>\n",
       "    <tr>\n",
       "      <th>0</th>\n",
       "      <td>-9.463081</td>\n",
       "      <td>5.195532</td>\n",
       "      <td>About The Directory | Add Your Company | Conta...</td>\n",
       "      <td>url0</td>\n",
       "    </tr>\n",
       "    <tr>\n",
       "      <th>1</th>\n",
       "      <td>-9.123049</td>\n",
       "      <td>6.021862</td>\n",
       "      <td>Products/Services Company Names Keywords</td>\n",
       "      <td>url0</td>\n",
       "    </tr>\n",
       "    <tr>\n",
       "      <th>2</th>\n",
       "      <td>-1.884155</td>\n",
       "      <td>1.714819</td>\n",
       "      <td>* * *</td>\n",
       "      <td>url0</td>\n",
       "    </tr>\n",
       "    <tr>\n",
       "      <th>3</th>\n",
       "      <td>-1.434653</td>\n",
       "      <td>1.965562</td>\n",
       "      <td>Search</td>\n",
       "      <td>url0</td>\n",
       "    </tr>\n",
       "    <tr>\n",
       "      <th>4</th>\n",
       "      <td>-8.614246</td>\n",
       "      <td>5.901815</td>\n",
       "      <td>Products/Services Company Names Keywords</td>\n",
       "      <td>url0</td>\n",
       "    </tr>\n",
       "  </tbody>\n",
       "</table>\n",
       "</div>"
      ],
      "text/plain": [
       "          x         y                                             tokens   tag\n",
       "0 -9.463081  5.195532  About The Directory | Add Your Company | Conta...  url0\n",
       "1 -9.123049  6.021862           Products/Services Company Names Keywords  url0\n",
       "2 -1.884155  1.714819                                              * * *  url0\n",
       "3 -1.434653  1.965562                                             Search  url0\n",
       "4 -8.614246  5.901815           Products/Services Company Names Keywords  url0"
      ]
     },
     "execution_count": 243,
     "metadata": {},
     "output_type": "execute_result"
    }
   ],
   "source": [
    "df_emb_sample_0['tag']='url0'\n",
    "df_emb_sample_0.head()"
   ]
  },
  {
   "cell_type": "code",
   "execution_count": 244,
   "metadata": {
    "ExecuteTime": {
     "end_time": "2020-04-30T07:45:47.057056Z",
     "start_time": "2020-04-30T07:45:47.043943Z"
    }
   },
   "outputs": [
    {
     "data": {
      "text/html": [
       "<div>\n",
       "<style scoped>\n",
       "    .dataframe tbody tr th:only-of-type {\n",
       "        vertical-align: middle;\n",
       "    }\n",
       "\n",
       "    .dataframe tbody tr th {\n",
       "        vertical-align: top;\n",
       "    }\n",
       "\n",
       "    .dataframe thead th {\n",
       "        text-align: right;\n",
       "    }\n",
       "</style>\n",
       "<table border=\"1\" class=\"dataframe\">\n",
       "  <thead>\n",
       "    <tr style=\"text-align: right;\">\n",
       "      <th></th>\n",
       "      <th>x</th>\n",
       "      <th>y</th>\n",
       "      <th>tokens</th>\n",
       "      <th>tag</th>\n",
       "    </tr>\n",
       "  </thead>\n",
       "  <tbody>\n",
       "    <tr>\n",
       "      <th>0</th>\n",
       "      <td>4.618636</td>\n",
       "      <td>-1.255456</td>\n",
       "      <td>* $0.00 (0)</td>\n",
       "      <td>url1</td>\n",
       "    </tr>\n",
       "    <tr>\n",
       "      <th>1</th>\n",
       "      <td>3.614582</td>\n",
       "      <td>1.571905</td>\n",
       "      <td>* EMIS Store</td>\n",
       "      <td>url1</td>\n",
       "    </tr>\n",
       "    <tr>\n",
       "      <th>2</th>\n",
       "      <td>3.123037</td>\n",
       "      <td>5.337328</td>\n",
       "      <td>* SELECT LANGUAGE  Polski Español Português ...</td>\n",
       "      <td>url1</td>\n",
       "    </tr>\n",
       "    <tr>\n",
       "      <th>3</th>\n",
       "      <td>13.585464</td>\n",
       "      <td>13.787697</td>\n",
       "      <td>* Client log in</td>\n",
       "      <td>url1</td>\n",
       "    </tr>\n",
       "    <tr>\n",
       "      <th>4</th>\n",
       "      <td>13.068443</td>\n",
       "      <td>12.437340</td>\n",
       "      <td>Menu Close REQUEST A DEMO</td>\n",
       "      <td>url1</td>\n",
       "    </tr>\n",
       "  </tbody>\n",
       "</table>\n",
       "</div>"
      ],
      "text/plain": [
       "           x          y                                             tokens  \\\n",
       "0   4.618636  -1.255456                                        * $0.00 (0)   \n",
       "1   3.614582   1.571905                                       * EMIS Store   \n",
       "2   3.123037   5.337328    * SELECT LANGUAGE  Polski Español Português ...   \n",
       "3  13.585464  13.787697                                    * Client log in   \n",
       "4  13.068443  12.437340                          Menu Close REQUEST A DEMO   \n",
       "\n",
       "    tag  \n",
       "0  url1  \n",
       "1  url1  \n",
       "2  url1  \n",
       "3  url1  \n",
       "4  url1  "
      ]
     },
     "execution_count": 244,
     "metadata": {},
     "output_type": "execute_result"
    }
   ],
   "source": [
    "\n",
    "df_emb_sample_1['tag']='url1'\n",
    "df_emb_sample_1.head()"
   ]
  },
  {
   "cell_type": "code",
   "execution_count": 245,
   "metadata": {
    "ExecuteTime": {
     "end_time": "2020-04-30T07:45:53.716696Z",
     "start_time": "2020-04-30T07:45:53.701964Z"
    }
   },
   "outputs": [
    {
     "data": {
      "text/html": [
       "<div>\n",
       "<style scoped>\n",
       "    .dataframe tbody tr th:only-of-type {\n",
       "        vertical-align: middle;\n",
       "    }\n",
       "\n",
       "    .dataframe tbody tr th {\n",
       "        vertical-align: top;\n",
       "    }\n",
       "\n",
       "    .dataframe thead th {\n",
       "        text-align: right;\n",
       "    }\n",
       "</style>\n",
       "<table border=\"1\" class=\"dataframe\">\n",
       "  <thead>\n",
       "    <tr style=\"text-align: right;\">\n",
       "      <th></th>\n",
       "      <th>x</th>\n",
       "      <th>y</th>\n",
       "      <th>tokens</th>\n",
       "      <th>tag</th>\n",
       "    </tr>\n",
       "  </thead>\n",
       "  <tbody>\n",
       "    <tr>\n",
       "      <th>0</th>\n",
       "      <td>-7.038494</td>\n",
       "      <td>5.894130</td>\n",
       "      <td>###### RecordOwl</td>\n",
       "      <td>url2</td>\n",
       "    </tr>\n",
       "    <tr>\n",
       "      <th>1</th>\n",
       "      <td>-5.923203</td>\n",
       "      <td>5.003050</td>\n",
       "      <td>Guest Account</td>\n",
       "      <td>url2</td>\n",
       "    </tr>\n",
       "    <tr>\n",
       "      <th>2</th>\n",
       "      <td>-6.694030</td>\n",
       "      <td>4.311916</td>\n",
       "      <td>UNREGISTERED</td>\n",
       "      <td>url2</td>\n",
       "    </tr>\n",
       "    <tr>\n",
       "      <th>3</th>\n",
       "      <td>-6.472794</td>\n",
       "      <td>4.950655</td>\n",
       "      <td>###### YOUR ACCOUNT</td>\n",
       "      <td>url2</td>\n",
       "    </tr>\n",
       "    <tr>\n",
       "      <th>4</th>\n",
       "      <td>-3.978050</td>\n",
       "      <td>6.630938</td>\n",
       "      <td>* Latest Company Company By Category Company...</td>\n",
       "      <td>url2</td>\n",
       "    </tr>\n",
       "  </tbody>\n",
       "</table>\n",
       "</div>"
      ],
      "text/plain": [
       "          x         y                                             tokens   tag\n",
       "0 -7.038494  5.894130                                   ###### RecordOwl  url2\n",
       "1 -5.923203  5.003050                                      Guest Account  url2\n",
       "2 -6.694030  4.311916                                       UNREGISTERED  url2\n",
       "3 -6.472794  4.950655                                ###### YOUR ACCOUNT  url2\n",
       "4 -3.978050  6.630938    * Latest Company Company By Category Company...  url2"
      ]
     },
     "execution_count": 245,
     "metadata": {},
     "output_type": "execute_result"
    }
   ],
   "source": [
    "\n",
    "df_emb_sample_2['tag']='url2'\n",
    "df_emb_sample_2.head()"
   ]
  },
  {
   "cell_type": "code",
   "execution_count": 246,
   "metadata": {
    "ExecuteTime": {
     "end_time": "2020-04-30T07:46:00.363643Z",
     "start_time": "2020-04-30T07:46:00.351296Z"
    }
   },
   "outputs": [
    {
     "data": {
      "text/html": [
       "<div>\n",
       "<style scoped>\n",
       "    .dataframe tbody tr th:only-of-type {\n",
       "        vertical-align: middle;\n",
       "    }\n",
       "\n",
       "    .dataframe tbody tr th {\n",
       "        vertical-align: top;\n",
       "    }\n",
       "\n",
       "    .dataframe thead th {\n",
       "        text-align: right;\n",
       "    }\n",
       "</style>\n",
       "<table border=\"1\" class=\"dataframe\">\n",
       "  <thead>\n",
       "    <tr style=\"text-align: right;\">\n",
       "      <th></th>\n",
       "      <th>x</th>\n",
       "      <th>y</th>\n",
       "      <th>tokens</th>\n",
       "      <th>tag</th>\n",
       "    </tr>\n",
       "  </thead>\n",
       "  <tbody>\n",
       "    <tr>\n",
       "      <th>0</th>\n",
       "      <td>1.443307</td>\n",
       "      <td>11.008742</td>\n",
       "      <td>Toggle navigation OPENGOVSG</td>\n",
       "      <td>url3</td>\n",
       "    </tr>\n",
       "    <tr>\n",
       "      <th>1</th>\n",
       "      <td>-0.686653</td>\n",
       "      <td>9.014278</td>\n",
       "      <td>* Corporate</td>\n",
       "      <td>url3</td>\n",
       "    </tr>\n",
       "    <tr>\n",
       "      <th>2</th>\n",
       "      <td>-0.507358</td>\n",
       "      <td>9.214355</td>\n",
       "      <td>* Corporate</td>\n",
       "      <td>url3</td>\n",
       "    </tr>\n",
       "    <tr>\n",
       "      <th>3</th>\n",
       "      <td>3.141993</td>\n",
       "      <td>13.411612</td>\n",
       "      <td>* Flat</td>\n",
       "      <td>url3</td>\n",
       "    </tr>\n",
       "    <tr>\n",
       "      <th>4</th>\n",
       "      <td>2.804739</td>\n",
       "      <td>12.445339</td>\n",
       "      <td>* Flat Resale Prices</td>\n",
       "      <td>url3</td>\n",
       "    </tr>\n",
       "  </tbody>\n",
       "</table>\n",
       "</div>"
      ],
      "text/plain": [
       "          x          y                       tokens   tag\n",
       "0  1.443307  11.008742  Toggle navigation OPENGOVSG  url3\n",
       "1 -0.686653   9.014278                  * Corporate  url3\n",
       "2 -0.507358   9.214355                  * Corporate  url3\n",
       "3  3.141993  13.411612                       * Flat  url3\n",
       "4  2.804739  12.445339         * Flat Resale Prices  url3"
      ]
     },
     "execution_count": 246,
     "metadata": {},
     "output_type": "execute_result"
    }
   ],
   "source": [
    "\n",
    "df_emb_sample_3['tag']='url3'\n",
    "df_emb_sample_3.head()"
   ]
  },
  {
   "cell_type": "code",
   "execution_count": 247,
   "metadata": {
    "ExecuteTime": {
     "end_time": "2020-04-30T07:46:06.968444Z",
     "start_time": "2020-04-30T07:46:06.955770Z"
    }
   },
   "outputs": [],
   "source": [
    "df_emb_sample = df_emb_sample_0.append([df_emb_sample_1, df_emb_sample_2, df_emb_sample_3])"
   ]
  },
  {
   "cell_type": "code",
   "execution_count": 249,
   "metadata": {
    "ExecuteTime": {
     "end_time": "2020-04-30T07:46:23.902226Z",
     "start_time": "2020-04-30T07:46:23.889051Z"
    }
   },
   "outputs": [],
   "source": [
    "df_emb_sample.dropna(inplace=True,subset=['tokens'])"
   ]
  },
  {
   "cell_type": "code",
   "execution_count": 250,
   "metadata": {
    "ExecuteTime": {
     "end_time": "2020-04-30T07:46:30.605078Z",
     "start_time": "2020-04-30T07:46:30.595933Z"
    }
   },
   "outputs": [
    {
     "data": {
      "text/plain": [
       "(345, 4)"
      ]
     },
     "execution_count": 250,
     "metadata": {},
     "output_type": "execute_result"
    }
   ],
   "source": [
    "df_emb_sample.shape"
   ]
  },
  {
   "cell_type": "code",
   "execution_count": 251,
   "metadata": {
    "ExecuteTime": {
     "end_time": "2020-04-30T07:46:37.639284Z",
     "start_time": "2020-04-30T07:46:37.629659Z"
    }
   },
   "outputs": [
    {
     "data": {
      "text/plain": [
       "['#1F77B4',\n",
       " '#FF7F0E',\n",
       " '#2CA02C',\n",
       " '#D62728',\n",
       " '#9467BD',\n",
       " '#8C564B',\n",
       " '#E377C2',\n",
       " '#7F7F7F',\n",
       " '#BCBD22',\n",
       " '#17BECF']"
      ]
     },
     "execution_count": 251,
     "metadata": {},
     "output_type": "execute_result"
    }
   ],
   "source": [
    "import plotly_express as px\n",
    "px.colors.qualitative.D3"
   ]
  },
  {
   "cell_type": "code",
   "execution_count": 252,
   "metadata": {
    "ExecuteTime": {
     "end_time": "2020-04-30T07:46:44.673184Z",
     "start_time": "2020-04-30T07:46:44.217107Z"
    }
   },
   "outputs": [
    {
     "data": {
      "application/vnd.plotly.v1+json": {
       "config": {
        "plotlyServerURL": "https://plot.ly"
       },
       "data": [
        {
         "hovertemplate": "<b>%{hovertext}</b><br><br>tag=url0<br>x=%{x}<br>y=%{y}<br>size=%{marker.size}<extra></extra>",
         "hovertext": [
          "About The Directory | Add Your Company | Contact Us | About Us",
          "Products/Services Company Names Keywords",
          "* * *",
          "Search",
          "Products/Services Company Names Keywords",
          "* * *",
          "Search",
          "The Times Business Directory is a comprehensive compilation of key companies",
          "in Singapore, including MNCs, public listed companies, top SMEs, etc.",
          "Menu",
          "  * Home ",
          "  * Company Listings ",
          "  * Government Development Assistance Programmes ",
          "  * Conventions & Exhibitions ",
          "  * Products & Services ",
          "  * Government Agencies, Trade Bodies & Chambers of Commerce ",
          "  * Trade Events ",
          "  * Other Directories ",
          "  *   * Company Listings ",
          "#  COMPANY PROFILE",
          "FICOFI PARTNERS HOLDING PTE LTD",
          "25 International Business Park  ",
          "#03-01/02 German Centre  ",
          "Singapore 609916  ",
          "Phone  ",
          "(65) 6222 7777",
          "Fax  ",
          "(65) 6222 0022",
          "## Description",
          "### Nature of Business",
          "Investment holding company.",
          "## Categories",
          "    * PRODUCTS & SERVICES > INVESTMENT HOLDING COMPANIES  ",
          "##  To:  ",
          "  show email",
          "Name",
          "Email",
          "Subject",
          "Message",
          "×",
          "#####",
          "Copyright (C) 2018\\. Marshall Cavendish Business Information Pte Ltd. All",
          "Rights Reserved.",
          "Disclaimer & Copyright   |   Data Protection & Privacy Statement"
         ],
         "legendgroup": "url0",
         "marker": {
          "color": "#636efa",
          "size": [
           1,
           1,
           1,
           1,
           1,
           1,
           1,
           1,
           1,
           1,
           1,
           1,
           1,
           1,
           1,
           1,
           1,
           1,
           1,
           1,
           1,
           1,
           1,
           1,
           1,
           1,
           1,
           1,
           1,
           1,
           1,
           1,
           1,
           1,
           1,
           1,
           1,
           1,
           1,
           1,
           1,
           1,
           1,
           1
          ],
          "sizemode": "area",
          "sizeref": 0.0025,
          "symbol": "circle"
         },
         "mode": "markers",
         "name": "url0",
         "showlegend": true,
         "type": "scatter",
         "x": [
          -9.463081359863281,
          -9.123048782348633,
          -1.8841547966003418,
          -1.4346530437469482,
          -8.614246368408203,
          -1.2869577407836914,
          -0.9381144046783447,
          -8.86016845703125,
          -7.374079704284668,
          -2.488354206085205,
          -2.0589168071746826,
          -9.378381729125977,
          -8.064107894897461,
          -7.652619361877441,
          -3.3082194328308105,
          -8.229816436767578,
          -7.9556427001953125,
          -7.271261692047119,
          -9.038321495056152,
          -8.96119213104248,
          -9.314476013183594,
          -8.08782958984375,
          -8.210556983947754,
          -3.8984880447387695,
          -2.9377169609069824,
          -3.5316097736358643,
          -2.174740791320801,
          -3.3962759971618652,
          -1.817501425743103,
          -8.3888521194458,
          -8.83084774017334,
          -2.570891857147217,
          -8.504327774047852,
          -1.87228262424469,
          -3.355876922607422,
          -1.6681286096572876,
          -2.9456734657287598,
          -1.3648072481155396,
          -2.562366485595703,
          -1.3642374277114868,
          -2.324580669403076,
          -7.693679332733154,
          -1.4026556015014648,
          -8.88393783569336
         ],
         "xaxis": "x",
         "y": [
          5.195532321929932,
          6.021862030029297,
          1.7148185968399048,
          1.9655624628067017,
          5.901814937591553,
          1.0761666297912598,
          1.3791998624801636,
          4.374697208404541,
          4.342961311340332,
          0.9908521175384521,
          1.010058879852295,
          4.722509860992432,
          5.987154006958008,
          5.781155586242676,
          1.1056855916976929,
          5.642986297607422,
          5.409614086151123,
          5.816357612609863,
          5.132883548736572,
          4.710569858551025,
          5.728220462799072,
          4.607387542724609,
          4.159137725830078,
          2.463620185852051,
          0.8929452896118164,
          2.2762105464935303,
          0.3738035261631012,
          1.9011056423187256,
          0.6370560526847839,
          4.913606643676758,
          5.447709083557129,
          1.870070457458496,
          5.251413345336914,
          1.489937663078308,
          0.3964342474937439,
          0.6715109944343567,
          0.32600343227386475,
          1.6238181591033936,
          0.6086558699607849,
          0.8872016668319702,
          1.4215961694717407,
          4.155978202819824,
          1.3566551208496094,
          6.0743088722229
         ],
         "yaxis": "y"
        },
        {
         "hovertemplate": "<b>%{hovertext}</b><br><br>tag=url1<br>x=%{x}<br>y=%{y}<br>size=%{marker.size}<extra></extra>",
         "hovertext": [
          "  * $0.00 (0)",
          "  * EMIS Store",
          "  * SELECT LANGUAGE  Polski Español Português 简体中文 日本語",
          "  * Client log in",
          "Menu Close REQUEST A DEMO",
          "  * Back ",
          "  * Companies  Companies ",
          "Back",
          "Company reports  ",
          "Afghanistan Albania Algeria Angola Argentina Armenia Azerbaijan Bahamas",
          "Bahrain Bangladesh Belarus Belize Bolivia Bosnia and Herzegovina Botswana",
          "Brazil Brunei Darussalam Bulgaria Burkina Faso Cambodia Cameroon Chile China",
          "Colombia Congo Costa Rica Croatia Cuba Czech Republic Dominican Republic",
          "Ecuador Egypt El Salvador Estonia Eswatini Ethiopia Gabon Gambia Georgia Ghana",
          "Guatemala Haiti Honduras Hong Kong SAR, China Hungary India Indonesia Iran",
          "Iraq Ivory Coast Jamaica Jordan Kazakhstan Kenya Kosovo Kuwait Kyrgyzstan Laos",
          "Latvia Lebanon Liberia Libya Lithuania Madagascar Malawi Malaysia Mauritius",
          "Mexico Moldova Mongolia Montenegro Morocco Mozambique Myanmar Namibia",
          "Nicaragua Nigeria North Korea North Macedonia Oman Pakistan Palestine Panama",
          "Paraguay Peru Philippines Poland Puerto Rico Qatar Romania Russia Saudi Arabia",
          "Senegal Serbia Singapore Slovakia Slovenia South Africa South Korea Sri Lanka",
          "Sudan Syria Taiwan Tajikistan Tanzania Thailand Togo Trinidad and Tobago",
          "Tunisia Turkey Turkmenistan Uganda Ukraine United Arab Emirates Uruguay",
          "Uzbekistan Venezuela Vietnam Zambia Zimbabwe",
          "M&A Reports  ",
          "Africa and the Middle East Asia Pacific Central Europe Latin America and the",
          "Caribbean",
          "M&A Deals  ",
          "View All Countries",
          "  * Industries  Industries ",
          "Back",
          "Agriculture  ",
          "Automotive  ",
          "Banking & Insurance  ",
          "Chemicals  ",
          "Consumer Electronics  ",
          "Consumer Goods & Retail  ",
          "Energy  ",
          "Food & Beverage  ",
          "Mining & Metals  ",
          "Pharma & Healthcare  ",
          "Real Estate & Construction  ",
          "Technology, Media & Telecoms  ",
          "Tourism & Leisure  ",
          "Transportation  ",
          "  * Countries  Countries ",
          "Back",
          "ASIA  ",
          "China India Indonesia Malaysia Vietnam View All",
          "EASTERN EUROPE  ",
          "Hungary Poland Romania Russia Turkey View All",
          "Latin America  ",
          "Argentina Brazil Colombia Mexico Peru View All",
          "Middle East & Africa  ",
          "Egypt Morocco Saudi Arabia South Africa UAE View All",
          "  * Our solutions  Our solutions ",
          "Back",
          "EMIS Professional  ",
          "EMIS University  ",
          "EMIS API and Data Feed Solutions  ",
          "  * About us ",
          "  * Blog ",
          "  * $0.00 (0) EMIS Store SELECT LANGUAGE  Polski Español Português 简体中文 日本語 Client log in",
          "Total",
          "USD $0.00",
          "View basket Checkout now",
          "Home Singapore Professional, Scientific, and Technical Services Ficofi",
          "Partners Holding Pte. Ltd.",
          "Search more companies",
          "# Ficofi Partners Holding Pte. Ltd. (Singapore)",
          "Main Activities: Management of Companies and Enterprises | Administrative",
          "Management and General Management Consulting Services",
          "Full name: Ficofi Partners Holding Pte. Ltd. Profile Updated: August 29, 2019",
          "Buy our report for this company USD 14.99  Most recent financial data: 2018",
          "Available in: English Download a sample report",
          "Ficofi Partners Holding Pte. Ltd. is an enterprise located in Singapore, with",
          "the main office in Singapore. It operates in the Management of Companies and",
          "Enterprises sector. It was incorporated on April 12, 2013.",
          "Headquarters  ",
          "25 International Business Park #03-01/02 German Centre Singapore 609916  ",
          "Singapore; Singapore; Postal Code: 609916",
          "Contact Details: Purchase the Ficofi Partners Holding Pte. Ltd. report to view",
          "the information.",
          "Basic Information",
          "Outstanding Shares:",
          "Purchase the Ficofi Partners Holding Pte. Ltd. report to view the information.",
          "Registered Capital:",
          "Purchase the Ficofi Partners Holding Pte. Ltd. report to view the information.",
          "Financial Auditors:",
          "Purchase the Ficofi Partners Holding Pte. Ltd. report to view the information.",
          "Incorporation Date:",
          "April 12, 2013",
          "Key Executives",
          "Purchase this report to view the information.",
          "Chairman/Director",
          "Purchase this report to view the information.",
          "Chairman/Director",
          "Purchase this report to view the information.",
          "Chairman/Director",
          "Purchase this report to view the information.",
          "Chairman/Director",
          "Purchase this report to view the information.",
          "Chairman/Director",
          "Ownership Details",
          "Purchase this report to view the information.",
          "Purchase this report to view the information.",
          "Purchase this report to view the information.",
          "Purchase this report to view the information.",
          "Purchase this report to view the information.",
          "Looking for more than just a company report?",
          "EMIS company profiles are part of a larger information service which combines",
          "company, industry and country data and analysis for over 145 emerging markets.",
          "Request a demo of the EMIS service",
          "Key Financial Highlights",
          "No results were found for this company.",
          "## Similar companies",
          "T S Global Procurement Company Pte. Ltd.",
          "Winson Oil Trading Pte. Ltd.",
          "Jardine Strategic Holdings Limited",
          "Noble Group Limited",
          "Jardine Matheson Holdings Limited",
          "Temasek Holdings Pte. Ltd.",
          "Amplefield Limited",
          "Psl Holdings Limited",
          "Hl Global Enterprises Limited",
          "Blackgold Natural Resources Limited",
          "Export Trading Group Pte. Ltd.",
          "To view more information, Request a demonstration of the EMIS service",
          "USD 14.99",
          "Buy this company report",
          "Need ongoing access to company, industry or country information?",
          "Request a demo",
          "About us Our solutions Blog ISI Emerging Markets Group",
          "Companies Industries Countries",
          "Cookies Privacy Policy Terms"
         ],
         "legendgroup": "url1",
         "marker": {
          "color": "#EF553B",
          "size": [
           1,
           1,
           1,
           1,
           1,
           1,
           1,
           1,
           1,
           1,
           1,
           1,
           1,
           1,
           1,
           1,
           1,
           1,
           1,
           1,
           1,
           1,
           1,
           1,
           1,
           1,
           1,
           1,
           1,
           1,
           1,
           1,
           1,
           1,
           1,
           1,
           1,
           1,
           1,
           1,
           1,
           1,
           1,
           1,
           1,
           1,
           1,
           1,
           1,
           1,
           1,
           1,
           1,
           1,
           1,
           1,
           1,
           1,
           1,
           1,
           1,
           1,
           1,
           1,
           1,
           1,
           1,
           1,
           1,
           1,
           1,
           1,
           1,
           1,
           1,
           1,
           1,
           1,
           1,
           1,
           1,
           1,
           1,
           1,
           1,
           1,
           1,
           1,
           1,
           1,
           1,
           1,
           1,
           1,
           1,
           1,
           1,
           1,
           1,
           1,
           1,
           1,
           1,
           1,
           1,
           1,
           1,
           1,
           1,
           1,
           1,
           1,
           1,
           1,
           1,
           1,
           1,
           1,
           1,
           1,
           1,
           1,
           1,
           1,
           1,
           1,
           1,
           1,
           1,
           1,
           1,
           1,
           1,
           1,
           1
          ],
          "sizemode": "area",
          "sizeref": 0.0025,
          "symbol": "circle"
         },
         "mode": "markers",
         "name": "url1",
         "showlegend": true,
         "type": "scatter",
         "x": [
          4.618636131286621,
          3.6145823001861572,
          3.123037099838257,
          13.585463523864746,
          13.068443298339844,
          3.3322486877441406,
          2.3057427406311035,
          3.493868827819824,
          2.5616767406463623,
          3.8727498054504395,
          3.431518077850342,
          3.425333023071289,
          3.668234348297119,
          3.506282091140747,
          3.8711233139038086,
          4.0064191818237305,
          3.3767004013061523,
          3.8129754066467285,
          3.9733989238739014,
          4.042664527893066,
          3.930074453353882,
          4.229552745819092,
          3.7352046966552734,
          3.5859973430633545,
          3.1782443523406982,
          3.6375043392181396,
          3.450632095336914,
          3.6112709045410156,
          1.7885624170303345,
          2.025465250015259,
          3.602605104446411,
          1.626358985900879,
          2.920039176940918,
          2.675062656402588,
          2.411133289337158,
          3.389122486114502,
          3.58858060836792,
          2.9709067344665527,
          3.3802807331085205,
          2.295903205871582,
          1.848186731338501,
          2.0828609466552734,
          3.0432538986206055,
          3.2541260719299316,
          3.3454530239105225,
          1.7000268697738647,
          3.5040595531463623,
          2.8705949783325195,
          3.2112441062927246,
          3.288182258605957,
          4.0383501052856445,
          3.89900541305542,
          3.1665406227111816,
          3.6041109561920166,
          3.2848780155181885,
          2.6484551429748535,
          3.6313555240631104,
          1.9062261581420898,
          1.6445796489715576,
          2.8025641441345215,
          2.927464723587036,
          3.297003984451294,
          2.540205240249634,
          2.6656317710876465,
          4.652371883392334,
          13.18221378326416,
          1.9645378589630127,
          12.553200721740723,
          3.840379238128662,
          2.3636131286621094,
          3.096909761428833,
          3.204007625579834,
          2.462340831756592,
          2.3227925300598145,
          12.295872688293457,
          2.5169718265533447,
          2.1924238204956055,
          2.5497334003448486,
          2.439244508743286,
          2.29618763923645,
          2.4054980278015137,
          12.318535804748535,
          2.6100900173187256,
          4.507355690002441,
          2.3332743644714355,
          12.686946868896484,
          2.0163607597351074,
          12.508780479431152,
          2.559075117111206,
          12.609299659729004,
          2.2046995162963867,
          2.8052978515625,
          1.3533343076705933,
          13.515951156616211,
          1.0939568281173706,
          13.2421236038208,
          1.054222583770752,
          13.168100357055664,
          0.9781352877616882,
          13.332993507385254,
          1.0454436540603638,
          13.409025192260742,
          1.0342886447906494,
          2.096935749053955,
          13.305465698242188,
          13.43588924407959,
          13.316280364990234,
          13.451050758361816,
          13.50080680847168,
          3.6202962398529053,
          3.4280407428741455,
          2.6686315536499023,
          12.812135696411133,
          2.3051555156707764,
          5.007901668548584,
          2.2437312602996826,
          1.9556423425674438,
          2.2757813930511475,
          5.121639251708984,
          4.947513580322266,
          5.076803207397461,
          2.287137508392334,
          5.197402000427246,
          5.0901288986206055,
          5.289430141448975,
          5.077083110809326,
          2.14971923828125,
          12.947452545166016,
          3.21877121925354,
          12.427872657775879,
          3.6387248039245605,
          13.09028148651123,
          2.7146713733673096,
          1.9262906312942505,
          2.7541487216949463
         ],
         "xaxis": "x",
         "y": [
          -1.2554559707641602,
          1.5719051361083984,
          5.3373284339904785,
          13.787696838378906,
          12.437339782714844,
          -0.1811462789773941,
          1.7566007375717163,
          -0.2871454060077667,
          1.8992899656295776,
          5.919095993041992,
          6.307704925537109,
          6.344563961029053,
          6.052317142486572,
          5.512811660766602,
          6.104500770568848,
          5.46473503112793,
          5.59164571762085,
          5.64794921875,
          5.124762058258057,
          5.57122278213501,
          5.93878173828125,
          5.940792083740234,
          5.642446994781494,
          5.8036417961120605,
          0.6173873543739319,
          5.136887550354004,
          6.616541862487793,
          1.9534722566604614,
          2.8978383541107178,
          2.1112942695617676,
          -0.33174142241477966,
          2.531081438064575,
          1.3018994331359863,
          2.293029308319092,
          1.8648430109024048,
          1.592512845993042,
          1.610144019126892,
          0.9588673710823059,
          1.2802237272262573,
          2.220601797103882,
          1.8404520750045776,
          2.1863012313842773,
          1.6683961153030396,
          1.16376793384552,
          0.9746847748756409,
          2.382063865661621,
          -0.3891817331314087,
          0.6479907035827637,
          5.965518474578857,
          4.938787460327148,
          6.037079334259033,
          5.12907600402832,
          6.094419956207275,
          5.130186080932617,
          5.89406681060791,
          0.8057753443717957,
          -0.41852864623069763,
          1.228045105934143,
          1.8677098751068115,
          1.1731207370758057,
          0.3077470660209656,
          0.17773307859897614,
          5.565733432769775,
          0.3410765826702118,
          -1.3444007635116577,
          14.152161598205566,
          4.4460577964782715,
          13.037660598754883,
          2.710031509399414,
          4.351346015930176,
          2.399041175842285,
          2.322810173034668,
          5.014294147491455,
          5.1781325340271,
          12.883959770202637,
          4.476468086242676,
          4.2414116859436035,
          5.086957931518555,
          0.6146330833435059,
          4.707947254180908,
          4.6056084632873535,
          12.927327156066895,
          0.7335233092308044,
          -1.153908133506775,
          1.1158114671707153,
          12.948088645935059,
          1.6040228605270386,
          13.13447093963623,
          2.521162986755371,
          13.138694763183594,
          1.3394895792007446,
          5.023588180541992,
          1.1383181810379028,
          13.78792953491211,
          0.8581594824790955,
          14.1627836227417,
          0.8879076838493347,
          13.753657341003418,
          0.9502294063568115,
          14.122838020324707,
          0.9176312685012817,
          14.018800735473633,
          0.8787360191345215,
          1.6353670358657837,
          13.954835891723633,
          13.88105583190918,
          13.704166412353516,
          13.634625434875488,
          14.113459587097168,
          2.7282721996307373,
          2.591533899307251,
          5.438802719116211,
          12.371132850646973,
          2.033329486846924,
          -1.488242506980896,
          0.6994202733039856,
          3.2074708938598633,
          3.4118099212646484,
          -1.4873052835464478,
          -1.3961572647094727,
          -1.5340662002563477,
          2.815321207046509,
          -1.425378680229187,
          -1.4728186130523682,
          -1.6876479387283325,
          -1.6087982654571533,
          3.2611544132232666,
          12.564979553222656,
          0.20837759971618652,
          12.534894943237305,
          2.670073986053467,
          12.33817195892334,
          4.182165145874023,
          2.6631557941436768,
          2.9204325675964355
         ],
         "yaxis": "y"
        },
        {
         "hovertemplate": "<b>%{hovertext}</b><br><br>tag=url2<br>x=%{x}<br>y=%{y}<br>size=%{marker.size}<extra></extra>",
         "hovertext": [
          "###### RecordOwl",
          "Guest Account",
          "UNREGISTERED",
          "###### YOUR ACCOUNT",
          "  * Latest Company Company By Category Company By Postal Code Register (Coming Soon)",
          "###### About RecordOwl",
          "  * Contact (Live Chat)",
          "###### RecordOwl",
          "Latest Company Company By Category Company By Postal Code",
          "###### Your Account",
          "  * Register(Coming Soon)",
          "###### About RecordOwl",
          "  * Contact (Live Chat)",
          "Guest Account",
          "UNREGISTERED",
          "  * RecordOwl ",
          "# FICOFI PARTNERS HOLDING PTE. LTD.",
          "Registration No. / Unique Entity Number: 201309826H",
          "System",
          "30 Apr 2020",
          "FICOFI PARTNERS HOLDING PTE. LTD. (the \"Company\") The Company is a PRIVATE",
          "COMPANY LIMITED BY SHARES and it's current status is Live Company.",
          "The company was registered / incorporated on 12 April 2013 (Friday), 7 years",
          "ago",
          "The address of this company registered office is 25 INTERNATIONAL BUSINESS",
          "PARK #03-01/02 GERMAN CENTRE SINGAPORE 609916",
          "The company has 7 officers / owners / shareholders.",
          "The company principal activity is OTHER HOLDING COMPANIES.",
          "The company secondary activity is MANAGEMENT CONSULTANCY SERVICES N.E.C..",
          "###### Business Information",
          "  * Registration No: 201309826H",
          "  * Company Name: FICOFI PARTNERS HOLDING PTE. LTD.",
          "  * Address 25 INTERNATIONAL BUSINESS PARK #03-01/02 GERMAN CENTRE SINGAPORE 609916",
          "  * Company Type: PRIVATE COMPANY LIMITED BY SHARES",
          "  * Entity Status: Live Company",
          "  * Incorporation Date: 13 April 2013 ",
          "  * First Business Activity: OTHER HOLDING COMPANIES ",
          "  * Second Business Activity: MANAGEMENT CONSULTANCY SERVICES N.E.C. ",
          "###### Similiar Business Name",
          "  1. LUMINOR PACIFIC FUND 1 LTD. 8 ROBINSON ROAD #12-00 ASO BUILDING SINGAPORE 048544",
          "  2. ASIA PACIFIC SHIPPING (S) PTE. LTD. 13 NORTH BRIDGE ROAD #01-3980 GOLDEN BEACH VISTA SINGAPORE 190013",
          "  3. ASIA PACIFIC JAPAN EVENTURES 28 WOODLANDS CRESCENT #15-22 NORTHOAKS SINGAPORE 738085",
          "View More",
          "###### Companies Located At S(609916)",
          "  1. HERITAGE VINEYARDS PTE. LTD. 25 INTERNATIONAL BUSINESS PARK #03-01/02 GERMAN CENTRE SINGAPORE 609916",
          "  2. BRUCHA SG PTE. LTD. 25 INTERNATIONAL BUSINESS PARK #03-79 GERMAN CENTRE SINGAPORE 609916",
          "  3. GRABATECH (ASIA PACIFIC) PTE. LTD. 25 INTERNATIONAL BUSINESS PARK #05-108 GERMAN CENTRE SINGAPORE 609916",
          "View More",
          "###### Similiar Business Activity",
          "  1. THE MVOULA LIMITED PARTNERSHIP 1 RAFFLES PLACE #29-01 ONE RAFFLES PLACE SINGAPORE 048616",
          "  2. CRAYON RAINBOW LLP 17 PHILLIP STREET #05-01 GRAND BUILDING SINGAPORE 048695",
          "  3. MAPLETREE LONGHORN LLP 10 PASIR PANJANG ROAD #13-01 MAPLETREE BUSINESS CITY SINGAPORE 117438",
          "View More"
         ],
         "legendgroup": "url2",
         "marker": {
          "color": "#00cc96",
          "size": [
           1,
           1,
           1,
           1,
           1,
           1,
           1,
           1,
           1,
           1,
           1,
           1,
           1,
           1,
           1,
           1,
           1,
           1,
           1,
           1,
           1,
           1,
           1,
           1,
           1,
           1,
           1,
           1,
           1,
           1,
           1,
           1,
           1,
           1,
           1,
           1,
           1,
           1,
           1,
           1,
           1,
           1,
           1,
           1,
           1,
           1,
           1,
           1,
           1,
           1,
           1,
           1,
           1
          ],
          "sizemode": "area",
          "sizeref": 0.0025,
          "symbol": "circle"
         },
         "mode": "markers",
         "name": "url2",
         "showlegend": true,
         "type": "scatter",
         "x": [
          -7.038494110107422,
          -5.923203468322754,
          -6.694030284881592,
          -6.4727935791015625,
          -3.9780495166778564,
          -6.791478633880615,
          -5.223191738128662,
          -6.705814838409424,
          -3.907252550125122,
          -6.209805488586426,
          -5.127868175506592,
          -7.053328037261963,
          -5.029644966125488,
          -6.048730373382568,
          -6.502540111541748,
          -6.929043769836426,
          -5.3840436935424805,
          -3.6343469619750977,
          -6.025206089019775,
          -2.5415000915527344,
          -4.879701614379883,
          -4.727531909942627,
          -1.4725940227508545,
          -6.015239238739014,
          -0.46273273229599,
          0.0040991948917508125,
          -1.5838359594345093,
          -5.0690131187438965,
          -5.036766052246094,
          -5.635108470916748,
          -3.1193673610687256,
          -4.5462260246276855,
          -0.17430350184440613,
          -4.732117652893066,
          -5.079073905944824,
          -1.84938645362854,
          -4.80526065826416,
          -5.123904705047607,
          -5.863502025604248,
          -1.4849127531051636,
          -0.9478033781051636,
          -1.071605920791626,
          -5.870204925537109,
          -4.149646282196045,
          -0.4404987096786499,
          -0.2531944811344147,
          -0.6359819769859314,
          -5.643083572387695,
          -5.581113815307617,
          -1.0737764835357666,
          -0.8301894068717957,
          -1.3260709047317505,
          -5.634096622467041
         ],
         "xaxis": "x",
         "y": [
          5.894130229949951,
          5.003050327301025,
          4.311916351318359,
          4.950654983520508,
          6.630937576293945,
          5.444010257720947,
          4.520021915435791,
          5.9226884841918945,
          6.253319263458252,
          5.220091342926025,
          4.0911970138549805,
          5.552601337432861,
          4.716750144958496,
          4.854988098144531,
          4.135099411010742,
          5.716015815734863,
          6.230149745941162,
          5.715211391448975,
          3.888895034790039,
          6.026823997497559,
          6.209422588348389,
          5.52974271774292,
          6.601372241973877,
          3.6410269737243652,
          6.6814069747924805,
          5.933098793029785,
          6.803061485290527,
          7.165015697479248,
          6.626728057861328,
          6.799314022064209,
          5.893826484680176,
          6.330312728881836,
          6.339385032653809,
          5.999466896057129,
          5.170385360717773,
          6.455927848815918,
          6.992494106292725,
          6.696039199829102,
          6.345172882080078,
          5.677947044372559,
          5.587643146514893,
          6.204321384429932,
          3.6209707260131836,
          5.558272361755371,
          5.961880683898926,
          5.812942981719971,
          6.26747989654541,
          4.034151554107666,
          6.627867221832275,
          5.6334333419799805,
          5.801236629486084,
          6.009253978729248,
          3.666239023208618
         ],
         "yaxis": "y"
        },
        {
         "hovertemplate": "<b>%{hovertext}</b><br><br>tag=url3<br>x=%{x}<br>y=%{y}<br>size=%{marker.size}<extra></extra>",
         "hovertext": [
          "Toggle navigation OPENGOVSG",
          "  * Corporate",
          "    * Corporate",
          "  * Flat",
          "    * Flat Resale Prices",
          "  * Others",
          "    * Childcare Centres",
          "    * Kindergarten Centres",
          "    * Baby Bonus Approved Institutions",
          "    * Renovation Contractors",
          "    * Management Corporation Strata Titles",
          "  * Government",
          "    * Procurement Tenders",
          "Search",
          "#### FICOFI PARTNERS HOLDING PTE. LTD.",
          "  * 1\\. Business Overview",
          "  * 2\\. Office Location",
          "  * 3\\. Competitor",
          "  * 4\\. Register Information",
          "# FICOFI PARTNERS HOLDING PTE. LTD.  ",
          "Address: 25 International Business Park, #03-01/02, German Centre, Singapore",
          "609916  ",
          "FICOFI PARTNERS HOLDING PTE. LTD. (UEN ID 201309826H) is a corporate entity",
          "registered with Accounting and Corporate Regulatory Authority. The UEN issue",
          "date is April 13, 2013. The entity status is Live Company.",
          "Search",
          "* * *",
          "## Business Overview",
          "Unique Entity Number (UEN) |  201309826H  ",
          "---|---  ",
          "Entity Name |  FICOFI PARTNERS HOLDING PTE. LTD.  ",
          "Street Address |  25 International Business Park  ",
          "#03-01/02  ",
          "German Centre  ",
          "Singapore 609916  ",
          "Entity Status |  Live Company  ",
          "Entity Type |  Local Company  ",
          "Company Type Description |  PRIVATE COMPANY LIMITED BY SHARES  ",
          "UEN Issuance Agency |  Accounting and Corporate Regulatory Authority (ACRA)  ",
          "UEN Issue Date |  2013-04-13  ",
          "Incorporation Date |  2013-04-12  ",
          "Account Due Date |  2021-01-31  ",
          "Annual Return Date |  2019-12-19  ",
          "Number Officers |  7  ",
          "UEN Audit Firm 1 |  200306563H  ",
          "Name Audit Firm 1 |  STEVEN TAN RUSSELL BEDFORD PAC  ",
          "### Business activity Singapore Standard Industrial Classification (SSIC)",
          "Primary SSIC Code |  64202: OTHER HOLDING COMPANIES  ",
          "---|---  ",
          "Secondary SSIC Code |  70209: MANAGEMENT CONSULTANCY SERVICES N.E.C.  ",
          "Secondary User Described Activity |  CONSULTING SERVICES FOR WINE SERVICES",
          "COMPANIES (CREATION OF WINES COLLECTION)  ",
          "## Office Location",
          "Block |  25  ",
          "---|---  ",
          "Level Number |  03  ",
          "Unit Number |  01/02  ",
          "Building Name |  GERMAN CENTRE  ",
          "Street Name |  INTERNATIONAL BUSINESS PARK  ",
          "City |  Singapore  ",
          "Postal Code |  609916  ",
          "### Entities with the same location",
          "Entity Name | Office Address | Start Date | Status  ",
          "---|---|---|---  ",
          "VIESSMANN SINGAPORE PTE. LTD.  | 25 International Business Park, #03-109,",
          "German Centre, Singapore 609916 | 2019-11-05 | Live Company  ",
          "JJB AUTO PTE. LTD.  | 25 International Business Park, #02-53, German Centre,",
          "Singapore 609916 | 2019-10-07 | Live Company  ",
          "UNIRAY WELLNESS PTE. LTD.  | 25 International Business Park, #04-103C, German",
          "Centre, Singapore 609916 | 2019-09-18 | Live Company  ",
          "JEWELLERS LOOP ASIA PTE. LTD.  | 25 International Business Park, #03-01/02,",
          "German Centre, Singapore 609916 | 2019-09-12 | Live Company  ",
          "PRESTIGE INTERNATIONAL EDUCATION (S) PTE. LTD.  | 25 International Business",
          "Park, #02-53, German Centre, Singapore 609916 | 2019-08-23 | Live Company  ",
          "RODION PTE. LTD.  | 25 International Business Park, #05-109E, German Centre,",
          "Singapore 609916 | 2019-08-01 | Live Company  ",
          "2U SERVICES  | 25 International Business Park, #02-53, German Centre,",
          "Singapore 609916 | 2019-07-26 | Live  ",
          "HASHOO HOLDINGS PTE. LTD.  | 25 International Business Park, #03-79, German",
          "Centre, Singapore 609916 | 2019-06-26 | Live Company  ",
          "CARBORAIL PTE. LTD.  | 25 International Business Park, #02-78/79, German",
          "Centre, Singapore 609916 | 2019-05-31 | Live Company  ",
          "HAISHANWELL PTE. LTD.  | 25 International Business Park, #02-53, German",
          "Centre, Singapore 609916 | 2019-05-28 | Live Company  ",
          "## Competitor",
          "### Search similar business entities",
          "Street Name |  INTERNATIONAL BUSINESS PARK  ",
          "---|---  ",
          "Postal Code |  609916  ",
          "SSIC Code |  64202 (Singapore Standard Industrial Classification)  ",
          "OTHER HOLDING COMPANIES  ",
          "## Improve Information",
          "Please comment or provide details below to improve the information on .",
          "  * Comment",
          "  * Provide Details",
          "Name",
          "Address",
          "Phone",
          "Website",
          "Email",
          "Description",
          "Other Comments",
          "Submit",
          "## Dataset Information",
          "Data Provider |  Accounting and Corporate Regulatory Authority  ",
          "---|---  ",
          "Jurisdiction |  Singapore  ",
          "This dataset includes 1.5 million corporate entities registered with",
          "Accounting and Corporate Regulatory Authority (ACRA), Singapore. Each entity",
          "is registered with unique entity number (UEN), entity name, entity time, UEN",
          "issue date, location, etc.",
          "Search",
          "* * *"
         ],
         "legendgroup": "url3",
         "marker": {
          "color": "#ab63fa",
          "size": [
           1,
           1,
           1,
           1,
           1,
           1,
           1,
           1,
           1,
           1,
           1,
           1,
           1,
           1,
           1,
           1,
           1,
           1,
           1,
           1,
           1,
           1,
           1,
           1,
           1,
           1,
           1,
           1,
           1,
           1,
           1,
           1,
           1,
           1,
           1,
           1,
           1,
           1,
           1,
           1,
           1,
           1,
           1,
           1,
           1,
           1,
           1,
           1,
           1,
           1,
           1,
           1,
           1,
           1,
           1,
           1,
           1,
           1,
           1,
           1,
           1,
           1,
           1,
           1,
           1,
           1,
           1,
           1,
           1,
           1,
           1,
           1,
           1,
           1,
           1,
           1,
           1,
           1,
           1,
           1,
           1,
           1,
           1,
           1,
           1,
           1,
           1,
           1,
           1,
           1,
           1,
           1,
           1,
           1,
           1,
           1,
           1,
           1,
           1,
           1,
           1,
           1,
           1,
           1,
           1,
           1,
           1,
           1,
           1,
           1,
           1,
           1,
           1
          ],
          "sizemode": "area",
          "sizeref": 0.0025,
          "symbol": "circle"
         },
         "mode": "markers",
         "name": "url3",
         "showlegend": true,
         "type": "scatter",
         "x": [
          1.4433069229125977,
          -0.6866527199745178,
          -0.5073577165603638,
          3.1419928073883057,
          2.8047385215759277,
          2.123300552368164,
          0.1485656201839447,
          0.2724257707595825,
          0.29701539874076843,
          0.5875091552734375,
          0.17062640190124512,
          1.1549633741378784,
          1.031479001045227,
          2.0600345134735107,
          0.3970125913619995,
          -0.43056976795196533,
          -0.3225794732570648,
          2.4476029872894287,
          1.832202434539795,
          0.29957547783851624,
          -3.349494457244873,
          1.97836172580719,
          -0.5545270442962646,
          -0.18316294252872467,
          0.4007972478866577,
          2.016937255859375,
          2.5180089473724365,
          -0.4252920150756836,
          1.5556607246398926,
          2.6322622299194336,
          0.2817038595676422,
          -2.8696632385253906,
          1.1258268356323242,
          -2.75128173828125,
          1.5825352668762207,
          0.20706424117088318,
          -0.11788878589868546,
          -0.40847980976104736,
          -0.1660313457250595,
          0.31871530413627625,
          0.45597437024116516,
          1.2719035148620605,
          0.47095000743865967,
          0.03347219154238701,
          0.9476400017738342,
          0.9542334675788879,
          0.8655645847320557,
          -0.18516851961612701,
          2.8166515827178955,
          0.3008640706539154,
          0.9704605937004089,
          0.7929013967514038,
          -0.07002458721399307,
          -1.8636949062347412,
          2.7334911823272705,
          2.3624377250671387,
          0.8906298279762268,
          -3.1172428131103516,
          -2.581002712249756,
          1.2660983800888062,
          1.7818204164505005,
          1.277423620223999,
          0.5562551021575928,
          2.688770055770874,
          -3.1395647525787354,
          0.7348580360412598,
          -3.6298508644104004,
          0.6089064478874207,
          -3.5427894592285156,
          0.5975081920623779,
          -3.3280224800109863,
          0.7359387874603271,
          -2.8100461959838867,
          0.6434154510498047,
          -3.263105869293213,
          0.6985953450202942,
          -3.3759264945983887,
          0.4823632836341858,
          -3.3973448276519775,
          0.5558318495750427,
          -3.220822811126709,
          0.5121558904647827,
          -3.3857474327087402,
          0.5170405507087708,
          2.429551124572754,
          0.3087935447692871,
          -2.72908091545105,
          2.9728634357452393,
          1.6454118490219116,
          1.1497656106948853,
          0.6075168251991272,
          1.861266851425171,
          1.7938692569732666,
          2.119166135787964,
          1.7239551544189453,
          2.2732303142547607,
          1.6788820028305054,
          2.216111660003662,
          1.2438218593597412,
          2.070622444152832,
          1.8644248247146606,
          1.154028058052063,
          1.7017571926116943,
          1.0914818048477173,
          -0.39442890882492065,
          2.7745728492736816,
          1.141965389251709,
          0.1981843113899231,
          0.9455621838569641,
          1.5661770105361938,
          1.4144178628921509,
          1.8958330154418945,
          2.4496121406555176
         ],
         "xaxis": "x",
         "y": [
          11.008742332458496,
          9.014278411865234,
          9.214354515075684,
          13.411611557006836,
          12.44533920288086,
          12.849735260009766,
          8.641097068786621,
          8.340558052062988,
          8.598407745361328,
          10.095207214355469,
          9.408851623535156,
          10.530050277709961,
          10.164924621582031,
          11.884233474731445,
          9.86825942993164,
          8.383783340454102,
          8.675517082214355,
          11.236006736755371,
          9.185050010681152,
          10.179128646850586,
          8.612972259521484,
          8.637141227722168,
          9.590315818786621,
          9.316322326660156,
          6.028838157653809,
          11.929363250732422,
          13.154507637023926,
          8.713433265686035,
          8.477672576904297,
          13.599116325378418,
          9.970491409301758,
          8.583260536193848,
          8.814085006713867,
          7.699617385864258,
          7.71156120300293,
          10.220060348510742,
          9.887887001037598,
          9.729937553405762,
          9.202054977416992,
          6.354612827301025,
          6.022223472595215,
          8.224761009216309,
          5.5927629470825195,
          6.648681163787842,
          8.188425064086914,
          8.659785270690918,
          7.556931972503662,
          9.636139869689941,
          13.576570510864258,
          9.16558837890625,
          9.643916130065918,
          9.73571491241455,
          8.98298454284668,
          8.332056045532227,
          13.205096244812012,
          10.89599323272705,
          8.756278991699219,
          7.7358927726745605,
          8.65538501739502,
          7.381618022918701,
          8.724371910095215,
          11.434412002563477,
          8.817591667175293,
          13.55573844909668,
          8.522531509399414,
          4.721497058868408,
          8.333592414855957,
          5.178728103637695,
          8.18057918548584,
          4.812165260314941,
          8.512741088867188,
          4.530677795410156,
          8.543866157531738,
          4.59584379196167,
          7.956735610961914,
          5.073538303375244,
          8.28667163848877,
          5.384791851043701,
          7.973795413970947,
          4.9612650871276855,
          8.104856491088867,
          4.908199787139893,
          8.316976547241211,
          4.7325968742370605,
          11.664752960205078,
          10.697603225708008,
          8.386446952819824,
          13.480334281921387,
          8.887353897094727,
          7.662063121795654,
          11.078808784484863,
          11.504878044128418,
          11.395697593688965,
          12.34493350982666,
          11.717096328735352,
          12.956254005432129,
          12.483536720275879,
          13.37556266784668,
          11.332277297973633,
          12.477757453918457,
          12.26016902923584,
          11.886483192443848,
          11.61949634552002,
          10.675749778747559,
          9.366180419921875,
          13.392579078674316,
          7.330524921417236,
          5.843000411987305,
          7.504974842071533,
          9.606134414672852,
          12.192999839782715,
          12.028027534484863,
          13.184887886047363
         ],
         "yaxis": "y"
        }
       ],
       "layout": {
        "legend": {
         "itemsizing": "constant",
         "title": {
          "text": "tag"
         },
         "tracegroupgap": 0
        },
        "margin": {
         "t": 60
        },
        "template": {
         "data": {
          "bar": [
           {
            "error_x": {
             "color": "#2a3f5f"
            },
            "error_y": {
             "color": "#2a3f5f"
            },
            "marker": {
             "line": {
              "color": "#E5ECF6",
              "width": 0.5
             }
            },
            "type": "bar"
           }
          ],
          "barpolar": [
           {
            "marker": {
             "line": {
              "color": "#E5ECF6",
              "width": 0.5
             }
            },
            "type": "barpolar"
           }
          ],
          "carpet": [
           {
            "aaxis": {
             "endlinecolor": "#2a3f5f",
             "gridcolor": "white",
             "linecolor": "white",
             "minorgridcolor": "white",
             "startlinecolor": "#2a3f5f"
            },
            "baxis": {
             "endlinecolor": "#2a3f5f",
             "gridcolor": "white",
             "linecolor": "white",
             "minorgridcolor": "white",
             "startlinecolor": "#2a3f5f"
            },
            "type": "carpet"
           }
          ],
          "choropleth": [
           {
            "colorbar": {
             "outlinewidth": 0,
             "ticks": ""
            },
            "type": "choropleth"
           }
          ],
          "contour": [
           {
            "colorbar": {
             "outlinewidth": 0,
             "ticks": ""
            },
            "colorscale": [
             [
              0,
              "#0d0887"
             ],
             [
              0.1111111111111111,
              "#46039f"
             ],
             [
              0.2222222222222222,
              "#7201a8"
             ],
             [
              0.3333333333333333,
              "#9c179e"
             ],
             [
              0.4444444444444444,
              "#bd3786"
             ],
             [
              0.5555555555555556,
              "#d8576b"
             ],
             [
              0.6666666666666666,
              "#ed7953"
             ],
             [
              0.7777777777777778,
              "#fb9f3a"
             ],
             [
              0.8888888888888888,
              "#fdca26"
             ],
             [
              1,
              "#f0f921"
             ]
            ],
            "type": "contour"
           }
          ],
          "contourcarpet": [
           {
            "colorbar": {
             "outlinewidth": 0,
             "ticks": ""
            },
            "type": "contourcarpet"
           }
          ],
          "heatmap": [
           {
            "colorbar": {
             "outlinewidth": 0,
             "ticks": ""
            },
            "colorscale": [
             [
              0,
              "#0d0887"
             ],
             [
              0.1111111111111111,
              "#46039f"
             ],
             [
              0.2222222222222222,
              "#7201a8"
             ],
             [
              0.3333333333333333,
              "#9c179e"
             ],
             [
              0.4444444444444444,
              "#bd3786"
             ],
             [
              0.5555555555555556,
              "#d8576b"
             ],
             [
              0.6666666666666666,
              "#ed7953"
             ],
             [
              0.7777777777777778,
              "#fb9f3a"
             ],
             [
              0.8888888888888888,
              "#fdca26"
             ],
             [
              1,
              "#f0f921"
             ]
            ],
            "type": "heatmap"
           }
          ],
          "heatmapgl": [
           {
            "colorbar": {
             "outlinewidth": 0,
             "ticks": ""
            },
            "colorscale": [
             [
              0,
              "#0d0887"
             ],
             [
              0.1111111111111111,
              "#46039f"
             ],
             [
              0.2222222222222222,
              "#7201a8"
             ],
             [
              0.3333333333333333,
              "#9c179e"
             ],
             [
              0.4444444444444444,
              "#bd3786"
             ],
             [
              0.5555555555555556,
              "#d8576b"
             ],
             [
              0.6666666666666666,
              "#ed7953"
             ],
             [
              0.7777777777777778,
              "#fb9f3a"
             ],
             [
              0.8888888888888888,
              "#fdca26"
             ],
             [
              1,
              "#f0f921"
             ]
            ],
            "type": "heatmapgl"
           }
          ],
          "histogram": [
           {
            "marker": {
             "colorbar": {
              "outlinewidth": 0,
              "ticks": ""
             }
            },
            "type": "histogram"
           }
          ],
          "histogram2d": [
           {
            "colorbar": {
             "outlinewidth": 0,
             "ticks": ""
            },
            "colorscale": [
             [
              0,
              "#0d0887"
             ],
             [
              0.1111111111111111,
              "#46039f"
             ],
             [
              0.2222222222222222,
              "#7201a8"
             ],
             [
              0.3333333333333333,
              "#9c179e"
             ],
             [
              0.4444444444444444,
              "#bd3786"
             ],
             [
              0.5555555555555556,
              "#d8576b"
             ],
             [
              0.6666666666666666,
              "#ed7953"
             ],
             [
              0.7777777777777778,
              "#fb9f3a"
             ],
             [
              0.8888888888888888,
              "#fdca26"
             ],
             [
              1,
              "#f0f921"
             ]
            ],
            "type": "histogram2d"
           }
          ],
          "histogram2dcontour": [
           {
            "colorbar": {
             "outlinewidth": 0,
             "ticks": ""
            },
            "colorscale": [
             [
              0,
              "#0d0887"
             ],
             [
              0.1111111111111111,
              "#46039f"
             ],
             [
              0.2222222222222222,
              "#7201a8"
             ],
             [
              0.3333333333333333,
              "#9c179e"
             ],
             [
              0.4444444444444444,
              "#bd3786"
             ],
             [
              0.5555555555555556,
              "#d8576b"
             ],
             [
              0.6666666666666666,
              "#ed7953"
             ],
             [
              0.7777777777777778,
              "#fb9f3a"
             ],
             [
              0.8888888888888888,
              "#fdca26"
             ],
             [
              1,
              "#f0f921"
             ]
            ],
            "type": "histogram2dcontour"
           }
          ],
          "mesh3d": [
           {
            "colorbar": {
             "outlinewidth": 0,
             "ticks": ""
            },
            "type": "mesh3d"
           }
          ],
          "parcoords": [
           {
            "line": {
             "colorbar": {
              "outlinewidth": 0,
              "ticks": ""
             }
            },
            "type": "parcoords"
           }
          ],
          "pie": [
           {
            "automargin": true,
            "type": "pie"
           }
          ],
          "scatter": [
           {
            "marker": {
             "colorbar": {
              "outlinewidth": 0,
              "ticks": ""
             }
            },
            "type": "scatter"
           }
          ],
          "scatter3d": [
           {
            "line": {
             "colorbar": {
              "outlinewidth": 0,
              "ticks": ""
             }
            },
            "marker": {
             "colorbar": {
              "outlinewidth": 0,
              "ticks": ""
             }
            },
            "type": "scatter3d"
           }
          ],
          "scattercarpet": [
           {
            "marker": {
             "colorbar": {
              "outlinewidth": 0,
              "ticks": ""
             }
            },
            "type": "scattercarpet"
           }
          ],
          "scattergeo": [
           {
            "marker": {
             "colorbar": {
              "outlinewidth": 0,
              "ticks": ""
             }
            },
            "type": "scattergeo"
           }
          ],
          "scattergl": [
           {
            "marker": {
             "colorbar": {
              "outlinewidth": 0,
              "ticks": ""
             }
            },
            "type": "scattergl"
           }
          ],
          "scattermapbox": [
           {
            "marker": {
             "colorbar": {
              "outlinewidth": 0,
              "ticks": ""
             }
            },
            "type": "scattermapbox"
           }
          ],
          "scatterpolar": [
           {
            "marker": {
             "colorbar": {
              "outlinewidth": 0,
              "ticks": ""
             }
            },
            "type": "scatterpolar"
           }
          ],
          "scatterpolargl": [
           {
            "marker": {
             "colorbar": {
              "outlinewidth": 0,
              "ticks": ""
             }
            },
            "type": "scatterpolargl"
           }
          ],
          "scatterternary": [
           {
            "marker": {
             "colorbar": {
              "outlinewidth": 0,
              "ticks": ""
             }
            },
            "type": "scatterternary"
           }
          ],
          "surface": [
           {
            "colorbar": {
             "outlinewidth": 0,
             "ticks": ""
            },
            "colorscale": [
             [
              0,
              "#0d0887"
             ],
             [
              0.1111111111111111,
              "#46039f"
             ],
             [
              0.2222222222222222,
              "#7201a8"
             ],
             [
              0.3333333333333333,
              "#9c179e"
             ],
             [
              0.4444444444444444,
              "#bd3786"
             ],
             [
              0.5555555555555556,
              "#d8576b"
             ],
             [
              0.6666666666666666,
              "#ed7953"
             ],
             [
              0.7777777777777778,
              "#fb9f3a"
             ],
             [
              0.8888888888888888,
              "#fdca26"
             ],
             [
              1,
              "#f0f921"
             ]
            ],
            "type": "surface"
           }
          ],
          "table": [
           {
            "cells": {
             "fill": {
              "color": "#EBF0F8"
             },
             "line": {
              "color": "white"
             }
            },
            "header": {
             "fill": {
              "color": "#C8D4E3"
             },
             "line": {
              "color": "white"
             }
            },
            "type": "table"
           }
          ]
         },
         "layout": {
          "annotationdefaults": {
           "arrowcolor": "#2a3f5f",
           "arrowhead": 0,
           "arrowwidth": 1
          },
          "coloraxis": {
           "colorbar": {
            "outlinewidth": 0,
            "ticks": ""
           }
          },
          "colorscale": {
           "diverging": [
            [
             0,
             "#8e0152"
            ],
            [
             0.1,
             "#c51b7d"
            ],
            [
             0.2,
             "#de77ae"
            ],
            [
             0.3,
             "#f1b6da"
            ],
            [
             0.4,
             "#fde0ef"
            ],
            [
             0.5,
             "#f7f7f7"
            ],
            [
             0.6,
             "#e6f5d0"
            ],
            [
             0.7,
             "#b8e186"
            ],
            [
             0.8,
             "#7fbc41"
            ],
            [
             0.9,
             "#4d9221"
            ],
            [
             1,
             "#276419"
            ]
           ],
           "sequential": [
            [
             0,
             "#0d0887"
            ],
            [
             0.1111111111111111,
             "#46039f"
            ],
            [
             0.2222222222222222,
             "#7201a8"
            ],
            [
             0.3333333333333333,
             "#9c179e"
            ],
            [
             0.4444444444444444,
             "#bd3786"
            ],
            [
             0.5555555555555556,
             "#d8576b"
            ],
            [
             0.6666666666666666,
             "#ed7953"
            ],
            [
             0.7777777777777778,
             "#fb9f3a"
            ],
            [
             0.8888888888888888,
             "#fdca26"
            ],
            [
             1,
             "#f0f921"
            ]
           ],
           "sequentialminus": [
            [
             0,
             "#0d0887"
            ],
            [
             0.1111111111111111,
             "#46039f"
            ],
            [
             0.2222222222222222,
             "#7201a8"
            ],
            [
             0.3333333333333333,
             "#9c179e"
            ],
            [
             0.4444444444444444,
             "#bd3786"
            ],
            [
             0.5555555555555556,
             "#d8576b"
            ],
            [
             0.6666666666666666,
             "#ed7953"
            ],
            [
             0.7777777777777778,
             "#fb9f3a"
            ],
            [
             0.8888888888888888,
             "#fdca26"
            ],
            [
             1,
             "#f0f921"
            ]
           ]
          },
          "colorway": [
           "#636efa",
           "#EF553B",
           "#00cc96",
           "#ab63fa",
           "#FFA15A",
           "#19d3f3",
           "#FF6692",
           "#B6E880",
           "#FF97FF",
           "#FECB52"
          ],
          "font": {
           "color": "#2a3f5f"
          },
          "geo": {
           "bgcolor": "white",
           "lakecolor": "white",
           "landcolor": "#E5ECF6",
           "showlakes": true,
           "showland": true,
           "subunitcolor": "white"
          },
          "hoverlabel": {
           "align": "left"
          },
          "hovermode": "closest",
          "mapbox": {
           "style": "light"
          },
          "paper_bgcolor": "white",
          "plot_bgcolor": "#E5ECF6",
          "polar": {
           "angularaxis": {
            "gridcolor": "white",
            "linecolor": "white",
            "ticks": ""
           },
           "bgcolor": "#E5ECF6",
           "radialaxis": {
            "gridcolor": "white",
            "linecolor": "white",
            "ticks": ""
           }
          },
          "scene": {
           "xaxis": {
            "backgroundcolor": "#E5ECF6",
            "gridcolor": "white",
            "gridwidth": 2,
            "linecolor": "white",
            "showbackground": true,
            "ticks": "",
            "zerolinecolor": "white"
           },
           "yaxis": {
            "backgroundcolor": "#E5ECF6",
            "gridcolor": "white",
            "gridwidth": 2,
            "linecolor": "white",
            "showbackground": true,
            "ticks": "",
            "zerolinecolor": "white"
           },
           "zaxis": {
            "backgroundcolor": "#E5ECF6",
            "gridcolor": "white",
            "gridwidth": 2,
            "linecolor": "white",
            "showbackground": true,
            "ticks": "",
            "zerolinecolor": "white"
           }
          },
          "shapedefaults": {
           "line": {
            "color": "#2a3f5f"
           }
          },
          "ternary": {
           "aaxis": {
            "gridcolor": "white",
            "linecolor": "white",
            "ticks": ""
           },
           "baxis": {
            "gridcolor": "white",
            "linecolor": "white",
            "ticks": ""
           },
           "bgcolor": "#E5ECF6",
           "caxis": {
            "gridcolor": "white",
            "linecolor": "white",
            "ticks": ""
           }
          },
          "title": {
           "x": 0.05
          },
          "xaxis": {
           "automargin": true,
           "gridcolor": "white",
           "linecolor": "white",
           "ticks": "",
           "title": {
            "standoff": 15
           },
           "zerolinecolor": "white",
           "zerolinewidth": 2
          },
          "yaxis": {
           "automargin": true,
           "gridcolor": "white",
           "linecolor": "white",
           "ticks": "",
           "title": {
            "standoff": 15
           },
           "zerolinecolor": "white",
           "zerolinewidth": 2
          }
         }
        },
        "xaxis": {
         "anchor": "y",
         "domain": [
          0,
          1
         ],
         "title": {
          "text": "x"
         }
        },
        "yaxis": {
         "anchor": "x",
         "domain": [
          0,
          1
         ],
         "title": {
          "text": "y"
         }
        }
       }
      },
      "text/html": [
       "<div>\n",
       "        \n",
       "        \n",
       "            <div id=\"95274ede-4dc8-4487-aa37-ff0ce7eff02c\" class=\"plotly-graph-div\" style=\"height:525px; width:100%;\"></div>\n",
       "            <script type=\"text/javascript\">\n",
       "                require([\"plotly\"], function(Plotly) {\n",
       "                    window.PLOTLYENV=window.PLOTLYENV || {};\n",
       "                    \n",
       "                if (document.getElementById(\"95274ede-4dc8-4487-aa37-ff0ce7eff02c\")) {\n",
       "                    Plotly.newPlot(\n",
       "                        '95274ede-4dc8-4487-aa37-ff0ce7eff02c',\n",
       "                        [{\"hovertemplate\": \"<b>%{hovertext}</b><br><br>tag=url0<br>x=%{x}<br>y=%{y}<br>size=%{marker.size}<extra></extra>\", \"hovertext\": [\"About The Directory | Add Your Company | Contact Us | About Us\", \"Products/Services Company Names Keywords\", \"* * *\", \"Search\", \"Products/Services Company Names Keywords\", \"* * *\", \"Search\", \"The Times Business Directory is a comprehensive compilation of key companies\", \"in Singapore, including MNCs, public listed companies, top SMEs, etc.\", \"Menu\", \"  * Home \", \"  * Company Listings \", \"  * Government Development Assistance Programmes \", \"  * Conventions & Exhibitions \", \"  * Products & Services \", \"  * Government Agencies, Trade Bodies & Chambers of Commerce \", \"  * Trade Events \", \"  * Other Directories \", \"  *   * Company Listings \", \"#  COMPANY PROFILE\", \"FICOFI PARTNERS HOLDING PTE LTD\", \"25 International Business Park  \", \"#03-01/02 German Centre  \", \"Singapore 609916  \", \"Phone  \", \"(65) 6222 7777\", \"Fax  \", \"(65) 6222 0022\", \"## Description\", \"### Nature of Business\", \"Investment holding company.\", \"## Categories\", \"    * PRODUCTS & SERVICES > INVESTMENT HOLDING COMPANIES  \", \"##  To:  \", \"  show email\", \"Name\", \"Email\", \"Subject\", \"Message\", \"\\u00d7\", \"#####\", \"Copyright (C) 2018\\\\. Marshall Cavendish Business Information Pte Ltd. All\", \"Rights Reserved.\", \"Disclaimer & Copyright   |   Data Protection & Privacy Statement\"], \"legendgroup\": \"url0\", \"marker\": {\"color\": \"#636efa\", \"size\": [1, 1, 1, 1, 1, 1, 1, 1, 1, 1, 1, 1, 1, 1, 1, 1, 1, 1, 1, 1, 1, 1, 1, 1, 1, 1, 1, 1, 1, 1, 1, 1, 1, 1, 1, 1, 1, 1, 1, 1, 1, 1, 1, 1], \"sizemode\": \"area\", \"sizeref\": 0.0025, \"symbol\": \"circle\"}, \"mode\": \"markers\", \"name\": \"url0\", \"showlegend\": true, \"type\": \"scatter\", \"x\": [-9.463081359863281, -9.123048782348633, -1.8841547966003418, -1.4346530437469482, -8.614246368408203, -1.2869577407836914, -0.9381144046783447, -8.86016845703125, -7.374079704284668, -2.488354206085205, -2.0589168071746826, -9.378381729125977, -8.064107894897461, -7.652619361877441, -3.3082194328308105, -8.229816436767578, -7.9556427001953125, -7.271261692047119, -9.038321495056152, -8.96119213104248, -9.314476013183594, -8.08782958984375, -8.210556983947754, -3.8984880447387695, -2.9377169609069824, -3.5316097736358643, -2.174740791320801, -3.3962759971618652, -1.817501425743103, -8.3888521194458, -8.83084774017334, -2.570891857147217, -8.504327774047852, -1.87228262424469, -3.355876922607422, -1.6681286096572876, -2.9456734657287598, -1.3648072481155396, -2.562366485595703, -1.3642374277114868, -2.324580669403076, -7.693679332733154, -1.4026556015014648, -8.88393783569336], \"xaxis\": \"x\", \"y\": [5.195532321929932, 6.021862030029297, 1.7148185968399048, 1.9655624628067017, 5.901814937591553, 1.0761666297912598, 1.3791998624801636, 4.374697208404541, 4.342961311340332, 0.9908521175384521, 1.010058879852295, 4.722509860992432, 5.987154006958008, 5.781155586242676, 1.1056855916976929, 5.642986297607422, 5.409614086151123, 5.816357612609863, 5.132883548736572, 4.710569858551025, 5.728220462799072, 4.607387542724609, 4.159137725830078, 2.463620185852051, 0.8929452896118164, 2.2762105464935303, 0.3738035261631012, 1.9011056423187256, 0.6370560526847839, 4.913606643676758, 5.447709083557129, 1.870070457458496, 5.251413345336914, 1.489937663078308, 0.3964342474937439, 0.6715109944343567, 0.32600343227386475, 1.6238181591033936, 0.6086558699607849, 0.8872016668319702, 1.4215961694717407, 4.155978202819824, 1.3566551208496094, 6.0743088722229], \"yaxis\": \"y\"}, {\"hovertemplate\": \"<b>%{hovertext}</b><br><br>tag=url1<br>x=%{x}<br>y=%{y}<br>size=%{marker.size}<extra></extra>\", \"hovertext\": [\"  * $0.00 (0)\", \"  * EMIS Store\", \"  * SELECT LANGUAGE  Polski Espa\\u00f1ol Portugu\\u00eas \\u7b80\\u4f53\\u4e2d\\u6587 \\u65e5\\u672c\\u8a9e\", \"  * Client log in\", \"Menu Close REQUEST A DEMO\", \"  * Back \", \"  * Companies  Companies \", \"Back\", \"Company reports  \", \"Afghanistan Albania Algeria Angola Argentina Armenia Azerbaijan Bahamas\", \"Bahrain Bangladesh Belarus Belize Bolivia Bosnia and Herzegovina Botswana\", \"Brazil Brunei Darussalam Bulgaria Burkina Faso Cambodia Cameroon Chile China\", \"Colombia Congo Costa Rica Croatia Cuba Czech Republic Dominican Republic\", \"Ecuador Egypt El Salvador Estonia Eswatini Ethiopia Gabon Gambia Georgia Ghana\", \"Guatemala Haiti Honduras Hong Kong SAR, China Hungary India Indonesia Iran\", \"Iraq Ivory Coast Jamaica Jordan Kazakhstan Kenya Kosovo Kuwait Kyrgyzstan Laos\", \"Latvia Lebanon Liberia Libya Lithuania Madagascar Malawi Malaysia Mauritius\", \"Mexico Moldova Mongolia Montenegro Morocco Mozambique Myanmar Namibia\", \"Nicaragua Nigeria North Korea North Macedonia Oman Pakistan Palestine Panama\", \"Paraguay Peru Philippines Poland Puerto Rico Qatar Romania Russia Saudi Arabia\", \"Senegal Serbia Singapore Slovakia Slovenia South Africa South Korea Sri Lanka\", \"Sudan Syria Taiwan Tajikistan Tanzania Thailand Togo Trinidad and Tobago\", \"Tunisia Turkey Turkmenistan Uganda Ukraine United Arab Emirates Uruguay\", \"Uzbekistan Venezuela Vietnam Zambia Zimbabwe\", \"M&A Reports  \", \"Africa and the Middle East Asia Pacific Central Europe Latin America and the\", \"Caribbean\", \"M&A Deals  \", \"View All Countries\", \"  * Industries  Industries \", \"Back\", \"Agriculture  \", \"Automotive  \", \"Banking & Insurance  \", \"Chemicals  \", \"Consumer Electronics  \", \"Consumer Goods & Retail  \", \"Energy  \", \"Food & Beverage  \", \"Mining & Metals  \", \"Pharma & Healthcare  \", \"Real Estate & Construction  \", \"Technology, Media & Telecoms  \", \"Tourism & Leisure  \", \"Transportation  \", \"  * Countries  Countries \", \"Back\", \"ASIA  \", \"China India Indonesia Malaysia Vietnam View All\", \"EASTERN EUROPE  \", \"Hungary Poland Romania Russia Turkey View All\", \"Latin America  \", \"Argentina Brazil Colombia Mexico Peru View All\", \"Middle East & Africa  \", \"Egypt Morocco Saudi Arabia South Africa UAE View All\", \"  * Our solutions  Our solutions \", \"Back\", \"EMIS Professional  \", \"EMIS University  \", \"EMIS API and Data Feed Solutions  \", \"  * About us \", \"  * Blog \", \"  * $0.00 (0) EMIS Store SELECT LANGUAGE  Polski Espa\\u00f1ol Portugu\\u00eas \\u7b80\\u4f53\\u4e2d\\u6587 \\u65e5\\u672c\\u8a9e Client log in\", \"Total\", \"USD $0.00\", \"View basket Checkout now\", \"Home Singapore Professional, Scientific, and Technical Services Ficofi\", \"Partners Holding Pte. Ltd.\", \"Search more companies\", \"# Ficofi Partners Holding Pte. Ltd. (Singapore)\", \"Main Activities: Management of Companies and Enterprises | Administrative\", \"Management and General Management Consulting Services\", \"Full name: Ficofi Partners Holding Pte. Ltd. Profile Updated: August 29, 2019\", \"Buy our report for this company USD 14.99  Most recent financial data: 2018\", \"Available in: English Download a sample report\", \"Ficofi Partners Holding Pte. Ltd. is an enterprise located in Singapore, with\", \"the main office in Singapore. It operates in the Management of Companies and\", \"Enterprises sector. It was incorporated on April 12, 2013.\", \"Headquarters  \", \"25 International Business Park #03-01/02 German Centre Singapore 609916  \", \"Singapore; Singapore; Postal Code: 609916\", \"Contact Details: Purchase the Ficofi Partners Holding Pte. Ltd. report to view\", \"the information.\", \"Basic Information\", \"Outstanding Shares:\", \"Purchase the Ficofi Partners Holding Pte. Ltd. report to view the information.\", \"Registered Capital:\", \"Purchase the Ficofi Partners Holding Pte. Ltd. report to view the information.\", \"Financial Auditors:\", \"Purchase the Ficofi Partners Holding Pte. Ltd. report to view the information.\", \"Incorporation Date:\", \"April 12, 2013\", \"Key Executives\", \"Purchase this report to view the information.\", \"Chairman/Director\", \"Purchase this report to view the information.\", \"Chairman/Director\", \"Purchase this report to view the information.\", \"Chairman/Director\", \"Purchase this report to view the information.\", \"Chairman/Director\", \"Purchase this report to view the information.\", \"Chairman/Director\", \"Ownership Details\", \"Purchase this report to view the information.\", \"Purchase this report to view the information.\", \"Purchase this report to view the information.\", \"Purchase this report to view the information.\", \"Purchase this report to view the information.\", \"Looking for more than just a company report?\", \"EMIS company profiles are part of a larger information service which combines\", \"company, industry and country data and analysis for over 145 emerging markets.\", \"Request a demo of the EMIS service\", \"Key Financial Highlights\", \"No results were found for this company.\", \"## Similar companies\", \"T S Global Procurement Company Pte. Ltd.\", \"Winson Oil Trading Pte. Ltd.\", \"Jardine Strategic Holdings Limited\", \"Noble Group Limited\", \"Jardine Matheson Holdings Limited\", \"Temasek Holdings Pte. Ltd.\", \"Amplefield Limited\", \"Psl Holdings Limited\", \"Hl Global Enterprises Limited\", \"Blackgold Natural Resources Limited\", \"Export Trading Group Pte. Ltd.\", \"To view more information, Request a demonstration of the EMIS service\", \"USD 14.99\", \"Buy this company report\", \"Need ongoing access to company, industry or country information?\", \"Request a demo\", \"About us Our solutions Blog ISI Emerging Markets Group\", \"Companies Industries Countries\", \"Cookies Privacy Policy Terms\"], \"legendgroup\": \"url1\", \"marker\": {\"color\": \"#EF553B\", \"size\": [1, 1, 1, 1, 1, 1, 1, 1, 1, 1, 1, 1, 1, 1, 1, 1, 1, 1, 1, 1, 1, 1, 1, 1, 1, 1, 1, 1, 1, 1, 1, 1, 1, 1, 1, 1, 1, 1, 1, 1, 1, 1, 1, 1, 1, 1, 1, 1, 1, 1, 1, 1, 1, 1, 1, 1, 1, 1, 1, 1, 1, 1, 1, 1, 1, 1, 1, 1, 1, 1, 1, 1, 1, 1, 1, 1, 1, 1, 1, 1, 1, 1, 1, 1, 1, 1, 1, 1, 1, 1, 1, 1, 1, 1, 1, 1, 1, 1, 1, 1, 1, 1, 1, 1, 1, 1, 1, 1, 1, 1, 1, 1, 1, 1, 1, 1, 1, 1, 1, 1, 1, 1, 1, 1, 1, 1, 1, 1, 1, 1, 1, 1, 1, 1, 1], \"sizemode\": \"area\", \"sizeref\": 0.0025, \"symbol\": \"circle\"}, \"mode\": \"markers\", \"name\": \"url1\", \"showlegend\": true, \"type\": \"scatter\", \"x\": [4.618636131286621, 3.6145823001861572, 3.123037099838257, 13.585463523864746, 13.068443298339844, 3.3322486877441406, 2.3057427406311035, 3.493868827819824, 2.5616767406463623, 3.8727498054504395, 3.431518077850342, 3.425333023071289, 3.668234348297119, 3.506282091140747, 3.8711233139038086, 4.0064191818237305, 3.3767004013061523, 3.8129754066467285, 3.9733989238739014, 4.042664527893066, 3.930074453353882, 4.229552745819092, 3.7352046966552734, 3.5859973430633545, 3.1782443523406982, 3.6375043392181396, 3.450632095336914, 3.6112709045410156, 1.7885624170303345, 2.025465250015259, 3.602605104446411, 1.626358985900879, 2.920039176940918, 2.675062656402588, 2.411133289337158, 3.389122486114502, 3.58858060836792, 2.9709067344665527, 3.3802807331085205, 2.295903205871582, 1.848186731338501, 2.0828609466552734, 3.0432538986206055, 3.2541260719299316, 3.3454530239105225, 1.7000268697738647, 3.5040595531463623, 2.8705949783325195, 3.2112441062927246, 3.288182258605957, 4.0383501052856445, 3.89900541305542, 3.1665406227111816, 3.6041109561920166, 3.2848780155181885, 2.6484551429748535, 3.6313555240631104, 1.9062261581420898, 1.6445796489715576, 2.8025641441345215, 2.927464723587036, 3.297003984451294, 2.540205240249634, 2.6656317710876465, 4.652371883392334, 13.18221378326416, 1.9645378589630127, 12.553200721740723, 3.840379238128662, 2.3636131286621094, 3.096909761428833, 3.204007625579834, 2.462340831756592, 2.3227925300598145, 12.295872688293457, 2.5169718265533447, 2.1924238204956055, 2.5497334003448486, 2.439244508743286, 2.29618763923645, 2.4054980278015137, 12.318535804748535, 2.6100900173187256, 4.507355690002441, 2.3332743644714355, 12.686946868896484, 2.0163607597351074, 12.508780479431152, 2.559075117111206, 12.609299659729004, 2.2046995162963867, 2.8052978515625, 1.3533343076705933, 13.515951156616211, 1.0939568281173706, 13.2421236038208, 1.054222583770752, 13.168100357055664, 0.9781352877616882, 13.332993507385254, 1.0454436540603638, 13.409025192260742, 1.0342886447906494, 2.096935749053955, 13.305465698242188, 13.43588924407959, 13.316280364990234, 13.451050758361816, 13.50080680847168, 3.6202962398529053, 3.4280407428741455, 2.6686315536499023, 12.812135696411133, 2.3051555156707764, 5.007901668548584, 2.2437312602996826, 1.9556423425674438, 2.2757813930511475, 5.121639251708984, 4.947513580322266, 5.076803207397461, 2.287137508392334, 5.197402000427246, 5.0901288986206055, 5.289430141448975, 5.077083110809326, 2.14971923828125, 12.947452545166016, 3.21877121925354, 12.427872657775879, 3.6387248039245605, 13.09028148651123, 2.7146713733673096, 1.9262906312942505, 2.7541487216949463], \"xaxis\": \"x\", \"y\": [-1.2554559707641602, 1.5719051361083984, 5.3373284339904785, 13.787696838378906, 12.437339782714844, -0.1811462789773941, 1.7566007375717163, -0.2871454060077667, 1.8992899656295776, 5.919095993041992, 6.307704925537109, 6.344563961029053, 6.052317142486572, 5.512811660766602, 6.104500770568848, 5.46473503112793, 5.59164571762085, 5.64794921875, 5.124762058258057, 5.57122278213501, 5.93878173828125, 5.940792083740234, 5.642446994781494, 5.8036417961120605, 0.6173873543739319, 5.136887550354004, 6.616541862487793, 1.9534722566604614, 2.8978383541107178, 2.1112942695617676, -0.33174142241477966, 2.531081438064575, 1.3018994331359863, 2.293029308319092, 1.8648430109024048, 1.592512845993042, 1.610144019126892, 0.9588673710823059, 1.2802237272262573, 2.220601797103882, 1.8404520750045776, 2.1863012313842773, 1.6683961153030396, 1.16376793384552, 0.9746847748756409, 2.382063865661621, -0.3891817331314087, 0.6479907035827637, 5.965518474578857, 4.938787460327148, 6.037079334259033, 5.12907600402832, 6.094419956207275, 5.130186080932617, 5.89406681060791, 0.8057753443717957, -0.41852864623069763, 1.228045105934143, 1.8677098751068115, 1.1731207370758057, 0.3077470660209656, 0.17773307859897614, 5.565733432769775, 0.3410765826702118, -1.3444007635116577, 14.152161598205566, 4.4460577964782715, 13.037660598754883, 2.710031509399414, 4.351346015930176, 2.399041175842285, 2.322810173034668, 5.014294147491455, 5.1781325340271, 12.883959770202637, 4.476468086242676, 4.2414116859436035, 5.086957931518555, 0.6146330833435059, 4.707947254180908, 4.6056084632873535, 12.927327156066895, 0.7335233092308044, -1.153908133506775, 1.1158114671707153, 12.948088645935059, 1.6040228605270386, 13.13447093963623, 2.521162986755371, 13.138694763183594, 1.3394895792007446, 5.023588180541992, 1.1383181810379028, 13.78792953491211, 0.8581594824790955, 14.1627836227417, 0.8879076838493347, 13.753657341003418, 0.9502294063568115, 14.122838020324707, 0.9176312685012817, 14.018800735473633, 0.8787360191345215, 1.6353670358657837, 13.954835891723633, 13.88105583190918, 13.704166412353516, 13.634625434875488, 14.113459587097168, 2.7282721996307373, 2.591533899307251, 5.438802719116211, 12.371132850646973, 2.033329486846924, -1.488242506980896, 0.6994202733039856, 3.2074708938598633, 3.4118099212646484, -1.4873052835464478, -1.3961572647094727, -1.5340662002563477, 2.815321207046509, -1.425378680229187, -1.4728186130523682, -1.6876479387283325, -1.6087982654571533, 3.2611544132232666, 12.564979553222656, 0.20837759971618652, 12.534894943237305, 2.670073986053467, 12.33817195892334, 4.182165145874023, 2.6631557941436768, 2.9204325675964355], \"yaxis\": \"y\"}, {\"hovertemplate\": \"<b>%{hovertext}</b><br><br>tag=url2<br>x=%{x}<br>y=%{y}<br>size=%{marker.size}<extra></extra>\", \"hovertext\": [\"###### RecordOwl\", \"Guest Account\", \"UNREGISTERED\", \"###### YOUR ACCOUNT\", \"  * Latest Company Company By Category Company By Postal Code Register (Coming Soon)\", \"###### About RecordOwl\", \"  * Contact (Live Chat)\", \"###### RecordOwl\", \"Latest Company Company By Category Company By Postal Code\", \"###### Your Account\", \"  * Register(Coming Soon)\", \"###### About RecordOwl\", \"  * Contact (Live Chat)\", \"Guest Account\", \"UNREGISTERED\", \"  * RecordOwl \", \"# FICOFI PARTNERS HOLDING PTE. LTD.\", \"Registration No. / Unique Entity Number: 201309826H\", \"System\", \"30 Apr 2020\", \"FICOFI PARTNERS HOLDING PTE. LTD. (the \\\"Company\\\") The Company is a PRIVATE\", \"COMPANY LIMITED BY SHARES and it's current status is Live Company.\", \"The company was registered / incorporated on 12 April 2013 (Friday), 7 years\", \"ago\", \"The address of this company registered office is 25 INTERNATIONAL BUSINESS\", \"PARK #03-01/02 GERMAN CENTRE SINGAPORE 609916\", \"The company has 7 officers / owners / shareholders.\", \"The company principal activity is OTHER HOLDING COMPANIES.\", \"The company secondary activity is MANAGEMENT CONSULTANCY SERVICES N.E.C..\", \"###### Business Information\", \"  * Registration No: 201309826H\", \"  * Company Name: FICOFI PARTNERS HOLDING PTE. LTD.\", \"  * Address 25 INTERNATIONAL BUSINESS PARK #03-01/02 GERMAN CENTRE SINGAPORE 609916\", \"  * Company Type: PRIVATE COMPANY LIMITED BY SHARES\", \"  * Entity Status: Live Company\", \"  * Incorporation Date: 13 April 2013 \", \"  * First Business Activity: OTHER HOLDING COMPANIES \", \"  * Second Business Activity: MANAGEMENT CONSULTANCY SERVICES N.E.C. \", \"###### Similiar Business Name\", \"  1. LUMINOR PACIFIC FUND 1 LTD. 8 ROBINSON ROAD #12-00 ASO BUILDING SINGAPORE 048544\", \"  2. ASIA PACIFIC SHIPPING (S) PTE. LTD. 13 NORTH BRIDGE ROAD #01-3980 GOLDEN BEACH VISTA SINGAPORE 190013\", \"  3. ASIA PACIFIC JAPAN EVENTURES 28 WOODLANDS CRESCENT #15-22 NORTHOAKS SINGAPORE 738085\", \"View More\", \"###### Companies Located At S(609916)\", \"  1. HERITAGE VINEYARDS PTE. LTD. 25 INTERNATIONAL BUSINESS PARK #03-01/02 GERMAN CENTRE SINGAPORE 609916\", \"  2. BRUCHA SG PTE. LTD. 25 INTERNATIONAL BUSINESS PARK #03-79 GERMAN CENTRE SINGAPORE 609916\", \"  3. GRABATECH (ASIA PACIFIC) PTE. LTD. 25 INTERNATIONAL BUSINESS PARK #05-108 GERMAN CENTRE SINGAPORE 609916\", \"View More\", \"###### Similiar Business Activity\", \"  1. THE MVOULA LIMITED PARTNERSHIP 1 RAFFLES PLACE #29-01 ONE RAFFLES PLACE SINGAPORE 048616\", \"  2. CRAYON RAINBOW LLP 17 PHILLIP STREET #05-01 GRAND BUILDING SINGAPORE 048695\", \"  3. MAPLETREE LONGHORN LLP 10 PASIR PANJANG ROAD #13-01 MAPLETREE BUSINESS CITY SINGAPORE 117438\", \"View More\"], \"legendgroup\": \"url2\", \"marker\": {\"color\": \"#00cc96\", \"size\": [1, 1, 1, 1, 1, 1, 1, 1, 1, 1, 1, 1, 1, 1, 1, 1, 1, 1, 1, 1, 1, 1, 1, 1, 1, 1, 1, 1, 1, 1, 1, 1, 1, 1, 1, 1, 1, 1, 1, 1, 1, 1, 1, 1, 1, 1, 1, 1, 1, 1, 1, 1, 1], \"sizemode\": \"area\", \"sizeref\": 0.0025, \"symbol\": \"circle\"}, \"mode\": \"markers\", \"name\": \"url2\", \"showlegend\": true, \"type\": \"scatter\", \"x\": [-7.038494110107422, -5.923203468322754, -6.694030284881592, -6.4727935791015625, -3.9780495166778564, -6.791478633880615, -5.223191738128662, -6.705814838409424, -3.907252550125122, -6.209805488586426, -5.127868175506592, -7.053328037261963, -5.029644966125488, -6.048730373382568, -6.502540111541748, -6.929043769836426, -5.3840436935424805, -3.6343469619750977, -6.025206089019775, -2.5415000915527344, -4.879701614379883, -4.727531909942627, -1.4725940227508545, -6.015239238739014, -0.46273273229599, 0.0040991948917508125, -1.5838359594345093, -5.0690131187438965, -5.036766052246094, -5.635108470916748, -3.1193673610687256, -4.5462260246276855, -0.17430350184440613, -4.732117652893066, -5.079073905944824, -1.84938645362854, -4.80526065826416, -5.123904705047607, -5.863502025604248, -1.4849127531051636, -0.9478033781051636, -1.071605920791626, -5.870204925537109, -4.149646282196045, -0.4404987096786499, -0.2531944811344147, -0.6359819769859314, -5.643083572387695, -5.581113815307617, -1.0737764835357666, -0.8301894068717957, -1.3260709047317505, -5.634096622467041], \"xaxis\": \"x\", \"y\": [5.894130229949951, 5.003050327301025, 4.311916351318359, 4.950654983520508, 6.630937576293945, 5.444010257720947, 4.520021915435791, 5.9226884841918945, 6.253319263458252, 5.220091342926025, 4.0911970138549805, 5.552601337432861, 4.716750144958496, 4.854988098144531, 4.135099411010742, 5.716015815734863, 6.230149745941162, 5.715211391448975, 3.888895034790039, 6.026823997497559, 6.209422588348389, 5.52974271774292, 6.601372241973877, 3.6410269737243652, 6.6814069747924805, 5.933098793029785, 6.803061485290527, 7.165015697479248, 6.626728057861328, 6.799314022064209, 5.893826484680176, 6.330312728881836, 6.339385032653809, 5.999466896057129, 5.170385360717773, 6.455927848815918, 6.992494106292725, 6.696039199829102, 6.345172882080078, 5.677947044372559, 5.587643146514893, 6.204321384429932, 3.6209707260131836, 5.558272361755371, 5.961880683898926, 5.812942981719971, 6.26747989654541, 4.034151554107666, 6.627867221832275, 5.6334333419799805, 5.801236629486084, 6.009253978729248, 3.666239023208618], \"yaxis\": \"y\"}, {\"hovertemplate\": \"<b>%{hovertext}</b><br><br>tag=url3<br>x=%{x}<br>y=%{y}<br>size=%{marker.size}<extra></extra>\", \"hovertext\": [\"Toggle navigation OPENGOVSG\", \"  * Corporate\", \"    * Corporate\", \"  * Flat\", \"    * Flat Resale Prices\", \"  * Others\", \"    * Childcare Centres\", \"    * Kindergarten Centres\", \"    * Baby Bonus Approved Institutions\", \"    * Renovation Contractors\", \"    * Management Corporation Strata Titles\", \"  * Government\", \"    * Procurement Tenders\", \"Search\", \"#### FICOFI PARTNERS HOLDING PTE. LTD.\", \"  * 1\\\\. Business Overview\", \"  * 2\\\\. Office Location\", \"  * 3\\\\. Competitor\", \"  * 4\\\\. Register Information\", \"# FICOFI PARTNERS HOLDING PTE. LTD.  \", \"Address: 25 International Business Park, #03-01/02, German Centre, Singapore\", \"609916  \", \"FICOFI PARTNERS HOLDING PTE. LTD. (UEN ID 201309826H) is a corporate entity\", \"registered with Accounting and Corporate Regulatory Authority. The UEN issue\", \"date is April 13, 2013. The entity status is Live Company.\", \"Search\", \"* * *\", \"## Business Overview\", \"Unique Entity Number (UEN) |  201309826H  \", \"---|---  \", \"Entity Name |  FICOFI PARTNERS HOLDING PTE. LTD.  \", \"Street Address |  25 International Business Park  \", \"#03-01/02  \", \"German Centre  \", \"Singapore 609916  \", \"Entity Status |  Live Company  \", \"Entity Type |  Local Company  \", \"Company Type Description |  PRIVATE COMPANY LIMITED BY SHARES  \", \"UEN Issuance Agency |  Accounting and Corporate Regulatory Authority (ACRA)  \", \"UEN Issue Date |  2013-04-13  \", \"Incorporation Date |  2013-04-12  \", \"Account Due Date |  2021-01-31  \", \"Annual Return Date |  2019-12-19  \", \"Number Officers |  7  \", \"UEN Audit Firm 1 |  200306563H  \", \"Name Audit Firm 1 |  STEVEN TAN RUSSELL BEDFORD PAC  \", \"### Business activity Singapore Standard Industrial Classification (SSIC)\", \"Primary SSIC Code |  64202: OTHER HOLDING COMPANIES  \", \"---|---  \", \"Secondary SSIC Code |  70209: MANAGEMENT CONSULTANCY SERVICES N.E.C.  \", \"Secondary User Described Activity |  CONSULTING SERVICES FOR WINE SERVICES\", \"COMPANIES (CREATION OF WINES COLLECTION)  \", \"## Office Location\", \"Block |  25  \", \"---|---  \", \"Level Number |  03  \", \"Unit Number |  01/02  \", \"Building Name |  GERMAN CENTRE  \", \"Street Name |  INTERNATIONAL BUSINESS PARK  \", \"City |  Singapore  \", \"Postal Code |  609916  \", \"### Entities with the same location\", \"Entity Name | Office Address | Start Date | Status  \", \"---|---|---|---  \", \"VIESSMANN SINGAPORE PTE. LTD.  | 25 International Business Park, #03-109,\", \"German Centre, Singapore 609916 | 2019-11-05 | Live Company  \", \"JJB AUTO PTE. LTD.  | 25 International Business Park, #02-53, German Centre,\", \"Singapore 609916 | 2019-10-07 | Live Company  \", \"UNIRAY WELLNESS PTE. LTD.  | 25 International Business Park, #04-103C, German\", \"Centre, Singapore 609916 | 2019-09-18 | Live Company  \", \"JEWELLERS LOOP ASIA PTE. LTD.  | 25 International Business Park, #03-01/02,\", \"German Centre, Singapore 609916 | 2019-09-12 | Live Company  \", \"PRESTIGE INTERNATIONAL EDUCATION (S) PTE. LTD.  | 25 International Business\", \"Park, #02-53, German Centre, Singapore 609916 | 2019-08-23 | Live Company  \", \"RODION PTE. LTD.  | 25 International Business Park, #05-109E, German Centre,\", \"Singapore 609916 | 2019-08-01 | Live Company  \", \"2U SERVICES  | 25 International Business Park, #02-53, German Centre,\", \"Singapore 609916 | 2019-07-26 | Live  \", \"HASHOO HOLDINGS PTE. LTD.  | 25 International Business Park, #03-79, German\", \"Centre, Singapore 609916 | 2019-06-26 | Live Company  \", \"CARBORAIL PTE. LTD.  | 25 International Business Park, #02-78/79, German\", \"Centre, Singapore 609916 | 2019-05-31 | Live Company  \", \"HAISHANWELL PTE. LTD.  | 25 International Business Park, #02-53, German\", \"Centre, Singapore 609916 | 2019-05-28 | Live Company  \", \"## Competitor\", \"### Search similar business entities\", \"Street Name |  INTERNATIONAL BUSINESS PARK  \", \"---|---  \", \"Postal Code |  609916  \", \"SSIC Code |  64202 (Singapore Standard Industrial Classification)  \", \"OTHER HOLDING COMPANIES  \", \"## Improve Information\", \"Please comment or provide details below to improve the information on .\", \"  * Comment\", \"  * Provide Details\", \"Name\", \"Address\", \"Phone\", \"Website\", \"Email\", \"Description\", \"Other Comments\", \"Submit\", \"## Dataset Information\", \"Data Provider |  Accounting and Corporate Regulatory Authority  \", \"---|---  \", \"Jurisdiction |  Singapore  \", \"This dataset includes 1.5 million corporate entities registered with\", \"Accounting and Corporate Regulatory Authority (ACRA), Singapore. Each entity\", \"is registered with unique entity number (UEN), entity name, entity time, UEN\", \"issue date, location, etc.\", \"Search\", \"* * *\"], \"legendgroup\": \"url3\", \"marker\": {\"color\": \"#ab63fa\", \"size\": [1, 1, 1, 1, 1, 1, 1, 1, 1, 1, 1, 1, 1, 1, 1, 1, 1, 1, 1, 1, 1, 1, 1, 1, 1, 1, 1, 1, 1, 1, 1, 1, 1, 1, 1, 1, 1, 1, 1, 1, 1, 1, 1, 1, 1, 1, 1, 1, 1, 1, 1, 1, 1, 1, 1, 1, 1, 1, 1, 1, 1, 1, 1, 1, 1, 1, 1, 1, 1, 1, 1, 1, 1, 1, 1, 1, 1, 1, 1, 1, 1, 1, 1, 1, 1, 1, 1, 1, 1, 1, 1, 1, 1, 1, 1, 1, 1, 1, 1, 1, 1, 1, 1, 1, 1, 1, 1, 1, 1, 1, 1, 1, 1], \"sizemode\": \"area\", \"sizeref\": 0.0025, \"symbol\": \"circle\"}, \"mode\": \"markers\", \"name\": \"url3\", \"showlegend\": true, \"type\": \"scatter\", \"x\": [1.4433069229125977, -0.6866527199745178, -0.5073577165603638, 3.1419928073883057, 2.8047385215759277, 2.123300552368164, 0.1485656201839447, 0.2724257707595825, 0.29701539874076843, 0.5875091552734375, 0.17062640190124512, 1.1549633741378784, 1.031479001045227, 2.0600345134735107, 0.3970125913619995, -0.43056976795196533, -0.3225794732570648, 2.4476029872894287, 1.832202434539795, 0.29957547783851624, -3.349494457244873, 1.97836172580719, -0.5545270442962646, -0.18316294252872467, 0.4007972478866577, 2.016937255859375, 2.5180089473724365, -0.4252920150756836, 1.5556607246398926, 2.6322622299194336, 0.2817038595676422, -2.8696632385253906, 1.1258268356323242, -2.75128173828125, 1.5825352668762207, 0.20706424117088318, -0.11788878589868546, -0.40847980976104736, -0.1660313457250595, 0.31871530413627625, 0.45597437024116516, 1.2719035148620605, 0.47095000743865967, 0.03347219154238701, 0.9476400017738342, 0.9542334675788879, 0.8655645847320557, -0.18516851961612701, 2.8166515827178955, 0.3008640706539154, 0.9704605937004089, 0.7929013967514038, -0.07002458721399307, -1.8636949062347412, 2.7334911823272705, 2.3624377250671387, 0.8906298279762268, -3.1172428131103516, -2.581002712249756, 1.2660983800888062, 1.7818204164505005, 1.277423620223999, 0.5562551021575928, 2.688770055770874, -3.1395647525787354, 0.7348580360412598, -3.6298508644104004, 0.6089064478874207, -3.5427894592285156, 0.5975081920623779, -3.3280224800109863, 0.7359387874603271, -2.8100461959838867, 0.6434154510498047, -3.263105869293213, 0.6985953450202942, -3.3759264945983887, 0.4823632836341858, -3.3973448276519775, 0.5558318495750427, -3.220822811126709, 0.5121558904647827, -3.3857474327087402, 0.5170405507087708, 2.429551124572754, 0.3087935447692871, -2.72908091545105, 2.9728634357452393, 1.6454118490219116, 1.1497656106948853, 0.6075168251991272, 1.861266851425171, 1.7938692569732666, 2.119166135787964, 1.7239551544189453, 2.2732303142547607, 1.6788820028305054, 2.216111660003662, 1.2438218593597412, 2.070622444152832, 1.8644248247146606, 1.154028058052063, 1.7017571926116943, 1.0914818048477173, -0.39442890882492065, 2.7745728492736816, 1.141965389251709, 0.1981843113899231, 0.9455621838569641, 1.5661770105361938, 1.4144178628921509, 1.8958330154418945, 2.4496121406555176], \"xaxis\": \"x\", \"y\": [11.008742332458496, 9.014278411865234, 9.214354515075684, 13.411611557006836, 12.44533920288086, 12.849735260009766, 8.641097068786621, 8.340558052062988, 8.598407745361328, 10.095207214355469, 9.408851623535156, 10.530050277709961, 10.164924621582031, 11.884233474731445, 9.86825942993164, 8.383783340454102, 8.675517082214355, 11.236006736755371, 9.185050010681152, 10.179128646850586, 8.612972259521484, 8.637141227722168, 9.590315818786621, 9.316322326660156, 6.028838157653809, 11.929363250732422, 13.154507637023926, 8.713433265686035, 8.477672576904297, 13.599116325378418, 9.970491409301758, 8.583260536193848, 8.814085006713867, 7.699617385864258, 7.71156120300293, 10.220060348510742, 9.887887001037598, 9.729937553405762, 9.202054977416992, 6.354612827301025, 6.022223472595215, 8.224761009216309, 5.5927629470825195, 6.648681163787842, 8.188425064086914, 8.659785270690918, 7.556931972503662, 9.636139869689941, 13.576570510864258, 9.16558837890625, 9.643916130065918, 9.73571491241455, 8.98298454284668, 8.332056045532227, 13.205096244812012, 10.89599323272705, 8.756278991699219, 7.7358927726745605, 8.65538501739502, 7.381618022918701, 8.724371910095215, 11.434412002563477, 8.817591667175293, 13.55573844909668, 8.522531509399414, 4.721497058868408, 8.333592414855957, 5.178728103637695, 8.18057918548584, 4.812165260314941, 8.512741088867188, 4.530677795410156, 8.543866157531738, 4.59584379196167, 7.956735610961914, 5.073538303375244, 8.28667163848877, 5.384791851043701, 7.973795413970947, 4.9612650871276855, 8.104856491088867, 4.908199787139893, 8.316976547241211, 4.7325968742370605, 11.664752960205078, 10.697603225708008, 8.386446952819824, 13.480334281921387, 8.887353897094727, 7.662063121795654, 11.078808784484863, 11.504878044128418, 11.395697593688965, 12.34493350982666, 11.717096328735352, 12.956254005432129, 12.483536720275879, 13.37556266784668, 11.332277297973633, 12.477757453918457, 12.26016902923584, 11.886483192443848, 11.61949634552002, 10.675749778747559, 9.366180419921875, 13.392579078674316, 7.330524921417236, 5.843000411987305, 7.504974842071533, 9.606134414672852, 12.192999839782715, 12.028027534484863, 13.184887886047363], \"yaxis\": \"y\"}],\n",
       "                        {\"legend\": {\"itemsizing\": \"constant\", \"title\": {\"text\": \"tag\"}, \"tracegroupgap\": 0}, \"margin\": {\"t\": 60}, \"template\": {\"data\": {\"bar\": [{\"error_x\": {\"color\": \"#2a3f5f\"}, \"error_y\": {\"color\": \"#2a3f5f\"}, \"marker\": {\"line\": {\"color\": \"#E5ECF6\", \"width\": 0.5}}, \"type\": \"bar\"}], \"barpolar\": [{\"marker\": {\"line\": {\"color\": \"#E5ECF6\", \"width\": 0.5}}, \"type\": \"barpolar\"}], \"carpet\": [{\"aaxis\": {\"endlinecolor\": \"#2a3f5f\", \"gridcolor\": \"white\", \"linecolor\": \"white\", \"minorgridcolor\": \"white\", \"startlinecolor\": \"#2a3f5f\"}, \"baxis\": {\"endlinecolor\": \"#2a3f5f\", \"gridcolor\": \"white\", \"linecolor\": \"white\", \"minorgridcolor\": \"white\", \"startlinecolor\": \"#2a3f5f\"}, \"type\": \"carpet\"}], \"choropleth\": [{\"colorbar\": {\"outlinewidth\": 0, \"ticks\": \"\"}, \"type\": \"choropleth\"}], \"contour\": [{\"colorbar\": {\"outlinewidth\": 0, \"ticks\": \"\"}, \"colorscale\": [[0.0, \"#0d0887\"], [0.1111111111111111, \"#46039f\"], [0.2222222222222222, \"#7201a8\"], [0.3333333333333333, \"#9c179e\"], [0.4444444444444444, \"#bd3786\"], [0.5555555555555556, \"#d8576b\"], [0.6666666666666666, \"#ed7953\"], [0.7777777777777778, \"#fb9f3a\"], [0.8888888888888888, \"#fdca26\"], [1.0, \"#f0f921\"]], \"type\": \"contour\"}], \"contourcarpet\": [{\"colorbar\": {\"outlinewidth\": 0, \"ticks\": \"\"}, \"type\": \"contourcarpet\"}], \"heatmap\": [{\"colorbar\": {\"outlinewidth\": 0, \"ticks\": \"\"}, \"colorscale\": [[0.0, \"#0d0887\"], [0.1111111111111111, \"#46039f\"], [0.2222222222222222, \"#7201a8\"], [0.3333333333333333, \"#9c179e\"], [0.4444444444444444, \"#bd3786\"], [0.5555555555555556, \"#d8576b\"], [0.6666666666666666, \"#ed7953\"], [0.7777777777777778, \"#fb9f3a\"], [0.8888888888888888, \"#fdca26\"], [1.0, \"#f0f921\"]], \"type\": \"heatmap\"}], \"heatmapgl\": [{\"colorbar\": {\"outlinewidth\": 0, \"ticks\": \"\"}, \"colorscale\": [[0.0, \"#0d0887\"], [0.1111111111111111, \"#46039f\"], [0.2222222222222222, \"#7201a8\"], [0.3333333333333333, \"#9c179e\"], [0.4444444444444444, \"#bd3786\"], [0.5555555555555556, \"#d8576b\"], [0.6666666666666666, \"#ed7953\"], [0.7777777777777778, \"#fb9f3a\"], [0.8888888888888888, \"#fdca26\"], [1.0, \"#f0f921\"]], \"type\": \"heatmapgl\"}], \"histogram\": [{\"marker\": {\"colorbar\": {\"outlinewidth\": 0, \"ticks\": \"\"}}, \"type\": \"histogram\"}], \"histogram2d\": [{\"colorbar\": {\"outlinewidth\": 0, \"ticks\": \"\"}, \"colorscale\": [[0.0, \"#0d0887\"], [0.1111111111111111, \"#46039f\"], [0.2222222222222222, \"#7201a8\"], [0.3333333333333333, \"#9c179e\"], [0.4444444444444444, \"#bd3786\"], [0.5555555555555556, \"#d8576b\"], [0.6666666666666666, \"#ed7953\"], [0.7777777777777778, \"#fb9f3a\"], [0.8888888888888888, \"#fdca26\"], [1.0, \"#f0f921\"]], \"type\": \"histogram2d\"}], \"histogram2dcontour\": [{\"colorbar\": {\"outlinewidth\": 0, \"ticks\": \"\"}, \"colorscale\": [[0.0, \"#0d0887\"], [0.1111111111111111, \"#46039f\"], [0.2222222222222222, \"#7201a8\"], [0.3333333333333333, \"#9c179e\"], [0.4444444444444444, \"#bd3786\"], [0.5555555555555556, \"#d8576b\"], [0.6666666666666666, \"#ed7953\"], [0.7777777777777778, \"#fb9f3a\"], [0.8888888888888888, \"#fdca26\"], [1.0, \"#f0f921\"]], \"type\": \"histogram2dcontour\"}], \"mesh3d\": [{\"colorbar\": {\"outlinewidth\": 0, \"ticks\": \"\"}, \"type\": \"mesh3d\"}], \"parcoords\": [{\"line\": {\"colorbar\": {\"outlinewidth\": 0, \"ticks\": \"\"}}, \"type\": \"parcoords\"}], \"pie\": [{\"automargin\": true, \"type\": \"pie\"}], \"scatter\": [{\"marker\": {\"colorbar\": {\"outlinewidth\": 0, \"ticks\": \"\"}}, \"type\": \"scatter\"}], \"scatter3d\": [{\"line\": {\"colorbar\": {\"outlinewidth\": 0, \"ticks\": \"\"}}, \"marker\": {\"colorbar\": {\"outlinewidth\": 0, \"ticks\": \"\"}}, \"type\": \"scatter3d\"}], \"scattercarpet\": [{\"marker\": {\"colorbar\": {\"outlinewidth\": 0, \"ticks\": \"\"}}, \"type\": \"scattercarpet\"}], \"scattergeo\": [{\"marker\": {\"colorbar\": {\"outlinewidth\": 0, \"ticks\": \"\"}}, \"type\": \"scattergeo\"}], \"scattergl\": [{\"marker\": {\"colorbar\": {\"outlinewidth\": 0, \"ticks\": \"\"}}, \"type\": \"scattergl\"}], \"scattermapbox\": [{\"marker\": {\"colorbar\": {\"outlinewidth\": 0, \"ticks\": \"\"}}, \"type\": \"scattermapbox\"}], \"scatterpolar\": [{\"marker\": {\"colorbar\": {\"outlinewidth\": 0, \"ticks\": \"\"}}, \"type\": \"scatterpolar\"}], \"scatterpolargl\": [{\"marker\": {\"colorbar\": {\"outlinewidth\": 0, \"ticks\": \"\"}}, \"type\": \"scatterpolargl\"}], \"scatterternary\": [{\"marker\": {\"colorbar\": {\"outlinewidth\": 0, \"ticks\": \"\"}}, \"type\": \"scatterternary\"}], \"surface\": [{\"colorbar\": {\"outlinewidth\": 0, \"ticks\": \"\"}, \"colorscale\": [[0.0, \"#0d0887\"], [0.1111111111111111, \"#46039f\"], [0.2222222222222222, \"#7201a8\"], [0.3333333333333333, \"#9c179e\"], [0.4444444444444444, \"#bd3786\"], [0.5555555555555556, \"#d8576b\"], [0.6666666666666666, \"#ed7953\"], [0.7777777777777778, \"#fb9f3a\"], [0.8888888888888888, \"#fdca26\"], [1.0, \"#f0f921\"]], \"type\": \"surface\"}], \"table\": [{\"cells\": {\"fill\": {\"color\": \"#EBF0F8\"}, \"line\": {\"color\": \"white\"}}, \"header\": {\"fill\": {\"color\": \"#C8D4E3\"}, \"line\": {\"color\": \"white\"}}, \"type\": \"table\"}]}, \"layout\": {\"annotationdefaults\": {\"arrowcolor\": \"#2a3f5f\", \"arrowhead\": 0, \"arrowwidth\": 1}, \"coloraxis\": {\"colorbar\": {\"outlinewidth\": 0, \"ticks\": \"\"}}, \"colorscale\": {\"diverging\": [[0, \"#8e0152\"], [0.1, \"#c51b7d\"], [0.2, \"#de77ae\"], [0.3, \"#f1b6da\"], [0.4, \"#fde0ef\"], [0.5, \"#f7f7f7\"], [0.6, \"#e6f5d0\"], [0.7, \"#b8e186\"], [0.8, \"#7fbc41\"], [0.9, \"#4d9221\"], [1, \"#276419\"]], \"sequential\": [[0.0, \"#0d0887\"], [0.1111111111111111, \"#46039f\"], [0.2222222222222222, \"#7201a8\"], [0.3333333333333333, \"#9c179e\"], [0.4444444444444444, \"#bd3786\"], [0.5555555555555556, \"#d8576b\"], [0.6666666666666666, \"#ed7953\"], [0.7777777777777778, \"#fb9f3a\"], [0.8888888888888888, \"#fdca26\"], [1.0, \"#f0f921\"]], \"sequentialminus\": [[0.0, \"#0d0887\"], [0.1111111111111111, \"#46039f\"], [0.2222222222222222, \"#7201a8\"], [0.3333333333333333, \"#9c179e\"], [0.4444444444444444, \"#bd3786\"], [0.5555555555555556, \"#d8576b\"], [0.6666666666666666, \"#ed7953\"], [0.7777777777777778, \"#fb9f3a\"], [0.8888888888888888, \"#fdca26\"], [1.0, \"#f0f921\"]]}, \"colorway\": [\"#636efa\", \"#EF553B\", \"#00cc96\", \"#ab63fa\", \"#FFA15A\", \"#19d3f3\", \"#FF6692\", \"#B6E880\", \"#FF97FF\", \"#FECB52\"], \"font\": {\"color\": \"#2a3f5f\"}, \"geo\": {\"bgcolor\": \"white\", \"lakecolor\": \"white\", \"landcolor\": \"#E5ECF6\", \"showlakes\": true, \"showland\": true, \"subunitcolor\": \"white\"}, \"hoverlabel\": {\"align\": \"left\"}, \"hovermode\": \"closest\", \"mapbox\": {\"style\": \"light\"}, \"paper_bgcolor\": \"white\", \"plot_bgcolor\": \"#E5ECF6\", \"polar\": {\"angularaxis\": {\"gridcolor\": \"white\", \"linecolor\": \"white\", \"ticks\": \"\"}, \"bgcolor\": \"#E5ECF6\", \"radialaxis\": {\"gridcolor\": \"white\", \"linecolor\": \"white\", \"ticks\": \"\"}}, \"scene\": {\"xaxis\": {\"backgroundcolor\": \"#E5ECF6\", \"gridcolor\": \"white\", \"gridwidth\": 2, \"linecolor\": \"white\", \"showbackground\": true, \"ticks\": \"\", \"zerolinecolor\": \"white\"}, \"yaxis\": {\"backgroundcolor\": \"#E5ECF6\", \"gridcolor\": \"white\", \"gridwidth\": 2, \"linecolor\": \"white\", \"showbackground\": true, \"ticks\": \"\", \"zerolinecolor\": \"white\"}, \"zaxis\": {\"backgroundcolor\": \"#E5ECF6\", \"gridcolor\": \"white\", \"gridwidth\": 2, \"linecolor\": \"white\", \"showbackground\": true, \"ticks\": \"\", \"zerolinecolor\": \"white\"}}, \"shapedefaults\": {\"line\": {\"color\": \"#2a3f5f\"}}, \"ternary\": {\"aaxis\": {\"gridcolor\": \"white\", \"linecolor\": \"white\", \"ticks\": \"\"}, \"baxis\": {\"gridcolor\": \"white\", \"linecolor\": \"white\", \"ticks\": \"\"}, \"bgcolor\": \"#E5ECF6\", \"caxis\": {\"gridcolor\": \"white\", \"linecolor\": \"white\", \"ticks\": \"\"}}, \"title\": {\"x\": 0.05}, \"xaxis\": {\"automargin\": true, \"gridcolor\": \"white\", \"linecolor\": \"white\", \"ticks\": \"\", \"title\": {\"standoff\": 15}, \"zerolinecolor\": \"white\", \"zerolinewidth\": 2}, \"yaxis\": {\"automargin\": true, \"gridcolor\": \"white\", \"linecolor\": \"white\", \"ticks\": \"\", \"title\": {\"standoff\": 15}, \"zerolinecolor\": \"white\", \"zerolinewidth\": 2}}}, \"xaxis\": {\"anchor\": \"y\", \"domain\": [0.0, 1.0], \"title\": {\"text\": \"x\"}}, \"yaxis\": {\"anchor\": \"x\", \"domain\": [0.0, 1.0], \"title\": {\"text\": \"y\"}}},\n",
       "                        {\"responsive\": true}\n",
       "                    ).then(function(){\n",
       "                            \n",
       "var gd = document.getElementById('95274ede-4dc8-4487-aa37-ff0ce7eff02c');\n",
       "var x = new MutationObserver(function (mutations, observer) {{\n",
       "        var display = window.getComputedStyle(gd).display;\n",
       "        if (!display || display === 'none') {{\n",
       "            console.log([gd, 'removed!']);\n",
       "            Plotly.purge(gd);\n",
       "            observer.disconnect();\n",
       "        }}\n",
       "}});\n",
       "\n",
       "// Listen for the removal of the full notebook cells\n",
       "var notebookContainer = gd.closest('#notebook-container');\n",
       "if (notebookContainer) {{\n",
       "    x.observe(notebookContainer, {childList: true});\n",
       "}}\n",
       "\n",
       "// Listen for the clearing of the current output cell\n",
       "var outputEl = gd.closest('.output');\n",
       "if (outputEl) {{\n",
       "    x.observe(outputEl, {childList: true});\n",
       "}}\n",
       "\n",
       "                        })\n",
       "                };\n",
       "                });\n",
       "            </script>\n",
       "        </div>"
      ]
     },
     "metadata": {},
     "output_type": "display_data"
    }
   ],
   "source": [
    "import plotly.express as px\n",
    "df_emb_sample['size']=1\n",
    "fig = px.scatter(df_emb_sample, x=\"x\", y=\"y\",size='size',color='tag', hover_name=df_emb_sample['tokens'])\n",
    "fig.show()"
   ]
  },
  {
   "cell_type": "code",
   "execution_count": 253,
   "metadata": {
    "ExecuteTime": {
     "end_time": "2020-04-30T07:47:03.197188Z",
     "start_time": "2020-04-30T07:46:53.157129Z"
    }
   },
   "outputs": [
    {
     "name": "stderr",
     "output_type": "stream",
     "text": [
      "Batches: 100%|██████████| 6/6 [00:01<00:00,  5.74it/s]\n",
      "Batches: 100%|██████████| 17/17 [00:04<00:00,  4.06it/s]\n",
      "Batches: 100%|██████████| 7/7 [00:01<00:00,  4.28it/s]\n",
      "Batches: 100%|██████████| 15/15 [00:03<00:00,  4.78it/s]\n"
     ]
    }
   ],
   "source": [
    "embedding_0 = get_bert_embeddings(corpus_token_list[0])\n",
    "embedding_1 = get_bert_embeddings(corpus_token_list[1])\n",
    "embedding_2 = get_bert_embeddings(corpus_token_list[2])\n",
    "embedding_3 = get_bert_embeddings(corpus_token_list[3])"
   ]
  },
  {
   "cell_type": "code",
   "execution_count": 254,
   "metadata": {
    "ExecuteTime": {
     "end_time": "2020-04-30T07:47:10.525959Z",
     "start_time": "2020-04-30T07:47:09.383914Z"
    }
   },
   "outputs": [
    {
     "data": {
      "image/png": "[encoded data removed]",
      "text/plain": [
       "<Figure size 432x288 with 1 Axes>"
      ]
     },
     "metadata": {
      "needs_background": "light"
     },
     "output_type": "display_data"
    }
   ],
   "source": [
    "Sum_of_squared_distances = []\n",
    "K = range(1,20)\n",
    "for k in K:\n",
    "    km = KMeans(n_clusters=k)\n",
    "    km = km.fit(df_emb_sample[['x','y']])\n",
    "    Sum_of_squared_distances.append(km.inertia_)\n",
    "    \n",
    "    \n",
    "plt.plot(K, Sum_of_squared_distances, 'bx-')\n",
    "plt.xlabel('k')\n",
    "plt.ylabel('Sum_of_squared_distances')\n",
    "plt.title('Elbow Method For Optimal k')\n",
    "plt.show()"
   ]
  },
  {
   "cell_type": "code",
   "execution_count": 255,
   "metadata": {
    "ExecuteTime": {
     "end_time": "2020-04-30T07:47:28.607885Z",
     "start_time": "2020-04-30T07:47:28.604061Z"
    }
   },
   "outputs": [],
   "source": [
    "from sklearn.cluster import KMeans\n",
    "\n",
    "num_clusters = 5"
   ]
  },
  {
   "cell_type": "code",
   "execution_count": 262,
   "metadata": {
    "ExecuteTime": {
     "end_time": "2020-04-30T07:50:26.699960Z",
     "start_time": "2020-04-30T07:50:26.637681Z"
    }
   },
   "outputs": [],
   "source": [
    "clustering_model = KMeans(n_clusters=num_clusters)\n",
    "clustering_model.fit(df_emb_sample[['x','y']])\n",
    "cluster_assignment = clustering_model.labels_\n",
    "df_embd_cluster = pd.DataFrame({'token':df_emb_sample['tokens'], 'cluster':cluster_assignment,'url':df_emb_sample['tag']})"
   ]
  },
  {
   "cell_type": "code",
   "execution_count": 157,
   "metadata": {
    "ExecuteTime": {
     "end_time": "2020-04-30T06:43:17.475603Z",
     "start_time": "2020-04-30T06:43:17.422368Z"
    }
   },
   "outputs": [],
   "source": [
    "# clustering_model = KMeans(n_clusters=4)\n",
    "# clustering_model.fit(embedding_0)\n",
    "# cluster_assignment = clustering_model.labels_\n",
    "# df_embd_0_cluster = pd.DataFrame({'token':corpus_token_list[0], 'cluster':cluster_assignment})"
   ]
  },
  {
   "cell_type": "code",
   "execution_count": 274,
   "metadata": {
    "ExecuteTime": {
     "end_time": "2020-04-30T07:52:47.886354Z",
     "start_time": "2020-04-30T07:52:47.876267Z"
    }
   },
   "outputs": [
    {
     "data": {
      "text/plain": [
       "url3    76\n",
       "Name: url, dtype: int64"
      ]
     },
     "execution_count": 274,
     "metadata": {},
     "output_type": "execute_result"
    }
   ],
   "source": [
    "df_embd_cluster[df_embd_cluster.cluster==0].url.value_counts()"
   ]
  },
  {
   "cell_type": "code",
   "execution_count": 270,
   "metadata": {
    "ExecuteTime": {
     "end_time": "2020-04-30T07:52:15.364808Z",
     "start_time": "2020-04-30T07:52:15.355237Z"
    }
   },
   "outputs": [
    {
     "data": {
      "text/plain": [
       "url1    73\n",
       "url0    20\n",
       "Name: url, dtype: int64"
      ]
     },
     "execution_count": 270,
     "metadata": {},
     "output_type": "execute_result"
    }
   ],
   "source": [
    "df_embd_cluster[df_embd_cluster.cluster==1].url.value_counts()"
   ]
  },
  {
   "cell_type": "code",
   "execution_count": 271,
   "metadata": {
    "ExecuteTime": {
     "end_time": "2020-04-30T07:52:27.419439Z",
     "start_time": "2020-04-30T07:52:27.411745Z"
    }
   },
   "outputs": [
    {
     "data": {
      "text/plain": [
       "url1    23\n",
       "Name: url, dtype: int64"
      ]
     },
     "execution_count": 271,
     "metadata": {},
     "output_type": "execute_result"
    }
   ],
   "source": [
    "df_embd_cluster[df_embd_cluster.cluster==2].url.value_counts()"
   ]
  },
  {
   "cell_type": "code",
   "execution_count": 272,
   "metadata": {
    "ExecuteTime": {
     "end_time": "2020-04-30T07:52:34.098726Z",
     "start_time": "2020-04-30T07:52:34.089475Z"
    }
   },
   "outputs": [
    {
     "data": {
      "text/plain": [
       "url2    38\n",
       "url0    24\n",
       "url3    15\n",
       "Name: url, dtype: int64"
      ]
     },
     "execution_count": 272,
     "metadata": {},
     "output_type": "execute_result"
    }
   ],
   "source": [
    "df_embd_cluster[df_embd_cluster.cluster==3].url.value_counts()"
   ]
  },
  {
   "cell_type": "code",
   "execution_count": 273,
   "metadata": {
    "ExecuteTime": {
     "end_time": "2020-04-30T07:52:41.126054Z",
     "start_time": "2020-04-30T07:52:41.108948Z"
    }
   },
   "outputs": [
    {
     "data": {
      "text/plain": [
       "url1    39\n",
       "url3    22\n",
       "url2    15\n",
       "Name: url, dtype: int64"
      ]
     },
     "execution_count": 273,
     "metadata": {},
     "output_type": "execute_result"
    }
   ],
   "source": [
    "df_embd_cluster[df_embd_cluster.cluster==4].url.value_counts()"
   ]
  },
  {
   "cell_type": "code",
   "execution_count": 279,
   "metadata": {
    "ExecuteTime": {
     "end_time": "2020-04-30T08:18:26.421634Z",
     "start_time": "2020-04-30T08:18:26.406956Z"
    },
    "scrolled": false
   },
   "outputs": [
    {
     "data": {
      "text/plain": [
       "array([['  * SELECT LANGUAGE  Polski Español Português 简体中文 日本語', 4,\n",
       "        'url1'],\n",
       "       ['Afghanistan Albania Algeria Angola Argentina Armenia Azerbaijan Bahamas',\n",
       "        4, 'url1'],\n",
       "       ['Bahrain Bangladesh Belarus Belize Bolivia Bosnia and Herzegovina Botswana',\n",
       "        4, 'url1'],\n",
       "       ['Brazil Brunei Darussalam Bulgaria Burkina Faso Cambodia Cameroon Chile China',\n",
       "        4, 'url1'],\n",
       "       ['Colombia Congo Costa Rica Croatia Cuba Czech Republic Dominican Republic',\n",
       "        4, 'url1'],\n",
       "       ['Ecuador Egypt El Salvador Estonia Eswatini Ethiopia Gabon Gambia Georgia Ghana',\n",
       "        4, 'url1'],\n",
       "       ['Guatemala Haiti Honduras Hong Kong SAR, China Hungary India Indonesia Iran',\n",
       "        4, 'url1'],\n",
       "       ['Iraq Ivory Coast Jamaica Jordan Kazakhstan Kenya Kosovo Kuwait Kyrgyzstan Laos',\n",
       "        4, 'url1'],\n",
       "       ['Latvia Lebanon Liberia Libya Lithuania Madagascar Malawi Malaysia Mauritius',\n",
       "        4, 'url1'],\n",
       "       ['Mexico Moldova Mongolia Montenegro Morocco Mozambique Myanmar Namibia',\n",
       "        4, 'url1'],\n",
       "       ['Nicaragua Nigeria North Korea North Macedonia Oman Pakistan Palestine Panama',\n",
       "        4, 'url1'],\n",
       "       ['Paraguay Peru Philippines Poland Puerto Rico Qatar Romania Russia Saudi Arabia',\n",
       "        4, 'url1'],\n",
       "       ['Senegal Serbia Singapore Slovakia Slovenia South Africa South Korea Sri Lanka',\n",
       "        4, 'url1'],\n",
       "       ['Sudan Syria Taiwan Tajikistan Tanzania Thailand Togo Trinidad and Tobago',\n",
       "        4, 'url1'],\n",
       "       ['Tunisia Turkey Turkmenistan Uganda Ukraine United Arab Emirates Uruguay',\n",
       "        4, 'url1'],\n",
       "       ['Uzbekistan Venezuela Vietnam Zambia Zimbabwe', 4, 'url1'],\n",
       "       ['Africa and the Middle East Asia Pacific Central Europe Latin America and the',\n",
       "        4, 'url1'],\n",
       "       ['Caribbean', 4, 'url1'],\n",
       "       ['China India Indonesia Malaysia Vietnam View All', 4, 'url1'],\n",
       "       ['EASTERN EUROPE  ', 4, 'url1'],\n",
       "       ['Hungary Poland Romania Russia Turkey View All', 4, 'url1'],\n",
       "       ['Latin America  ', 4, 'url1'],\n",
       "       ['Argentina Brazil Colombia Mexico Peru View All', 4, 'url1'],\n",
       "       ['Middle East & Africa  ', 4, 'url1'],\n",
       "       ['Egypt Morocco Saudi Arabia South Africa UAE View All', 4,\n",
       "        'url1'],\n",
       "       ['  * $0.00 (0) EMIS Store SELECT LANGUAGE  Polski Español Português 简体中文 日本語 Client log in',\n",
       "        4, 'url1'],\n",
       "       ['Home Singapore Professional, Scientific, and Technical Services Ficofi',\n",
       "        4, 'url1'],\n",
       "       ['# Ficofi Partners Holding Pte. Ltd. (Singapore)', 4, 'url1'],\n",
       "       ['Full name: Ficofi Partners Holding Pte. Ltd. Profile Updated: August 29, 2019',\n",
       "        4, 'url1'],\n",
       "       ['Buy our report for this company USD 14.99  Most recent financial data: 2018',\n",
       "        4, 'url1'],\n",
       "       ['Ficofi Partners Holding Pte. Ltd. is an enterprise located in Singapore, with',\n",
       "        4, 'url1'],\n",
       "       ['the main office in Singapore. It operates in the Management of Companies and',\n",
       "        4, 'url1'],\n",
       "       ['Enterprises sector. It was incorporated on April 12, 2013.', 4,\n",
       "        'url1'],\n",
       "       ['25 International Business Park #03-01/02 German Centre Singapore 609916  ',\n",
       "        4, 'url1'],\n",
       "       ['Singapore; Singapore; Postal Code: 609916', 4, 'url1'],\n",
       "       ['April 12, 2013', 4, 'url1'],\n",
       "       ['company, industry and country data and analysis for over 145 emerging markets.',\n",
       "        4, 'url1'],\n",
       "       ['Winson Oil Trading Pte. Ltd.', 4, 'url1'],\n",
       "       ['About us Our solutions Blog ISI Emerging Markets Group', 4,\n",
       "        'url1'],\n",
       "       ['The company was registered / incorporated on 12 April 2013 (Friday), 7 years',\n",
       "        4, 'url2'],\n",
       "       ['The address of this company registered office is 25 INTERNATIONAL BUSINESS',\n",
       "        4, 'url2'],\n",
       "       ['PARK #03-01/02 GERMAN CENTRE SINGAPORE 609916', 4, 'url2'],\n",
       "       ['The company has 7 officers / owners / shareholders.', 4, 'url2'],\n",
       "       ['  * Address 25 INTERNATIONAL BUSINESS PARK #03-01/02 GERMAN CENTRE SINGAPORE 609916',\n",
       "        4, 'url2'],\n",
       "       ['  * Incorporation Date: 13 April 2013 ', 4, 'url2'],\n",
       "       ['  1. LUMINOR PACIFIC FUND 1 LTD. 8 ROBINSON ROAD #12-00 ASO BUILDING SINGAPORE 048544',\n",
       "        4, 'url2'],\n",
       "       ['  2. ASIA PACIFIC SHIPPING (S) PTE. LTD. 13 NORTH BRIDGE ROAD #01-3980 GOLDEN BEACH VISTA SINGAPORE 190013',\n",
       "        4, 'url2'],\n",
       "       ['  3. ASIA PACIFIC JAPAN EVENTURES 28 WOODLANDS CRESCENT #15-22 NORTHOAKS SINGAPORE 738085',\n",
       "        4, 'url2'],\n",
       "       ['  1. HERITAGE VINEYARDS PTE. LTD. 25 INTERNATIONAL BUSINESS PARK #03-01/02 GERMAN CENTRE SINGAPORE 609916',\n",
       "        4, 'url2'],\n",
       "       ['  2. BRUCHA SG PTE. LTD. 25 INTERNATIONAL BUSINESS PARK #03-79 GERMAN CENTRE SINGAPORE 609916',\n",
       "        4, 'url2'],\n",
       "       ['  3. GRABATECH (ASIA PACIFIC) PTE. LTD. 25 INTERNATIONAL BUSINESS PARK #05-108 GERMAN CENTRE SINGAPORE 609916',\n",
       "        4, 'url2'],\n",
       "       ['  1. THE MVOULA LIMITED PARTNERSHIP 1 RAFFLES PLACE #29-01 ONE RAFFLES PLACE SINGAPORE 048616',\n",
       "        4, 'url2'],\n",
       "       ['  2. CRAYON RAINBOW LLP 17 PHILLIP STREET #05-01 GRAND BUILDING SINGAPORE 048695',\n",
       "        4, 'url2'],\n",
       "       ['  3. MAPLETREE LONGHORN LLP 10 PASIR PANJANG ROAD #13-01 MAPLETREE BUSINESS CITY SINGAPORE 117438',\n",
       "        4, 'url2'],\n",
       "       ['date is April 13, 2013. The entity status is Live Company.', 4,\n",
       "        'url3'],\n",
       "       ['Singapore 609916  ', 4, 'url3'],\n",
       "       ['UEN Issue Date |  2013-04-13  ', 4, 'url3'],\n",
       "       ['Incorporation Date |  2013-04-12  ', 4, 'url3'],\n",
       "       ['Annual Return Date |  2019-12-19  ', 4, 'url3'],\n",
       "       ['Number Officers |  7  ', 4, 'url3'],\n",
       "       ['### Business activity Singapore Standard Industrial Classification (SSIC)',\n",
       "        4, 'url3'],\n",
       "       ['City |  Singapore  ', 4, 'url3'],\n",
       "       ['German Centre, Singapore 609916 | 2019-11-05 | Live Company  ',\n",
       "        4, 'url3'],\n",
       "       ['Singapore 609916 | 2019-10-07 | Live Company  ', 4, 'url3'],\n",
       "       ['Centre, Singapore 609916 | 2019-09-18 | Live Company  ', 4,\n",
       "        'url3'],\n",
       "       ['German Centre, Singapore 609916 | 2019-09-12 | Live Company  ',\n",
       "        4, 'url3'],\n",
       "       ['Park, #02-53, German Centre, Singapore 609916 | 2019-08-23 | Live Company  ',\n",
       "        4, 'url3'],\n",
       "       ['Singapore 609916 | 2019-08-01 | Live Company  ', 4, 'url3'],\n",
       "       ['Singapore 609916 | 2019-07-26 | Live  ', 4, 'url3'],\n",
       "       ['Centre, Singapore 609916 | 2019-06-26 | Live Company  ', 4,\n",
       "        'url3'],\n",
       "       ['Centre, Singapore 609916 | 2019-05-31 | Live Company  ', 4,\n",
       "        'url3'],\n",
       "       ['Centre, Singapore 609916 | 2019-05-28 | Live Company  ', 4,\n",
       "        'url3'],\n",
       "       ['SSIC Code |  64202 (Singapore Standard Industrial Classification)  ',\n",
       "        4, 'url3'],\n",
       "       ['Jurisdiction |  Singapore  ', 4, 'url3'],\n",
       "       ['This dataset includes 1.5 million corporate entities registered with',\n",
       "        4, 'url3'],\n",
       "       ['Accounting and Corporate Regulatory Authority (ACRA), Singapore. Each entity',\n",
       "        4, 'url3']], dtype=object)"
      ]
     },
     "execution_count": 279,
     "metadata": {},
     "output_type": "execute_result"
    }
   ],
   "source": [
    "df_embd_cluster[df_embd_cluster.cluster==4].values"
   ]
  },
  {
   "cell_type": "code",
   "execution_count": null,
   "metadata": {},
   "outputs": [],
   "source": []
  },
  {
   "cell_type": "code",
   "execution_count": null,
   "metadata": {},
   "outputs": [],
   "source": []
  }
 ],
 "metadata": {
  "kernelspec": {
   "display_name": "Python 3.7.4 64-bit",
   "language": "python",
   "name": "python37464bitd354516f517147279a113529c8fe5e5f"
  },
  "language_info": {
   "codemirror_mode": {
    "name": "ipython",
    "version": 3
   },
   "file_extension": ".py",
   "mimetype": "text/x-python",
   "name": "python",
   "nbconvert_exporter": "python",
   "pygments_lexer": "ipython3",
   "version": "3.7.7"
  },
  "toc": {
   "base_numbering": 1,
   "nav_menu": {},
   "number_sections": true,
   "sideBar": true,
   "skip_h1_title": false,
   "title_cell": "Table of Contents",
   "title_sidebar": "Contents",
   "toc_cell": false,
   "toc_position": {},
   "toc_section_display": true,
   "toc_window_display": false
  },
  "varInspector": {
   "cols": {
    "lenName": 16,
    "lenType": 16,
    "lenVar": 40
   },
   "kernels_config": {
    "python": {
     "delete_cmd_postfix": "",
     "delete_cmd_prefix": "del ",
     "library": "var_list.py",
     "varRefreshCmd": "print(var_dic_list())"
    },
    "r": {
     "delete_cmd_postfix": ") ",
     "delete_cmd_prefix": "rm(",
     "library": "var_list.r",
     "varRefreshCmd": "cat(var_dic_list()) "
    }
   },
   "types_to_exclude": [
    "module",
    "function",
    "builtin_function_or_method",
    "instance",
    "_Feature"
   ],
   "window_display": false
  }
 },
 "nbformat": 4,
 "nbformat_minor": 4
}
