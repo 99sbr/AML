{
 "cells": [
  {
   "cell_type": "markdown",
   "metadata": {
    "slideshow": {
     "slide_type": "slide"
    }
   },
   "source": [
    "### Import Libraries and Models"
   ]
  },
  {
   "cell_type": "code",
   "execution_count": 1,
   "metadata": {
    "ExecuteTime": {
     "end_time": "2020-05-13T12:01:39.286257Z",
     "start_time": "2020-05-13T12:01:13.738176Z"
    },
    "slideshow": {
     "slide_type": "slide"
    }
   },
   "outputs": [
    {
     "name": "stderr",
     "output_type": "stream",
     "text": [
      "/Users/subir/pythonenv/default/lib/python3.7/site-packages/tensorboard/compat/tensorflow_stub/dtypes.py:541: FutureWarning: Passing (type, 1) or '1type' as a synonym of type is deprecated; in a future version of numpy, it will be understood as (type, (1,)) / '(1,)type'.\n",
      "  _np_qint8 = np.dtype([(\"qint8\", np.int8, 1)])\n",
      "/Users/subir/pythonenv/default/lib/python3.7/site-packages/tensorboard/compat/tensorflow_stub/dtypes.py:542: FutureWarning: Passing (type, 1) or '1type' as a synonym of type is deprecated; in a future version of numpy, it will be understood as (type, (1,)) / '(1,)type'.\n",
      "  _np_quint8 = np.dtype([(\"quint8\", np.uint8, 1)])\n",
      "/Users/subir/pythonenv/default/lib/python3.7/site-packages/tensorboard/compat/tensorflow_stub/dtypes.py:543: FutureWarning: Passing (type, 1) or '1type' as a synonym of type is deprecated; in a future version of numpy, it will be understood as (type, (1,)) / '(1,)type'.\n",
      "  _np_qint16 = np.dtype([(\"qint16\", np.int16, 1)])\n",
      "/Users/subir/pythonenv/default/lib/python3.7/site-packages/tensorboard/compat/tensorflow_stub/dtypes.py:544: FutureWarning: Passing (type, 1) or '1type' as a synonym of type is deprecated; in a future version of numpy, it will be understood as (type, (1,)) / '(1,)type'.\n",
      "  _np_quint16 = np.dtype([(\"quint16\", np.uint16, 1)])\n",
      "/Users/subir/pythonenv/default/lib/python3.7/site-packages/tensorboard/compat/tensorflow_stub/dtypes.py:545: FutureWarning: Passing (type, 1) or '1type' as a synonym of type is deprecated; in a future version of numpy, it will be understood as (type, (1,)) / '(1,)type'.\n",
      "  _np_qint32 = np.dtype([(\"qint32\", np.int32, 1)])\n",
      "/Users/subir/pythonenv/default/lib/python3.7/site-packages/tensorboard/compat/tensorflow_stub/dtypes.py:550: FutureWarning: Passing (type, 1) or '1type' as a synonym of type is deprecated; in a future version of numpy, it will be understood as (type, (1,)) / '(1,)type'.\n",
      "  np_resource = np.dtype([(\"resource\", np.ubyte, 1)])\n",
      "2020-05-13 17:31:24 INFO: Loading these models for language: en (English):\n",
      "=========================\n",
      "| Processor | Package   |\n",
      "-------------------------\n",
      "| tokenize  | ewt       |\n",
      "| pos       | ewt       |\n",
      "| lemma     | ewt       |\n",
      "| depparse  | ewt       |\n",
      "| ner       | ontonotes |\n",
      "=========================\n",
      "\n",
      "2020-05-13 17:31:24 INFO: Use device: cpu\n",
      "2020-05-13 17:31:24 INFO: Loading: tokenize\n",
      "2020-05-13 17:31:24 INFO: Loading: pos\n",
      "2020-05-13 17:31:25 INFO: Loading: lemma\n",
      "2020-05-13 17:31:26 INFO: Loading: depparse\n",
      "2020-05-13 17:31:27 INFO: Loading: ner\n",
      "2020-05-13 17:31:28 INFO: Done loading processors!\n"
     ]
    }
   ],
   "source": [
    "from pprint import pprint\n",
    "from spacy_stanza import StanzaLanguage\n",
    "import stanza\n",
    "import spacy\n",
    "import nltk\n",
    "import tensorflow as tf\n",
    "import re\n",
    "import random\n",
    "from nltk.corpus import stopwords\n",
    "from nltk.cluster.util import cosine_distance\n",
    "import numpy as np\n",
    "import networkx as nx\n",
    "import requests\n",
    "from bs4 import BeautifulSoup\n",
    "import html2text\n",
    "from summarizer import Summarizer\n",
    "from textblob import TextBlob\n",
    "stop_words = stopwords.words('english')\n",
    "snlp = stanza.Pipeline(lang=\"en\")\n",
    "stanza_nlp = StanzaLanguage(snlp)\n",
    "spacy_nlp = spacy.load('en_core_web_lg')"
   ]
  },
  {
   "cell_type": "code",
   "execution_count": 2,
   "metadata": {
    "ExecuteTime": {
     "end_time": "2020-05-13T12:01:39.331529Z",
     "start_time": "2020-05-13T12:01:39.317871Z"
    }
   },
   "outputs": [
    {
     "data": {
      "text/plain": [
       "'\\nWINSON OIL TRADING PTE. LTD\\n'"
      ]
     },
     "execution_count": 2,
     "metadata": {},
     "output_type": "execute_result"
    }
   ],
   "source": [
    "\"\"\"\n",
    "vgi global media\n",
    "\"\"\""
   ]
  },
  {
   "cell_type": "markdown",
   "metadata": {
    "slideshow": {
     "slide_type": "slide"
    }
   },
   "source": [
    "### Defining Client Profile Summary from Documentum"
   ]
  },
  {
   "cell_type": "code",
   "execution_count": 17,
   "metadata": {
    "ExecuteTime": {
     "end_time": "2020-05-13T12:43:41.501617Z",
     "start_time": "2020-05-13T12:43:41.431660Z"
    },
    "slideshow": {
     "slide_type": "slide"
    }
   },
   "outputs": [],
   "source": [
    "fromkyc = \"VGI is a unique market leader with exclusive access to behavioral data from our advertising, payment and logistics platforms. \\\n",
    "We turn data to meaningful consumer insight, enabling us to offer Offline-to-Online (O2O) Solutions. \\\n",
    "To provide a better customer experience, we help brands to navigate their customers at every stage of the purchasing process.\\\n",
    "Their main business is Payment, which they have joined hand with the leading partners including BTS, AIS, Line, Kerry Express.\\\n",
    "VGI successfully acquired 23% in Kerry Express – the leading parcel delivery in Thailand.\"\n",
    "\n",
    "kyc_doc = spacy_nlp(fromkyc.strip())"
   ]
  },
  {
   "cell_type": "markdown",
   "metadata": {
    "slideshow": {
     "slide_type": "slide"
    }
   },
   "source": [
    "### Source URL list to crawl"
   ]
  },
  {
   "cell_type": "code",
   "execution_count": 28,
   "metadata": {
    "ExecuteTime": {
     "end_time": "2020-05-13T12:45:54.604128Z",
     "start_time": "2020-05-13T12:45:54.600222Z"
    },
    "slideshow": {
     "slide_type": "slide"
    }
   },
   "outputs": [],
   "source": [
    "source_url_list = [\n",
    "    \"https://www.reuters.com/companies/VGIn.BK\",\n",
    "    \"https://www.zoominfo.com/c/Vgi-global-media-plc/372153320\"\n",
    "]"
   ]
  },
  {
   "cell_type": "markdown",
   "metadata": {
    "slideshow": {
     "slide_type": "slide"
    }
   },
   "source": [
    "### HTML Parsing and Text Cleaning"
   ]
  },
  {
   "cell_type": "code",
   "execution_count": 29,
   "metadata": {
    "ExecuteTime": {
     "end_time": "2020-05-13T12:45:55.173468Z",
     "start_time": "2020-05-13T12:45:55.160675Z"
    },
    "slideshow": {
     "slide_type": "slide"
    }
   },
   "outputs": [],
   "source": [
    "def text_cleaning(raw_text):\n",
    "    raw_text_list = raw_text.split('\\n')\n",
    "#     raw_text_list = [\n",
    "#         token for token in raw_text_list if token not in stop_words\n",
    "#     ]\n",
    "    clean_sent_list = [\n",
    "        re.sub('[^A-Za-z0-9]+\\.-/', '', token) for token in raw_text_list\n",
    "        if bool(token)\n",
    "    ]\n",
    "    clean_sent = ' '.join(clean_sent_list)\n",
    "    clean_sent = ' '.join(clean_sent.split())\n",
    "    doc = stanza_nlp(clean_sent)\n",
    "\n",
    "    spacy_text_list = []\n",
    "    for sent in doc.sents:\n",
    "        spacy_text_list.append(sent.text)\n",
    "    import random\n",
    "    #     spacy_text_list = random.sample(spacy_text_list, len(spacy_text_list))\n",
    "    return spacy_text_list\n",
    "\n",
    "\n",
    "def tag2text(tag):\n",
    "\n",
    "    if tag.name == 'p':\n",
    "        return tag.text\n",
    "\n",
    "\n",
    "def parse_article(text):\n",
    "    soup = BeautifulSoup(text, 'html.parser')\n",
    "\n",
    "    # find the article title\n",
    "    h1 = soup.find('h1')\n",
    "\n",
    "    # find the common parent for <h1> and all <p>s.\n",
    "    root = h1\n",
    "    while root.name != 'body':\n",
    "        if root.parent == None:\n",
    "            break\n",
    "        root = root.parent\n",
    "\n",
    "    # find all the content elements.\n",
    "    ps = root.find_all(['h2', 'h3', 'h4', 'h5', 'h6', 'p', 'pre'])\n",
    "    ps.insert(0, h1)\n",
    "    content = [tag2text(p) for p in ps]\n",
    "    content = [x for x in content if bool(x)]\n",
    "    return content"
   ]
  },
  {
   "cell_type": "markdown",
   "metadata": {
    "slideshow": {
     "slide_type": "slide"
    }
   },
   "source": [
    "### Creating Corpus of Information from WEB"
   ]
  },
  {
   "cell_type": "code",
   "execution_count": 30,
   "metadata": {
    "ExecuteTime": {
     "end_time": "2020-05-13T12:45:55.897929Z",
     "start_time": "2020-05-13T12:45:55.891726Z"
    },
    "slideshow": {
     "slide_type": "slide"
    }
   },
   "outputs": [],
   "source": [
    "def gather_content_data(url_list):\n",
    "    assert len(url_list) > 0\n",
    "    corpus = []\n",
    "    for url in url_list:\n",
    "        print(url)\n",
    "        content = parse_article(requests.get(url).text)\n",
    "        if bool(content):\n",
    "            corpus.append(' '.join(content))\n",
    "    spacy_text_list = text_cleaning(' '.join(corpus))\n",
    "    return ' '.join(spacy_text_list)"
   ]
  },
  {
   "cell_type": "code",
   "execution_count": 31,
   "metadata": {
    "ExecuteTime": {
     "end_time": "2020-05-13T12:46:01.718566Z",
     "start_time": "2020-05-13T12:45:56.479798Z"
    },
    "slideshow": {
     "slide_type": "slide"
    }
   },
   "outputs": [
    {
     "name": "stdout",
     "output_type": "stream",
     "text": [
      "https://www.reuters.com/companies/VGIn.BK\n",
      "https://www.zoominfo.com/c/Vgi-global-media-plc/372153320\n"
     ]
    }
   ],
   "source": [
    "corpus = gather_content_data(url_list=source_url_list)"
   ]
  },
  {
   "cell_type": "code",
   "execution_count": 32,
   "metadata": {
    "ExecuteTime": {
     "end_time": "2020-05-13T12:46:01.754135Z",
     "start_time": "2020-05-13T12:46:01.746977Z"
    }
   },
   "outputs": [
    {
     "data": {
      "text/plain": [
       "\"Discover Thomson Reuters More VGIn.BK Latest Trade Change Today's Range - 52 Week Range - As of on the Stock Exchange of Thailand (Bangkok) ∙ Minimum 15 minute delay Profile News Key Developments Charts People Financials Key Metrics Events All Listings VGI Approves Interim Dividend Of 0.045 Baht Per Share VGI Pcl Posts Qtrly Total Revenues 1.93 Bln Baht Vs 1.53 Bln Baht VGI Pcl Posts Qtrly Profit For The Period 382.1 Mln Baht Vs 285.5 Mln Baht VGI Public Company Limited, formerly VGI Global Media Public Company Limited, is a Thailand-based Company engaged in the provision of marketing and advertising services. The Company’s business activities are divided into three groups: mass transit, modern trade, and multimedia. Mass transit media consists of Bangkok mass transit system (BTS) merchandising, which refers to the shops on the BTS stations, BTS advertising, Chulalongkorn University (CU) media, which comprises bus shelter and bus body media, and airport rail link. Modern trade includes sales floor media, which is a choice of various formats of media located at the point of purchase or nearby, and non sale floor media located from the entrance area of the stores, car parks and mall areas, such as Tesco Lotus and Big C. Multimedia is the digital screen networks across the country, such as BTS and office towers. Industry Advertising Contact Info Floor 9, TST Tower 21 Wiphawadirangsit Road Chomphon, Chatuchak 10900 Thailand +66.22.738884 Executive Leadership Khiri Karnchanaphat Chairman of the Board Kawin Karnchanaphat Chairman of the Executive Board and Director Lap Shun Leung Chief Executive Officer Supharanan Tanwirat Chief Financial Officer and Executive Director Darani Phanklin Managing Director of Finance 2017 2018 2019 2020(E) 2017 2018 2019 2020(E) New Stories * TO INVEST IN 23 PERCENT OF SHARES IN KERRY EXPRESS FOR 5.90 BILLION BAHT Source text for Eikon: Further company coverage: * Q3 NET PROFIT 181.1 MILLION BAHT VERSUS 125.8 MILLION BAHT A YEAR AGO * CO & SUPREMO MAKE INVESTMENT IN RATIO OF 25 PERCENT AND 75 PERCENT RESPECTIVELY TOWARDS JV CO SUPREMO MEDIA CO LTD * Unit VGI Global Media (Malaysia) to acquire 4.3 million shares in Puncak Berlian Sdn for about 105.2 million baht Source text for Eikon: Further company coverage: * Qtrly total revenue 995.2 million baht versus 813 million baht * Quarterly net profit of 174.9 million Baht versus 313.3 million Baht * FY net profit 826.4 million baht versus 940.5 million baht Source text for Eikon: Further company coverage: Quote and financial data from Refinitiv. Fund performance data provided by Lipper. All quotes delayed a minimum of 15 minutes. All quotes delayed a minimum of 15 minutes. See here for a complete list of exchanges and delays. Access to this page has been denied because we believe you are using automation tools to browse the website. This may happen as a result of the following: Please make sure that Javascript and cookies are enabled on your browser and that you are not blocking them from loading. Reference ID: #c076a990-9517-11ea-a53b-a1e73bc0a9fa Powered by PerimeterX , Inc.\""
      ]
     },
     "execution_count": 32,
     "metadata": {},
     "output_type": "execute_result"
    }
   ],
   "source": [
    "corpus"
   ]
  },
  {
   "cell_type": "markdown",
   "metadata": {
    "slideshow": {
     "slide_type": "slide"
    }
   },
   "source": [
    "### BERT based Text Summarization"
   ]
  },
  {
   "cell_type": "code",
   "execution_count": 34,
   "metadata": {
    "ExecuteTime": {
     "end_time": "2020-05-13T12:47:04.066747Z",
     "start_time": "2020-05-13T12:46:52.191712Z"
    },
    "slideshow": {
     "slide_type": "slide"
    }
   },
   "outputs": [],
   "source": [
    "model = Summarizer()"
   ]
  },
  {
   "cell_type": "code",
   "execution_count": 35,
   "metadata": {
    "ExecuteTime": {
     "end_time": "2020-05-13T12:47:11.821516Z",
     "start_time": "2020-05-13T12:47:04.097134Z"
    },
    "slideshow": {
     "slide_type": "slide"
    }
   },
   "outputs": [
    {
     "name": "stdout",
     "output_type": "stream",
     "text": [
      "Discover Thomson Reuters More VGIn. The Company’s business activities are divided into three groups: mass transit, modern trade, and multimedia. Modern trade includes sales floor media, which is a choice of various formats of media located at the point of purchase or nearby, and non sale floor media located from the entrance area of the stores, car parks and mall areas, such as Tesco Lotus and Big C. Multimedia is the digital screen networks across the country, such as BTS and office towers. Industry Advertising Contact Info Floor 9, TST Tower 21 Wiphawadirangsit Road Chomphon, Chatuchak 10900 Thailand +66.22.738884 Executive Leadership Khiri Karnchanaphat Chairman of the Board Kawin Karnchanaphat Chairman of the Executive Board and Director Lap Shun Leung Chief Executive Officer Supharanan Tanwirat Chief Financial Officer and Executive Director Darani Phanklin Managing Director of Finance 2017 2018 2019 2020(E) 2017 2018 2019 2020(E) New Stories * TO INVEST IN 23 PERCENT OF SHARES IN KERRY EXPRESS FOR 5.90 BILLION BAHT Source text for Eikon: Further company coverage: * Q3 NET PROFIT 181.1 MILLION BAHT VERSUS 125.8 MILLION BAHT A YEAR AGO * CO & SUPREMO MAKE INVESTMENT IN RATIO OF 25 PERCENT AND 75 PERCENT RESPECTIVELY TOWARDS JV CO SUPREMO MEDIA CO LTD * Unit VGI Global Media (Malaysia) to acquire 4.3 million shares in Puncak Berlian Sdn for about 105.2 million baht Source text for Eikon: Further company coverage: * Qtrly total revenue 995.2 million baht versus 813 million baht * Quarterly net profit of 174.9 million Baht versus 313.3 million Baht * FY net profit 826.4 million baht versus 940.5 million baht Source text for Eikon: Further company coverage: Quote and financial data from Refinitiv. Fund performance data provided by Lipper. All quotes delayed a minimum of 15 minutes. See here for a complete list of exchanges and delays.\n",
      "\n",
      " Polarity of Article: 0.054112554112554105\n"
     ]
    }
   ],
   "source": [
    "result = model(corpus, min_length=30, algorithm='gmm',ratio=0.5, max_length=len(corpus))\n",
    "full = ''.join(result)\n",
    "print(full)\n",
    "testimonial = TextBlob(full)\n",
    "print('\\n Polarity of Article:', testimonial.sentiment.polarity)"
   ]
  },
  {
   "cell_type": "markdown",
   "metadata": {
    "slideshow": {
     "slide_type": "slide"
    }
   },
   "source": [
    "### Similarity Score Calculation using spaCy"
   ]
  },
  {
   "cell_type": "code",
   "execution_count": 36,
   "metadata": {
    "ExecuteTime": {
     "end_time": "2020-05-13T12:47:28.796524Z",
     "start_time": "2020-05-13T12:47:28.022001Z"
    },
    "slideshow": {
     "slide_type": "slide"
    }
   },
   "outputs": [
    {
     "name": "stdout",
     "output_type": "stream",
     "text": [
      "The Similarity Score of Summarized Text is:  91.2161212390825\n"
     ]
    }
   ],
   "source": [
    "extraction = spacy_nlp(full)\n",
    "similarity_score = extraction.similarity(kyc_doc)\n",
    "print('The Similarity Score of Summarized Text is: ', similarity_score*100)"
   ]
  },
  {
   "cell_type": "code",
   "execution_count": null,
   "metadata": {},
   "outputs": [],
   "source": []
  }
 ],
 "metadata": {
  "celltoolbar": "Slideshow",
  "kernelspec": {
   "display_name": "Python 3.7.4 64-bit",
   "language": "python",
   "name": "python37464bitd354516f517147279a113529c8fe5e5f"
  },
  "language_info": {
   "codemirror_mode": {
    "name": "ipython",
    "version": 3
   },
   "file_extension": ".py",
   "mimetype": "text/x-python",
   "name": "python",
   "nbconvert_exporter": "python",
   "pygments_lexer": "ipython3",
   "version": "3.7.7"
  },
  "toc": {
   "base_numbering": 1,
   "nav_menu": {},
   "number_sections": true,
   "sideBar": true,
   "skip_h1_title": false,
   "title_cell": "Table of Contents",
   "title_sidebar": "Contents",
   "toc_cell": false,
   "toc_position": {},
   "toc_section_display": true,
   "toc_window_display": false
  },
  "varInspector": {
   "cols": {
    "lenName": 16,
    "lenType": 16,
    "lenVar": 40
   },
   "kernels_config": {
    "python": {
     "delete_cmd_postfix": "",
     "delete_cmd_prefix": "del ",
     "library": "var_list.py",
     "varRefreshCmd": "print(var_dic_list())"
    },
    "r": {
     "delete_cmd_postfix": ") ",
     "delete_cmd_prefix": "rm(",
     "library": "var_list.r",
     "varRefreshCmd": "cat(var_dic_list()) "
    }
   },
   "position": {
    "height": "377px",
    "left": "1070px",
    "right": "20px",
    "top": "120px",
    "width": "350px"
   },
   "types_to_exclude": [
    "module",
    "function",
    "builtin_function_or_method",
    "instance",
    "_Feature"
   ],
   "window_display": false
  }
 },
 "nbformat": 4,
 "nbformat_minor": 4
}
